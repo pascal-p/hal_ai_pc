{
 "cells": [
  {
   "cell_type": "markdown",
   "metadata": {},
   "source": [
    "# Restricted Boltzmann Machines (RBM)"
   ]
  },
  {
   "cell_type": "markdown",
   "metadata": {},
   "source": [
    "## 1. Introduction\n",
    "**Restricted Boltzmann Machine (RBM)**: RBMs are shallow neural nets that learn to reconstruct data by themselves in an unsupervised fashion.  \n",
    "\n",
    "\n",
    "#### Why are RBMs important?\n",
    "Because they can automatically extract **meaningful** features from a given input.\n",
    "\n",
    "\n",
    "#### How does it work?\n",
    "a RBM is a 2 layer neural network. Simply, RBM takes the inputs and translates those into a set of binary values that represents them in the hidden layer. Then, these numbers can be translated back to reconstruct the inputs. Through several forward and backward passes, the RBM will be trained, and a trained RBM can reveal which features are the most important ones when detecting patterns.   \n",
    "\n",
    "\n",
    "#### What are the applications of RBM?\n",
    "RBM is useful for:\n",
    "- <a href='http://www.cs.utoronto.ca/~hinton/absps/netflixICML.pdf'>Collaborative Filtering</a>, \n",
    "- dimensionality reduction, \n",
    "- classification, \n",
    "- regression, \n",
    "- feature learning, \n",
    "- topic modeling and even \n",
    "- **Deep Belief Networks**.\n",
    "\n",
    "\n",
    "#### Is RBM a generative or Discriminative model?\n",
    "RBM is a **generative model**. Let me explain it by showing what is different between discriminative and generative models: \n",
    "\n",
    "**Discriminative**:  \n",
    "Consider a classification problem in which we want to learn to distinguish between Sedan cars (y = 1) and SUV cars (y = 0), based on some features of cars. Given a training set, an algorithm like logistic regression tries to find a straight line—that is, a decision boundary—that separates the SUV from the Sedan.  \n",
    "\n",
    "**Generative**:  \n",
    "Looking at cars, we can build a model of what Sedan cars look like. Then, looking at SUVs, we can build a separate model of what SUV cars look like. Finally, to classify a new car, we can match the new car against the Sedan model, and match it against the SUV model, to see whether the new car looks more like the SUV or the Sedan. \n",
    "\n",
    "Generative Models specify a probability distribution over a dataset of input vectors. We can do both *supervised* and *unsupervised tasks* with generative models:\n",
    "\n",
    "- In an unsupervised task, we try to form a model for $P(x)$, where P is the probability given x as an input vector.\n",
    "- In the supervised task, we first form a model for $P(x|y)$, where P is the probability of x given y (the label for x).   \n",
    "  For example, if y = 0 indicates whether a car is a SUV or y = 1 indicates indicate a car is a Sedan, then $p(x|y = 0)$ models the distribution of SUVs’ features, and $p(x|y = 1)$ models the distribution of Sedans’ features.  \n",
    "  If we manage to find $P(x|y)$ and $P(y)$, then we can use <code>Bayes rule</code> to estimate P(y|x), because: $p(y|x) = \\frac{p(x|y)p(y)}{p(x)}$\n",
    "\n",
    "Now the question is, can we build a generative model, and then use it to create synthetic data by directly sampling from the modeled probability distribution? Let's see. "
   ]
  },
  {
   "cell_type": "markdown",
   "metadata": {},
   "source": [
    "## 2. Initialization\n",
    "\n",
    "First we have to load the utility file which contains different utility functions that are not connected\n",
    "in any way to the networks presented in the tutorials, but help in processing the outputs into a more understandable way."
   ]
  },
  {
   "cell_type": "code",
   "execution_count": 1,
   "metadata": {},
   "outputs": [],
   "source": [
    "import urllib.request\n",
    "\n",
    "with urllib.request.urlopen(\"http://deeplearning.net/tutorial/code/utils.py\") as url:\n",
    "    response = url.read()\n",
    "    \n",
    "target = open('utils.py', 'w')\n",
    "target.write(response.decode('utf-8'))\n",
    "target.close()"
   ]
  },
  {
   "cell_type": "markdown",
   "metadata": {},
   "source": [
    "Now, we load in all the packages that we use to create the net including the TensorFlow package:"
   ]
  },
  {
   "cell_type": "code",
   "execution_count": 2,
   "metadata": {},
   "outputs": [],
   "source": [
    "import tensorflow as tf\n",
    "import numpy as np\n",
    "from tensorflow.examples.tutorials.mnist import input_data\n",
    "\n",
    "# !pip install pillow\n",
    "from PIL import Image\n",
    "from utils import tile_raster_images\n",
    "import matplotlib.pyplot as plt\n",
    "\n",
    "%matplotlib inline"
   ]
  },
  {
   "cell_type": "markdown",
   "metadata": {},
   "source": [
    "## 3. RBM layers\n",
    "\n",
    "An RBM has two layers.  \n",
    "- The first layer of the RBM is called the **visible** (or input layer) with $J$ neurons.  \n",
    "  Imagine that our toy example, has only vectors with 7 values, so the visible layer must have $J=7$ input nodes.\n",
    "\n",
    "\n",
    "- The second layer is the **hidden** layer, which possesses $I$ neurons in our case.  \n",
    "  Each hidden node can have either 0 or 1 values (i.e., $si = 1\\ \\lor\\ si = 0$) with a probability that is a logistic function of the inputs it receives from the other $J$ visible units, called for example, $p(si = 1)$.  \n",
    "  For our toy sample, we'll use 2 nodes in the hidden layer, so $I = 2$.\n",
    "\n",
    "<center><img src=\"https://ibm.box.com/shared/static/eu26opvcefgls6vnwuo29uwp0nudmokh.png\" alt=\"RBM Model\" style=\"width: 400px;\"></center>"
   ]
  },
  {
   "cell_type": "code",
   "execution_count": 3,
   "metadata": {},
   "outputs": [],
   "source": [
    "J = 7 # 7 neurons for visible layer\n",
    "I = 2 # 2 neurons for hidden layer"
   ]
  },
  {
   "cell_type": "markdown",
   "metadata": {},
   "source": [
    "Each node in the first layer also has a **bias**.  \n",
    "We will denote the bias as “v_bias” for the visible units. The **v_bias** is shared among all visible units.\n",
    "\n",
    "We also define the **bias** of second layer as well.  \n",
    "We will denote the bias as “h_bias” for the hidden units. The **h_bias** is shared among all hidden units"
   ]
  },
  {
   "cell_type": "code",
   "execution_count": 4,
   "metadata": {},
   "outputs": [],
   "source": [
    "v_bias = tf.placeholder(\"float\", [J])\n",
    "h_bias = tf.placeholder(\"float\", [I])"
   ]
  },
  {
   "cell_type": "markdown",
   "metadata": {},
   "source": [
    "We have to define the weights among the input layer and hidden layer nodes.  \n",
    "In the weight matrix, the number of rows are equal to the *number of input nodes* (=$J = 7$, number of visible neurons), and the number of columns are equal to the *number of output nodes* (=$I = 2$, number of hidden neurons).  \n",
    "Let <b>W</b> be the Tensor of $7x2$ that represents weights between neurons. "
   ]
  },
  {
   "cell_type": "code",
   "execution_count": 5,
   "metadata": {},
   "outputs": [],
   "source": [
    "W = tf.constant(np.random.normal(loc=0.0, scale=1.0, size=(J, I)).astype(np.float32))\n",
    "# loc == mean, while scale is stdev"
   ]
  },
  {
   "cell_type": "markdown",
   "metadata": {},
   "source": [
    "## 4. What RBM can do after training?\n",
    "\n",
    "Think of RBM as a model that has been trained based on images of a dataset of many SUV and Sedan cars.  \n",
    "Also, imagine that the RBM network has only two hidden nodes, one for the weight and one for the size of the cars. In a sense, their different configurations represent different cars, one represents SUV cars and one the Sedan.  \n",
    "In a training process, through *many forward and backward passes*, RBM adjust its weights to send a stronger signal to either the SUV node (0, 1) or the Sedan node (1, 0) in the hidden layer, given the pixels of images. Now, given a SUV in hidden layer, which distribution of pixels should we expect?  \n",
    "RBM can give you 2 things: \n",
    " - First, it encodes your images in hidden layer. \n",
    " - Second, it gives you the probability of observing a case, given some hidden values.\n",
    "\n",
    "\n",
    "### How to inference?\n",
    "\n",
    "RBM has two phases:\n",
    "1. Forward Pass\n",
    "2. Backward Pass or Reconstruction\n",
    "\n",
    "**Phase 1) Forward pass**:  \n",
    "Input one training sample (one image) **X** through all visible nodes, and pass it to all hidden nodes. Processing happens in each node in the hidden layer. This computation begins by making *stochastic decisions* about whether to transmit that input or not (i.e. to determine the state of each hidden layer).  \n",
    "At the hidden layer's nodes, **X** is multiplied by a **$W_{ij}$** and added to **h_bias**. The result of those two operations is fed into the sigmoid function, which produces the node’s output, $p({h_j})$, where $j$ is the unit number.  \n",
    "$p({h_j})= \\sigma(\\sum_i w_{ij} x_i)$, where $\\sigma()$ is the logistic function.\n",
    "\n",
    "\n",
    "Now let's see what $p({h_j})$ represents.  \n",
    "In fact, it is the probabilities of the hidden units. And, all values together are called **probability distribution**. That is, RBM uses inputs x to make predictions about hidden node activations.  \n",
    "For example, imagine that the values of $h_p$ for the first training item is [0.51 0.84]. It tells you what is the conditional probability for each hidden neuron to be at Phase 1): \n",
    "- $p(h_{1} = 1|V) = 0.51$\n",
    "- $p(h_{2} = 1|V) = 0.84$\n",
    "\n",
    "\n",
    "As a result, for each row in the training set, **a vector/tensor** is generated, which in our case it is of size [1x2], and totally n vectors ($p({h})$=[nx2]).  \n",
    "We then turn unit $h_j$ on with probability $p(h_{j}|V)$, and turn it off with probability $1 - p(h_{j}|V)$.  \n",
    "Therefore, the conditional probability of a configuration of h given v (for a training sample) is:  \n",
    "$p(\\mathbf{h} \\mid \\mathbf{v}) = \\prod_{j=0}^H p(h_j \\mid \\mathbf{v})$\n",
    "\n",
    "Now, sample a hidden activation vector <b>h</b> from this probability distribution $p({h_j})$. That is, we sample the activation vector from the probability distribution of hidden layer values. "
   ]
  },
  {
   "cell_type": "markdown",
   "metadata": {},
   "source": [
    "Before we go further, let's look at a toy example for one case out of all inputs.  \n",
    "Assume that we have a trained RBM, and a very simple input vector such as [1.0, 0.0, 0.0, 1.0, 0.0, 0.0, 0.0]. Let's see what would be the output of the forward pass:"
   ]
  },
  {
   "cell_type": "code",
   "execution_count": 7,
   "metadata": {},
   "outputs": [
    {
     "name": "stdout",
     "output_type": "stream",
     "text": [
      "Input:  [[1. 0. 0. 1. 0. 0. 0.]]\n",
      "hb (hidden bias):  [0.1 0.1]\n",
      "weights:  [[ 1.6770061  -1.1442037 ]\n",
      " [ 0.11782979  0.4473513 ]\n",
      " [ 0.42891887  0.21179928]\n",
      " [-0.14887114  0.05683048]\n",
      " [ 1.3529667   0.92700684]\n",
      " [-0.5436233  -0.9067097 ]\n",
      " [-0.5042872  -0.03343701]]\n",
      "p(h|v):  [[0.83591396 0.27143124]]\n",
      "h0 states: [[0. 0.]]\n"
     ]
    }
   ],
   "source": [
    "sess = tf.Session()\n",
    "X = tf.constant([[1.0, 0.0, 0.0, 1.0, 0.0, 0.0, 0.0]])\n",
    "v_state = X\n",
    "print(\"Input: \", sess.run(v_state))\n",
    "\n",
    "h_bias = tf.constant([0.1, 0.1])\n",
    "print(\"hb (hidden bias): \", sess.run(h_bias))\n",
    "print(\"weights: \", sess.run(W))\n",
    "\n",
    "# Calculate the probabilities of turning the hidden units on:\n",
    "h_prob = tf.nn.sigmoid(tf.matmul(v_state, W) + h_bias)  # probabilities of the hidden units\n",
    "print(\"p(h|v): \", sess.run(h_prob))\n",
    "\n",
    "# Draw samples from the distribution:\n",
    "h_state = tf.nn.relu(tf.sign(h_prob - tf.random_uniform(tf.shape(h_prob)))) # states\n",
    "print(\"h0 states:\", sess.run(h_state))"
   ]
  },
  {
   "cell_type": "markdown",
   "metadata": {},
   "source": [
    "**Phase 2) Backward Pass (Reconstruction)**:\n",
    "The RBM reconstructs data by making several forward and backward passes between the visible and hidden layers.\n",
    "\n",
    "So, in the second phase (i.e. reconstruction phase), the samples from the hidden layer (i.e. h) play the role of input. That is, <b>h</b> becomes the input in the backward pass. The same weight matrix and visible layer biases are used to go through the sigmoid function. The produced output is a reconstruction which is an approximation of the original input."
   ]
  },
  {
   "cell_type": "code",
   "execution_count": 8,
   "metadata": {},
   "outputs": [
    {
     "name": "stdout",
     "output_type": "stream",
     "text": [
      "(visible) bias:  [0.1 0.2 0.1 0.1 0.1 0.2 0.1]\n",
      "p(vi∣h):  [[0.65312463 0.68247753 0.6771529  0.50198984 0.9152874  0.2226425\n",
      "  0.39228338]]\n",
      "v probability states:  [[1. 1. 1. 0. 1. 0. 0.]]\n"
     ]
    }
   ],
   "source": [
    "vb = tf.constant([0.1, 0.2, 0.1, 0.1, 0.1, 0.2, 0.1])\n",
    "print(\"(visible) bias: \", sess.run(vb))\n",
    "\n",
    "v_prob = sess.run(tf.nn.sigmoid(tf.matmul(h_state, tf.transpose(W)) + vb))\n",
    "print (\"p(vi∣h): \", v_prob)\n",
    "\n",
    "v_state = tf.nn.relu(tf.sign(v_prob - tf.random_uniform(tf.shape(v_prob))))\n",
    "print (\"v probability states: \", sess.run(v_state))"
   ]
  },
  {
   "cell_type": "markdown",
   "metadata": {},
   "source": [
    "RBM learns a probability distribution over the input, and then, after being trained, the RBM can generate new samples from the learned probability distribution. As you know, <b>probability distribution</b>, is a mathematical function that provides the probabilities of occurrence of different possible outcomes in an experiment.\n",
    "\n",
    "The (conditional) probability distribution over the visible units v is given by\n",
    "\n",
    "$p(\\mathbf{v} \\mid \\mathbf{h}) = \\prod_{i=0}^V p(v_i \\mid \\mathbf{h}),$\n",
    "\n",
    "\n",
    "where,\n",
    "\n",
    "$p(v_i \\mid \\mathbf{h}) = \\sigma\\left(a_i + \\sum_{j=0}^H w_{ji} h_j \\right)$\n",
    "\n",
    "so, given current state of hidden units and weights, what is the probability of generating [1. 0. 0. 1. 0. 0. 0.] in reconstruction phase, based on the above <b>probability distribution</b> function?"
   ]
  },
  {
   "cell_type": "code",
   "execution_count": 9,
   "metadata": {},
   "outputs": [
    {
     "name": "stdout",
     "output_type": "stream",
     "text": [
      "[[1. 0. 0. 1. 0. 0. 0.]]\n",
      "[0.65312463 0.68247753 0.6771529  0.50198984 0.9152874  0.2226425\n",
      " 0.39228338]\n"
     ]
    },
    {
     "data": {
      "text/plain": [
       "0.0013450313994285295"
      ]
     },
     "execution_count": 9,
     "metadata": {},
     "output_type": "execute_result"
    }
   ],
   "source": [
    "inp = sess.run(X)\n",
    "print(inp)\n",
    "print(v_prob[0])\n",
    "v_probability = 1\n",
    "for elm, p in zip(inp[0],v_prob[0]) :\n",
    "    if elm == 1:\n",
    "        v_probability *= p\n",
    "    else:\n",
    "        v_probability *= (1-p)\n",
    "v_probability"
   ]
  },
  {
   "cell_type": "markdown",
   "metadata": {},
   "source": [
    "How similar X and V vectors are? Of course, the reconstructed values most likely will not look anything like the input vector because our network has not trained yet.  \n",
    "Our objective is to train the model in such a way that the input vector and reconstructed vector are the same. Therefore, based on how different the input values look to the ones that we just reconstructed, the weights are adjusted. "
   ]
  },
  {
   "cell_type": "markdown",
   "metadata": {},
   "source": [
    "## 5. MNIST"
   ]
  },
  {
   "cell_type": "markdown",
   "metadata": {},
   "source": [
    "We will be using the MNIST dataset to practice the usage of RBMs. The following cell loads the MNIST dataset."
   ]
  },
  {
   "cell_type": "code",
   "execution_count": 11,
   "metadata": {
    "scrolled": true
   },
   "outputs": [
    {
     "name": "stdout",
     "output_type": "stream",
     "text": [
      "Extracting MNIST_data/train-images-idx3-ubyte.gz\n",
      "Extracting MNIST_data/train-labels-idx1-ubyte.gz\n",
      "Extracting MNIST_data/t10k-images-idx3-ubyte.gz\n",
      "Extracting MNIST_data/t10k-labels-idx1-ubyte.gz\n"
     ]
    }
   ],
   "source": [
    "mnist = input_data.read_data_sets(\"MNIST_data/\", one_hot=True)\n",
    "trX, trY = mnist.train.images, mnist.train.labels, \n",
    "teX, teY = mnist.test.images, mnist.test.labels"
   ]
  },
  {
   "cell_type": "markdown",
   "metadata": {},
   "source": [
    "Lets look at the dimension of the images."
   ]
  },
  {
   "cell_type": "code",
   "execution_count": 12,
   "metadata": {},
   "outputs": [
    {
     "data": {
      "text/plain": [
       "(784,)"
      ]
     },
     "execution_count": 12,
     "metadata": {},
     "output_type": "execute_result"
    }
   ],
   "source": [
    "trX[1].shape"
   ]
  },
  {
   "cell_type": "markdown",
   "metadata": {},
   "source": [
    "MNIST images have 784 pixels, so the visible layer must have 784 input nodes.  For our case, we'll use 50 nodes in the hidden layer, so i = 50."
   ]
  },
  {
   "cell_type": "code",
   "execution_count": 24,
   "metadata": {},
   "outputs": [],
   "source": [
    "J = 784 # 784 neurons for visible layer\n",
    "I = 50  # 50 neurons for hidden layer\n",
    "\n",
    "vb = tf.placeholder(\"float\", [J])\n",
    "hb = tf.placeholder(\"float\", [I])"
   ]
  },
  {
   "cell_type": "markdown",
   "metadata": {},
   "source": [
    "Let <b>W</b> be the Tensor of 784x50 (784 - number of visible neurons, 50 - number of hidden neurons) that represents weights between the neurons. "
   ]
  },
  {
   "cell_type": "code",
   "execution_count": 25,
   "metadata": {},
   "outputs": [],
   "source": [
    "W = tf.placeholder(\"float\", [J, I])"
   ]
  },
  {
   "cell_type": "markdown",
   "metadata": {},
   "source": [
    "Lets define the visible layer:"
   ]
  },
  {
   "cell_type": "code",
   "execution_count": 26,
   "metadata": {},
   "outputs": [],
   "source": [
    "v0_state = tf.placeholder(\"float\", [None, J])"
   ]
  },
  {
   "cell_type": "markdown",
   "metadata": {},
   "source": [
    "Now, we can define hidden layer:"
   ]
  },
  {
   "cell_type": "code",
   "execution_count": 27,
   "metadata": {},
   "outputs": [],
   "source": [
    "h0_prob  = tf.nn.sigmoid(tf.matmul(v0_state, W) + hb)                          # prob. of the hidden units\n",
    "h0_state = tf.nn.relu(tf.sign(h0_prob - tf.random_uniform(tf.shape(h0_prob)))) # sample_h_given_X"
   ]
  },
  {
   "cell_type": "markdown",
   "metadata": {},
   "source": [
    "Now, we define reconstruction part:"
   ]
  },
  {
   "cell_type": "code",
   "execution_count": 28,
   "metadata": {},
   "outputs": [],
   "source": [
    "v1_prob  = tf.nn.sigmoid(tf.matmul(h0_state, tf.transpose(W)) + vb)            # prob. of the visible units\n",
    "v1_state = tf.nn.relu(tf.sign(v1_prob - tf.random_uniform(tf.shape(v1_prob)))) # sample_v_given_h"
   ]
  },
  {
   "cell_type": "markdown",
   "metadata": {},
   "source": [
    "### What is objective function?\n",
    "\n",
    "<b>Goal</b>: Maximize the likelihood of our data being drawn from that distribution\n",
    "\n",
    "<b>Calculate error:</b>  \n",
    "In each epoch, we compute the \"error\" as a sum of the squared difference between step 1 and step n,\n",
    "e.g the error shows the difference between the data and its reconstruction.\n",
    "\n",
    "<b>Note:</b> tf.reduce_mean computes the mean of elements across dimensions of a tensor."
   ]
  },
  {
   "cell_type": "code",
   "execution_count": 29,
   "metadata": {},
   "outputs": [],
   "source": [
    "err = tf.reduce_mean(tf.square(v0_state - v1_state))"
   ]
  },
  {
   "cell_type": "markdown",
   "metadata": {},
   "source": [
    "### How to train the model?\n",
    "\n",
    "<b>Warning!!</b> The following part discuss how to train the model which needs some algebra background. Still, you can skip this part and run the next cells.\n",
    "\n",
    "As mentioned, we want to give a high probability to the input data we train on. So, in order to train an RBM, we have to maximize the product of probabilities assigned to all rows v (images) in the training set V (a matrix, where each row of it is treated as a visible vector v):\n",
    "\n",
    "<img src=\"https://wikimedia.org/api/rest_v1/media/math/render/svg/d42e9f5aad5e1a62b11b119c9315236383c1864a\">\n",
    "\n",
    "\n",
    "Which is equivalent to maximizing the expected log probability of V (this because the log function is strictly monotone, and dealing with sums instead of products avoid numerical problems):\n",
    "\n",
    "<img src=\"https://wikimedia.org/api/rest_v1/media/math/render/svg/ba0ceed99dca5ff1d21e5ace23f5f2223f19efc0\">\n",
    "\n",
    "\n",
    "So, we have to update the weights $w_{ij}$  to increase $p(v)$ for all v in our training data during training. So we have to calculate the derivative:\n",
    "\n",
    "\n",
    "$$\\frac{\\partial \\log p(\\mathbf v)}{\\partial w_{ij}}$$\n",
    "\n",
    "This cannot be easily done by typical <b>gradient descent (SGD)</b>, therefore we need to use another approach, which has 2 steps:\n",
    "1. Gibbs Sampling\n",
    "2. Contrastive Divergence\n",
    "  \n",
    "    \n",
    "#### 1. Gibbs Sampling   \n",
    "First, given an input vector v we are using $p(h|v)$ for prediction of the hidden values $h$. \n",
    "- $p(h|v) = \\sigma(X \\otimes W + h_b)$\n",
    "- h0 = sampleProb(h0)\n",
    "    \n",
    "Then, knowing the hidden values, we use $p(v|h)$ for reconstructing of new input values $v$. \n",
    "- $p(v|h) = \\sigma(h_0 \\otimes W^T + v_b)$\n",
    "- v1 = sampleProb(v1) (Sample v given h)\n",
    "        \n",
    "This process is repeated k times. After k iterations we obtain another input vector $v_k$ which was recreated from original input values $v_0$ or $X$.\n",
    "\n",
    "Reconstruction steps:\n",
    "- Get one data point from data set, like <i>x</i>, and pass it through the net\n",
    "- Pass 0: $(x)  \\Rightarrow (h_0) \\Rightarrow (v_1)$  ($v_1$ is reconstruction of the first pass)\n",
    "- Pass 1: $(v_1) \\Rightarrow  (h_1) \\Rightarrow (v_2)$ ($v_2$ is reconstruction of the second pass)\n",
    "- Pass 2: $(v_2) \\Rightarrow  (h_2) \\Rightarrow (v_3)$ ($v_3$ is reconstruction of the third pass)\n",
    "- Pass n: $(v_k) \\Rightarrow  (h_{k+1}) \\Rightarrow (v_{k+1})$ ($v_k$ is reconstruction of the nth pass)\n",
    "\n",
    "        \n",
    "##### What is sampling here (sample Prob)?\n",
    "\n",
    "In *forward pass*:  \n",
    "We randomly set the values of each $h_i$ to be 1 with probability $\\sigma(v \\otimes W + hb)$.  \n",
    "- To sample h given v means to sample from the conditional probability distribution $P(h|v)$. It means that you are asking what are the probabilities of getting a specific set of values for the hidden neurons, given the values v for the visible neurons, and sampling from this probability distribution.  \n",
    "\n",
    "\n",
    "In *reconstruction*:  \n",
    "We randomly set the values of each $v_i$ to be 1 with probability \n",
    "$\\sigma(h \\otimes transpose(W) + v_b)$.\n",
    "\n",
    "#### 2. Contrastive Divergence (CD-k)\n",
    "The update of the weight matrix is done during the Contrastive Divergence step. \n",
    "\n",
    "Vectors $v_0$ and $v_k$ are used to calculate the activation probabilities for hidden values $h_0$ and $h_k$. The difference between the outer products of those probabilities with input vectors $v_0$ and $v_k$ results in the update matrix:  \n",
    "$\\Delta W =v_0 \\otimes h_0 - v_k \\otimes h_k$ \n",
    "\n",
    "Contrastive Divergence is actually a matrix of values that is computed and used to adjust values of the W matrix.  \n",
    "Changing W incrementally leads to training of W values. Then on each step (epoch), W is updated to a new value W' through the equation below:  \n",
    "$W' = W + \\alpha \\times \\Delta W$ \n",
    "\n",
    "**What is $\\alpha$?**   Here, $\\alpha$ is some small step rate, also known as the \"learning rate\"."
   ]
  },
  {
   "cell_type": "markdown",
   "metadata": {},
   "source": [
    "Ok, lets assume that k=1, that is we just get one more step:"
   ]
  },
  {
   "cell_type": "code",
   "execution_count": 30,
   "metadata": {},
   "outputs": [],
   "source": [
    "h1_prob  = tf.nn.sigmoid(tf.matmul(v1_state, W) + hb)\n",
    "h1_state = tf.nn.relu(tf.sign(h1_prob - tf.random_uniform(tf.shape(h1_prob)))) # sample_h_given_X"
   ]
  },
  {
   "cell_type": "code",
   "execution_count": 31,
   "metadata": {},
   "outputs": [],
   "source": [
    "alpha = 0.01\n",
    "W_Delta = tf.matmul(tf.transpose(v0_state), h0_prob) - tf.matmul(tf.transpose(v1_state), h1_prob)\n",
    "\n",
    "update_w  = W  + alpha * W_Delta\n",
    "update_vb = vb + alpha * tf.reduce_mean(v0_state - v1_state, 0)\n",
    "update_hb = hb + alpha * tf.reduce_mean(h0_state - h1_state, 0)"
   ]
  },
  {
   "cell_type": "markdown",
   "metadata": {},
   "source": [
    "Let's start a session and initialize the variables:"
   ]
  },
  {
   "cell_type": "code",
   "execution_count": 32,
   "metadata": {},
   "outputs": [],
   "source": [
    "cur_w  = np.zeros([J, I], np.float32)\n",
    "cur_vb = np.zeros([J], np.float32)\n",
    "cur_hb = np.zeros([I], np.float32)\n",
    "prv_w  = np.zeros([J, I], np.float32)\n",
    "prv_vb = np.zeros([J], np.float32)\n",
    "prv_hb = np.zeros([I], np.float32)\n",
    "\n",
    "sess = tf.Session()\n",
    "init = tf.global_variables_initializer()\n",
    "sess.run(init)"
   ]
  },
  {
   "cell_type": "markdown",
   "metadata": {},
   "source": [
    "Lets look at the error of the first run:"
   ]
  },
  {
   "cell_type": "code",
   "execution_count": 33,
   "metadata": {},
   "outputs": [
    {
     "data": {
      "text/plain": [
       "0.48125872"
      ]
     },
     "execution_count": 33,
     "metadata": {},
     "output_type": "execute_result"
    }
   ],
   "source": [
    "sess.run(err, feed_dict={v0_state: trX, \n",
    "                         W: prv_w, \n",
    "                         vb: prv_vb, \n",
    "                         hb: prv_hb})"
   ]
  },
  {
   "cell_type": "code",
   "execution_count": 34,
   "metadata": {},
   "outputs": [
    {
     "name": "stdout",
     "output_type": "stream",
     "text": [
      "Epoch:  1 reconstruction error: 0.08564\n",
      "Epoch:  2 reconstruction error: 0.08292\n",
      "Epoch:  3 reconstruction error: 0.08188\n",
      "Epoch:  4 reconstruction error: 0.08196\n",
      "Epoch:  5 reconstruction error: 0.08149\n",
      "Epoch:  6 reconstruction error: 0.08132\n",
      "Epoch:  7 reconstruction error: 0.08121\n"
     ]
    },
    {
     "data": {
      "image/png": "[encoded data removed]",
      "text/plain": [
       "<Figure size 432x288 with 1 Axes>"
      ]
     },
     "metadata": {
      "needs_background": "light"
     },
     "output_type": "display_data"
    }
   ],
   "source": [
    "# Parameters\n",
    "\n",
    "epochs = 7\n",
    "batchsize = 100\n",
    "weights = []\n",
    "errors = []\n",
    "\n",
    "for epoch in range(epochs):\n",
    "    for start, end in zip(range(0, len(trX), batchsize), \n",
    "                          range(batchsize, len(trX), batchsize)):\n",
    "        batch  = trX[start:end]\n",
    "        cur_w  = sess.run(update_w, feed_dict={ v0_state: batch, W: prv_w, vb: prv_vb, hb: prv_hb})\n",
    "        cur_vb = sess.run(update_vb, feed_dict={v0_state: batch, W: prv_w, vb: prv_vb, hb: prv_hb})\n",
    "        cur_hb = sess.run(update_hb, feed_dict={ v0_state: batch, W: prv_w, vb: prv_vb, hb: prv_hb})\n",
    "        prv_w  = cur_w\n",
    "        prv_vb = cur_vb\n",
    "        prv_hb = cur_hb\n",
    "        if start % 10000 == 0:\n",
    "            errors.append(sess.run(err, feed_dict={v0_state: trX, W: cur_w, vb: cur_vb, hb: cur_hb}))\n",
    "            weights.append(cur_w)\n",
    "    print ('Epoch: %2d' % (epoch + 1),'reconstruction error: %1.5f' % errors[-1])\n",
    "\n",
    "plt.plot(errors)\n",
    "plt.xlabel(\"Batch Number\")\n",
    "plt.ylabel(\"Error\")\n",
    "plt.show()"
   ]
  },
  {
   "cell_type": "markdown",
   "metadata": {},
   "source": [
    "What is the final weight after training?"
   ]
  },
  {
   "cell_type": "code",
   "execution_count": 35,
   "metadata": {},
   "outputs": [
    {
     "name": "stdout",
     "output_type": "stream",
     "text": [
      "[[-0.82444954 -0.95416635 -0.99185526 ... -0.9588285  -0.8854476\n",
      "  -0.93689704]\n",
      " [-1.4132135  -1.4573773  -1.3621355  ... -1.3961023  -1.341823\n",
      "  -1.2845292 ]\n",
      " [-0.33832034 -0.3055832  -0.40017316 ... -0.3369336  -0.27491567\n",
      "  -0.31046155]\n",
      " ...\n",
      " [-0.3927998  -0.4164678  -0.4927344  ... -0.4278576  -0.40087128\n",
      "  -0.37061417]\n",
      " [-0.6373657  -0.64658654 -0.6589708  ... -0.62887645 -0.60578346\n",
      "  -0.6198169 ]\n",
      " [-0.50108516 -0.52005875 -0.607224   ... -0.55772966 -0.50685704\n",
      "  -0.60317403]]\n"
     ]
    }
   ],
   "source": [
    "uw = weights[-1].T\n",
    "print(uw) # a weight matrix of shape (50,784)"
   ]
  },
  {
   "cell_type": "markdown",
   "metadata": {},
   "source": [
    "### Learned features"
   ]
  },
  {
   "cell_type": "markdown",
   "metadata": {},
   "source": [
    "We can take each hidden unit and visualize the connections between that hidden unit and each element in the input vector.  \n",
    "In our case, we have 50 hidden units. Lets visualize those."
   ]
  },
  {
   "cell_type": "markdown",
   "metadata": {},
   "source": [
    "Let's plot the current weights:\n",
    "<b>tile_raster_images</b> helps in generating an easy to grasp image from a set of samples or weights. It transform the <b>uw</b> (with one flattened image per row of size 784), into an array (of size $25\\times20$) in which images are reshaped and laid out like tiles on a floor."
   ]
  },
  {
   "cell_type": "code",
   "execution_count": 36,
   "metadata": {},
   "outputs": [
    {
     "data": {
      "image/png": "[encoded data removed]",
      "text/plain": [
       "<Figure size 1296x1296 with 1 Axes>"
      ]
     },
     "metadata": {
      "needs_background": "light"
     },
     "output_type": "display_data"
    }
   ],
   "source": [
    "tile_raster_images(X=cur_w.T, img_shape=(28, 28), tile_shape=(5, 10), tile_spacing=(1, 1))\n",
    "\n",
    "import matplotlib.pyplot as plt\n",
    "from PIL import Image\n",
    "%matplotlib inline\n",
    "\n",
    "image = Image.fromarray(tile_raster_images(X=cur_w.T, img_shape=(28, 28), tile_shape=(5, 10), \n",
    "                                           tile_spacing=(1, 1)))\n",
    "\n",
    "### Plot image\n",
    "plt.rcParams['figure.figsize'] = (18.0, 18.0)\n",
    "imgplot = plt.imshow(image)\n",
    "imgplot.set_cmap('gray')  "
   ]
  },
  {
   "cell_type": "markdown",
   "metadata": {},
   "source": [
    "Each tile in the above visualization corresponds to a vector of connections between a hidden unit and visible layer's units. "
   ]
  },
  {
   "cell_type": "markdown",
   "metadata": {},
   "source": [
    "Let's look at one of the learned weights corresponding to one of hidden units for example. In this particular square, the gray color represents weight = 0, and the whiter it is, the more positive the weights are (closer to 1). Conversely, the darker pixels are, the more negative the weights. The positive pixels will increase the probability of activation in hidden units (after multiplying by input/visible pixels), and negative pixels will decrease the probability of a unit hidden to be 1 (activated).  \n",
    "So, why is this important? because we can see that this specific square (hidden unit) can detect a feature (e.g. a \"/\" shape) and if it exists in the input."
   ]
  },
  {
   "cell_type": "code",
   "execution_count": 38,
   "metadata": {},
   "outputs": [
    {
     "data": {
      "image/png": "[encoded data removed]",
      "text/plain": [
       "<Figure size 288x288 with 1 Axes>"
      ]
     },
     "metadata": {
      "needs_background": "light"
     },
     "output_type": "display_data"
    }
   ],
   "source": [
    "from PIL import Image\n",
    "image = Image.fromarray(tile_raster_images(X =cur_w.T[17:18], img_shape=(28, 28), \n",
    "                                           tile_shape=(1, 1), tile_spacing=(1, 1)))\n",
    "\n",
    "### Plot image\n",
    "plt.rcParams['figure.figsize'] = (4.0, 4.0)\n",
    "imgplot = plt.imshow(image)\n",
    "imgplot.set_cmap('gray')  "
   ]
  },
  {
   "cell_type": "markdown",
   "metadata": {},
   "source": [
    "Let's look at the reconstruction of an image now. Imagine that we have a destructed image of figure 3. Lets see if our trained network can fix it:\n",
    "\n",
    "First we plot the image:"
   ]
  },
  {
   "cell_type": "code",
   "execution_count": 39,
   "metadata": {
    "scrolled": true
   },
   "outputs": [
    {
     "name": "stdout",
     "output_type": "stream",
     "text": [
      "--2020-03-28 11:32:40--  https://ibm.box.com/shared/static/vvm1b63uvuxq88vbw9znpwu5ol380mco.jpg\n",
      "Resolving ibm.box.com (ibm.box.com)... 103.116.4.197\n",
      "Connecting to ibm.box.com (ibm.box.com)|103.116.4.197|:443... connected.\n",
      "HTTP request sent, awaiting response... 301 Moved Permanently\n",
      "Location: /public/static/vvm1b63uvuxq88vbw9znpwu5ol380mco.jpg [following]\n",
      "--2020-03-28 11:32:42--  https://ibm.box.com/public/static/vvm1b63uvuxq88vbw9znpwu5ol380mco.jpg\n",
      "Reusing existing connection to ibm.box.com:443.\n",
      "HTTP request sent, awaiting response... 301 Moved Permanently\n",
      "Location: https://ibm.ent.box.com/public/static/vvm1b63uvuxq88vbw9znpwu5ol380mco.jpg [following]\n",
      "--2020-03-28 11:32:43--  https://ibm.ent.box.com/public/static/vvm1b63uvuxq88vbw9znpwu5ol380mco.jpg\n",
      "Resolving ibm.ent.box.com (ibm.ent.box.com)... 103.116.4.211\n",
      "Connecting to ibm.ent.box.com (ibm.ent.box.com)|103.116.4.211|:443... connected.\n",
      "HTTP request sent, awaiting response... 302 Found\n",
      "Location: https://public.boxcloud.com/d/1/b1!FvBH9dP-1FZG6sy8fwPhVBL3ZUZnSUi5WqLxp-b0GZ7D8zKDmJDhj5SgWvG5k8qwg-m0KytEUTjoVq58tMLAMDBMoScGLDPP-wq2uV81kzcf188OF7GrVIQK7LEIr2KCi_zcxR_j4mgLEPQdODNoZVubeWC_7_T3Q2frVqWU114MfHzAuIZELMknNYtczcvBJgk8bwsEmHtwBYZpIczp0sVp39jm8dWv-teRluHyFMcpmfuJmzFXPMu7KV8pnKZ6foJfq6XZ_ooeY00tnk0y1x2dUBR6COFgh-SViL52xCvf8zGsPEPx_9pC3B6pGA8iTchk3JUX4CdHbmAF8_BpIDEOLUZiPYwPS1Y0wN3T61Tegu8zmzy3zNsfkQ_jpqcjqOtw5mnLXuGwx9hVaiQYCfcHYbRhIbke5bRafjLaLValCdcL7AKnmarzxstDEUVqf7WSbrPBBBupp8fnZNSeTekHZs4itBUlp0GywrqV00pMFLYDMWN8W6HgINcdYPpqU6OEVpAl3TJ15cLOkxHsB-h3L8gK9JO0ARmP6GXt472kbEACHIvtE1wdOQmtzYVw0WGcZ8inN0iZEVVSBstHX8d5UTTTaJnBtrKfb35JmSib95dAdNu-qMAQ6FNWSTix54QpiX79_jRNvknWvkLvbYuAvjyY05P86ULHA6BzJlGiq0GktPOjshPefhynMYgjI54iUpJLaAY3IMuS2D64UzyJpokWiZwMA7W8mcO1b_ns0J5TC2jCw62ET73C8TEZrbWolBzNBRBYSD-Uu1yTmT1lVCgACU9RddXxZyDH3GBEha4JeQHJmfuQY6cUFieT85C7pm79BFZenXIpp-6kplJsF_FTf2Tcb3Tauv-V22JOOYgTdvUMv-kUHzDzrKouxN9yRbt78m_Oq6R89ylHQmu6PBHhBaPycNE7zVQBLrGF3ft07N3-HYZdVu7bCtOondX5XFyJQfDn3Fm1wpmwW1AYF2dtScca3Fg0l20hV7zObR7Crc34bb3_2Zk3ZO0-DRhPZJ1zudxVw978WE8Drvc3Kfzazh8UPnLsfDESilzCjpdV2zIHVaYPSev7urlSh-G99DGOtYLlgCSDiEReB_1KlRCxDr9c0-aZJzd0v_mOihOc2b4VrF-7DKes_qRYeTQNk7dNpne0Cc7cUn9WRkl2LMKJfBiL1oSicP3TDc6ueaAsCQdHIiNqP1RzzvNqqhoGAFESox4MlLf5TJ3Qs0LI7J_ynOEmo64oLOrgzNCLKXy1PSaOZWzohG4opm9425s5K4-jQtWyGMa1CRwVQRszOG_i3hM7x6e5WF94oA5ddtVRmxVO724qd7wjZsSSQ1-5wamEgCDodY1bcwrLhvR0lufS85RNOC6bePn-pVVT-djF5tC0925oTsJeg5FbLqMivmTgluWmmMbIOL1VgfAlvQl08A../download [following]\n",
      "--2020-03-28 11:32:45--  https://public.boxcloud.com/d/1/b1!FvBH9dP-1FZG6sy8fwPhVBL3ZUZnSUi5WqLxp-b0GZ7D8zKDmJDhj5SgWvG5k8qwg-m0KytEUTjoVq58tMLAMDBMoScGLDPP-wq2uV81kzcf188OF7GrVIQK7LEIr2KCi_zcxR_j4mgLEPQdODNoZVubeWC_7_T3Q2frVqWU114MfHzAuIZELMknNYtczcvBJgk8bwsEmHtwBYZpIczp0sVp39jm8dWv-teRluHyFMcpmfuJmzFXPMu7KV8pnKZ6foJfq6XZ_ooeY00tnk0y1x2dUBR6COFgh-SViL52xCvf8zGsPEPx_9pC3B6pGA8iTchk3JUX4CdHbmAF8_BpIDEOLUZiPYwPS1Y0wN3T61Tegu8zmzy3zNsfkQ_jpqcjqOtw5mnLXuGwx9hVaiQYCfcHYbRhIbke5bRafjLaLValCdcL7AKnmarzxstDEUVqf7WSbrPBBBupp8fnZNSeTekHZs4itBUlp0GywrqV00pMFLYDMWN8W6HgINcdYPpqU6OEVpAl3TJ15cLOkxHsB-h3L8gK9JO0ARmP6GXt472kbEACHIvtE1wdOQmtzYVw0WGcZ8inN0iZEVVSBstHX8d5UTTTaJnBtrKfb35JmSib95dAdNu-qMAQ6FNWSTix54QpiX79_jRNvknWvkLvbYuAvjyY05P86ULHA6BzJlGiq0GktPOjshPefhynMYgjI54iUpJLaAY3IMuS2D64UzyJpokWiZwMA7W8mcO1b_ns0J5TC2jCw62ET73C8TEZrbWolBzNBRBYSD-Uu1yTmT1lVCgACU9RddXxZyDH3GBEha4JeQHJmfuQY6cUFieT85C7pm79BFZenXIpp-6kplJsF_FTf2Tcb3Tauv-V22JOOYgTdvUMv-kUHzDzrKouxN9yRbt78m_Oq6R89ylHQmu6PBHhBaPycNE7zVQBLrGF3ft07N3-HYZdVu7bCtOondX5XFyJQfDn3Fm1wpmwW1AYF2dtScca3Fg0l20hV7zObR7Crc34bb3_2Zk3ZO0-DRhPZJ1zudxVw978WE8Drvc3Kfzazh8UPnLsfDESilzCjpdV2zIHVaYPSev7urlSh-G99DGOtYLlgCSDiEReB_1KlRCxDr9c0-aZJzd0v_mOihOc2b4VrF-7DKes_qRYeTQNk7dNpne0Cc7cUn9WRkl2LMKJfBiL1oSicP3TDc6ueaAsCQdHIiNqP1RzzvNqqhoGAFESox4MlLf5TJ3Qs0LI7J_ynOEmo64oLOrgzNCLKXy1PSaOZWzohG4opm9425s5K4-jQtWyGMa1CRwVQRszOG_i3hM7x6e5WF94oA5ddtVRmxVO724qd7wjZsSSQ1-5wamEgCDodY1bcwrLhvR0lufS85RNOC6bePn-pVVT-djF5tC0925oTsJeg5FbLqMivmTgluWmmMbIOL1VgfAlvQl08A../download\n",
      "Resolving public.boxcloud.com (public.boxcloud.com)... 103.116.4.200\n",
      "Connecting to public.boxcloud.com (public.boxcloud.com)|103.116.4.200|:443... connected.\n",
      "HTTP request sent, awaiting response... 200 OK\n",
      "Length: 24383 (24K) [image/jpeg]\n",
      "Saving to: ‘destructed3.jpg’\n",
      "\n",
      "destructed3.jpg     100%[===================>]  23.81K  86.4KB/s    in 0.3s    \n",
      "\n",
      "2020-03-28 11:32:47 (86.4 KB/s) - ‘destructed3.jpg’ saved [24383/24383]\n",
      "\n"
     ]
    },
    {
     "data": {
      "image/png": "[encoded data removed]",
      "text/plain": [
       "<PIL.JpegImagePlugin.JpegImageFile image mode=RGB size=181x181 at 0x7F8FB02D0AD0>"
      ]
     },
     "execution_count": 39,
     "metadata": {},
     "output_type": "execute_result"
    }
   ],
   "source": [
    "# !wget -O destructed3.jpg  https://ibm.box.com/shared/static/vvm1b63uvuxq88vbw9znpwu5ol380mco.jpg"
   ]
  },
  {
   "cell_type": "code",
   "execution_count": 40,
   "metadata": {},
   "outputs": [
    {
     "data": {
      "image/png": "[encoded data removed]",
      "text/plain": [
       "<PIL.JpegImagePlugin.JpegImageFile image mode=RGB size=181x181 at 0x7F8FB00407D0>"
      ]
     },
     "execution_count": 40,
     "metadata": {},
     "output_type": "execute_result"
    }
   ],
   "source": [
    "img = Image.open('destructed3.jpg')\n",
    "img"
   ]
  },
  {
   "cell_type": "markdown",
   "metadata": {},
   "source": [
    "Now let's pass this image through the net:"
   ]
  },
  {
   "cell_type": "code",
   "execution_count": 41,
   "metadata": {},
   "outputs": [],
   "source": [
    "## Convert the image to a 1d numpy array\n",
    "\n",
    "sample_case = np.array(img.convert('I').resize((28, 28))).ravel().reshape((1, -1)) / 255.0"
   ]
  },
  {
   "cell_type": "markdown",
   "metadata": {},
   "source": [
    "Feed the sample case into the network and reconstruct the output:"
   ]
  },
  {
   "cell_type": "code",
   "execution_count": 42,
   "metadata": {},
   "outputs": [
    {
     "name": "stdout",
     "output_type": "stream",
     "text": [
      "Probability nodes in hidden layer:  [[0.0000000e+00 1.0000000e+00 0.0000000e+00 0.0000000e+00 0.0000000e+00\n",
      "  0.0000000e+00 0.0000000e+00 0.0000000e+00 0.0000000e+00 0.0000000e+00\n",
      "  0.0000000e+00 9.9982381e-01 0.0000000e+00 0.0000000e+00 0.0000000e+00\n",
      "  2.8209716e-02 0.0000000e+00 0.0000000e+00 0.0000000e+00 0.0000000e+00\n",
      "  1.1324883e-06 9.1463327e-05 0.0000000e+00 9.9999690e-01 4.4703484e-07\n",
      "  9.8898810e-01 6.5369719e-01 0.0000000e+00 0.0000000e+00 0.0000000e+00\n",
      "  0.0000000e+00 0.0000000e+00 0.0000000e+00 0.0000000e+00 0.0000000e+00\n",
      "  0.0000000e+00 0.0000000e+00 0.0000000e+00 0.0000000e+00 0.0000000e+00\n",
      "  9.9999994e-01 1.0000000e+00 0.0000000e+00 9.9993181e-01 0.0000000e+00\n",
      "  0.0000000e+00 0.0000000e+00 3.4770370e-04 0.0000000e+00 0.0000000e+00]]\n",
      "activated nodes in hidden layer:  [[0. 1. 0. 0. 0. 0. 0. 0. 0. 0. 0. 1. 0. 0. 0. 0. 0. 0. 0. 0. 0. 0. 0. 1.\n",
      "  0. 1. 1. 0. 0. 0. 0. 0. 0. 0. 0. 0. 0. 0. 0. 0. 1. 1. 0. 1. 0. 0. 0. 0.\n",
      "  0. 0.]]\n"
     ]
    }
   ],
   "source": [
    "hh0_p = tf.nn.sigmoid(tf.matmul(v0_state, W) + hb)\n",
    "hh0_s = tf.round(hh0_p) # hh0_s = tf.nn.relu(tf.sign(hh0_p - tf.random_uniform(tf.shape(hh0_p))))\n",
    "\n",
    "hh0_p_val, hh0_s_val  = sess.run((hh0_p, hh0_s), \n",
    "                                 feed_dict={v0_state: sample_case, W: prv_w, hb: prv_hb})\n",
    "\n",
    "print(\"Probability nodes in hidden layer: \", hh0_p_val)\n",
    "print(\"activated nodes in hidden layer: \", hh0_s_val)\n",
    "\n",
    "## Reconstruct\n",
    "vv1_p    = tf.nn.sigmoid(tf.matmul(hh0_s_val, tf.transpose(W)) + vb)\n",
    "rec_prob = sess.run(vv1_p, feed_dict={ hh0_s: hh0_s_val, W: prv_w, vb: prv_vb})"
   ]
  },
  {
   "cell_type": "markdown",
   "metadata": {},
   "source": [
    "Here we plot the reconstructed image:"
   ]
  },
  {
   "cell_type": "code",
   "execution_count": 43,
   "metadata": {},
   "outputs": [
    {
     "data": {
      "image/png": "[encoded data removed]",
      "text/plain": [
       "<Figure size 288x288 with 1 Axes>"
      ]
     },
     "metadata": {
      "needs_background": "light"
     },
     "output_type": "display_data"
    }
   ],
   "source": [
    "img = Image.fromarray(tile_raster_images(X=rec_prob, img_shape=(28, 28), tile_shape=(1, 1), \n",
    "                                         tile_spacing=(1, 1)))\n",
    "plt.rcParams['figure.figsize'] = (4.0, 4.0)\n",
    "imgplot = plt.imshow(img)\n",
    "imgplot.set_cmap('gray') "
   ]
  },
  {
   "cell_type": "markdown",
   "metadata": {},
   "source": [
    "## Want to learn more?\n",
    "\n",
    "Running deep learning programs usually needs a high performance platform. __PowerAI__ speeds up deep learning and AI. Built on IBM’s Power Systems, __PowerAI__ is a scalable software platform that accelerates deep learning and AI with blazing performance for individual users or enterprises. The __PowerAI__ platform supports popular machine learning libraries and dependencies including TensorFlow, Caffe, Torch, and Theano. You can use [PowerAI on IMB Cloud](https://cocl.us/ML0120EN_PAI).\n",
    "\n",
    "Also, you can use __Watson Studio__ to run these notebooks faster with bigger datasets.__Watson Studio__ is IBM’s leading cloud solution for data scientists, built by data scientists. With Jupyter notebooks, RStudio, Apache Spark and popular libraries pre-packaged in the cloud, __Watson Studio__ enables data scientists to collaborate on their projects without having to install anything. Join the fast-growing community of __Watson Studio__ users today with a free account at [Watson Studio](https://cocl.us/ML0120EN_DSX).This is the end of this lesson. Thank you for reading this notebook, and good luck on your studies."
   ]
  },
  {
   "cell_type": "markdown",
   "metadata": {},
   "source": [
    "### Thanks for completing this lesson!\n",
    "\n",
    "Notebook created by: <a href = \"https://ca.linkedin.com/in/saeedaghabozorgi\">Saeed Aghabozorgi</a>"
   ]
  },
  {
   "cell_type": "markdown",
   "metadata": {},
   "source": [
    "### References:\n",
    "https://en.wikipedia.org/wiki/Restricted_Boltzmann_machine  \n",
    "http://deeplearning.net/tutorial/rbm.html  \n",
    "http://www.cs.utoronto.ca/~hinton/absps/netflixICML.pdf<br>\n",
    "http://imonad.com/rbm/restricted-boltzmann-machine/  \n"
   ]
  },
  {
   "cell_type": "markdown",
   "metadata": {},
   "source": [
    "<hr>\n",
    "\n",
    "Copyright &copy; 2018 [Cognitive Class](https://cocl.us/DX0108EN_CC). This notebook and its source code are released under the terms of the [MIT License](https://bigdatauniversity.com/mit-license/)."
   ]
  }
 ],
 "metadata": {
  "kernelspec": {
   "display_name": "Python 3",
   "language": "python",
   "name": "python3"
  },
  "language_info": {
   "codemirror_mode": {
    "name": "ipython",
    "version": 3
   },
   "file_extension": ".py",
   "mimetype": "text/x-python",
   "name": "python",
   "nbconvert_exporter": "python",
   "pygments_lexer": "ipython3",
   "version": "3.7.4"
  },
  "widgets": {
   "state": {},
   "version": "1.1.2"
  }
 },
 "nbformat": 4,
 "nbformat_minor": 2
}
