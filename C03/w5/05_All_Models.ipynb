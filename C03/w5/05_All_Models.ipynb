{
 "cells": [
  {
   "cell_type": "markdown",
   "metadata": {},
   "source": [
    "## All in one\n",
    "\n",
    "Pascal P.  \n",
    "Mar 2020  \n",
    "\n",
    "- Course: *Introduction to Deep Learning & Neural Networks with Keras*\n",
    "- Final Project: Build a Regression Model in Keras - All models with comparison\n",
    "\n",
    "<hr />"
   ]
  },
  {
   "cell_type": "markdown",
   "metadata": {},
   "source": [
    "<hr />\n",
    "\n",
    "**Custom extension combining all models in one notebook**\n",
    "\n",
    "<hr />"
   ]
  },
  {
   "cell_type": "code",
   "execution_count": 1,
   "metadata": {
    "scrolled": true
   },
   "outputs": [
    {
     "name": "stderr",
     "output_type": "stream",
     "text": [
      "Using TensorFlow backend.\n"
     ]
    }
   ],
   "source": [
    "import pp_utils as pp"
   ]
  },
  {
   "cell_type": "markdown",
   "metadata": {},
   "source": [
    "### 1.1. Download, load and clean the data"
   ]
  },
  {
   "cell_type": "code",
   "execution_count": 2,
   "metadata": {},
   "outputs": [],
   "source": [
    "import pandas as pd\n",
    "import numpy as np"
   ]
  },
  {
   "cell_type": "code",
   "execution_count": 3,
   "metadata": {},
   "outputs": [
    {
     "data": {
      "text/html": [
       "<div>\n",
       "<style scoped>\n",
       "    .dataframe tbody tr th:only-of-type {\n",
       "        vertical-align: middle;\n",
       "    }\n",
       "\n",
       "    .dataframe tbody tr th {\n",
       "        vertical-align: top;\n",
       "    }\n",
       "\n",
       "    .dataframe thead th {\n",
       "        text-align: right;\n",
       "    }\n",
       "</style>\n",
       "<table border=\"1\" class=\"dataframe\">\n",
       "  <thead>\n",
       "    <tr style=\"text-align: right;\">\n",
       "      <th></th>\n",
       "      <th>Cement</th>\n",
       "      <th>Blast Furnace Slag</th>\n",
       "      <th>Fly Ash</th>\n",
       "      <th>Water</th>\n",
       "      <th>Superplasticizer</th>\n",
       "      <th>Coarse Aggregate</th>\n",
       "      <th>Fine Aggregate</th>\n",
       "      <th>Age</th>\n",
       "      <th>Strength</th>\n",
       "    </tr>\n",
       "  </thead>\n",
       "  <tbody>\n",
       "    <tr>\n",
       "      <th>0</th>\n",
       "      <td>540.0</td>\n",
       "      <td>0.0</td>\n",
       "      <td>0.0</td>\n",
       "      <td>162.0</td>\n",
       "      <td>2.5</td>\n",
       "      <td>1040.0</td>\n",
       "      <td>676.0</td>\n",
       "      <td>28</td>\n",
       "      <td>79.99</td>\n",
       "    </tr>\n",
       "    <tr>\n",
       "      <th>1</th>\n",
       "      <td>540.0</td>\n",
       "      <td>0.0</td>\n",
       "      <td>0.0</td>\n",
       "      <td>162.0</td>\n",
       "      <td>2.5</td>\n",
       "      <td>1055.0</td>\n",
       "      <td>676.0</td>\n",
       "      <td>28</td>\n",
       "      <td>61.89</td>\n",
       "    </tr>\n",
       "    <tr>\n",
       "      <th>2</th>\n",
       "      <td>332.5</td>\n",
       "      <td>142.5</td>\n",
       "      <td>0.0</td>\n",
       "      <td>228.0</td>\n",
       "      <td>0.0</td>\n",
       "      <td>932.0</td>\n",
       "      <td>594.0</td>\n",
       "      <td>270</td>\n",
       "      <td>40.27</td>\n",
       "    </tr>\n",
       "    <tr>\n",
       "      <th>3</th>\n",
       "      <td>332.5</td>\n",
       "      <td>142.5</td>\n",
       "      <td>0.0</td>\n",
       "      <td>228.0</td>\n",
       "      <td>0.0</td>\n",
       "      <td>932.0</td>\n",
       "      <td>594.0</td>\n",
       "      <td>365</td>\n",
       "      <td>41.05</td>\n",
       "    </tr>\n",
       "    <tr>\n",
       "      <th>4</th>\n",
       "      <td>198.6</td>\n",
       "      <td>132.4</td>\n",
       "      <td>0.0</td>\n",
       "      <td>192.0</td>\n",
       "      <td>0.0</td>\n",
       "      <td>978.4</td>\n",
       "      <td>825.5</td>\n",
       "      <td>360</td>\n",
       "      <td>44.30</td>\n",
       "    </tr>\n",
       "    <tr>\n",
       "      <th>5</th>\n",
       "      <td>266.0</td>\n",
       "      <td>114.0</td>\n",
       "      <td>0.0</td>\n",
       "      <td>228.0</td>\n",
       "      <td>0.0</td>\n",
       "      <td>932.0</td>\n",
       "      <td>670.0</td>\n",
       "      <td>90</td>\n",
       "      <td>47.03</td>\n",
       "    </tr>\n",
       "    <tr>\n",
       "      <th>6</th>\n",
       "      <td>380.0</td>\n",
       "      <td>95.0</td>\n",
       "      <td>0.0</td>\n",
       "      <td>228.0</td>\n",
       "      <td>0.0</td>\n",
       "      <td>932.0</td>\n",
       "      <td>594.0</td>\n",
       "      <td>365</td>\n",
       "      <td>43.70</td>\n",
       "    </tr>\n",
       "  </tbody>\n",
       "</table>\n",
       "</div>"
      ],
      "text/plain": [
       "   Cement  Blast Furnace Slag  Fly Ash  Water  Superplasticizer  \\\n",
       "0   540.0                 0.0      0.0  162.0               2.5   \n",
       "1   540.0                 0.0      0.0  162.0               2.5   \n",
       "2   332.5               142.5      0.0  228.0               0.0   \n",
       "3   332.5               142.5      0.0  228.0               0.0   \n",
       "4   198.6               132.4      0.0  192.0               0.0   \n",
       "5   266.0               114.0      0.0  228.0               0.0   \n",
       "6   380.0                95.0      0.0  228.0               0.0   \n",
       "\n",
       "   Coarse Aggregate  Fine Aggregate  Age  Strength  \n",
       "0            1040.0           676.0   28     79.99  \n",
       "1            1055.0           676.0   28     61.89  \n",
       "2             932.0           594.0  270     40.27  \n",
       "3             932.0           594.0  365     41.05  \n",
       "4             978.4           825.5  360     44.30  \n",
       "5             932.0           670.0   90     47.03  \n",
       "6             932.0           594.0  365     43.70  "
      ]
     },
     "execution_count": 3,
     "metadata": {},
     "output_type": "execute_result"
    }
   ],
   "source": [
    "# df_concrete_data = pd.read_csv('https://s3-api.us-geo.objectstorage.softlayer.net/cf-courses-data/CognitiveClass/DL0101EN/labs/data/concrete_data.csv')\n",
    "\n",
    "df_concrete_data = pd.read_csv(\"./concrete_data.csv\")\n",
    "df_concrete_data.head(7)"
   ]
  },
  {
   "cell_type": "code",
   "execution_count": 4,
   "metadata": {},
   "outputs": [
    {
     "data": {
      "text/html": [
       "<div>\n",
       "<style scoped>\n",
       "    .dataframe tbody tr th:only-of-type {\n",
       "        vertical-align: middle;\n",
       "    }\n",
       "\n",
       "    .dataframe tbody tr th {\n",
       "        vertical-align: top;\n",
       "    }\n",
       "\n",
       "    .dataframe thead th {\n",
       "        text-align: right;\n",
       "    }\n",
       "</style>\n",
       "<table border=\"1\" class=\"dataframe\">\n",
       "  <thead>\n",
       "    <tr style=\"text-align: right;\">\n",
       "      <th></th>\n",
       "      <th>Cement</th>\n",
       "      <th>Blast Furnace Slag</th>\n",
       "      <th>Fly Ash</th>\n",
       "      <th>Water</th>\n",
       "      <th>Superplasticizer</th>\n",
       "      <th>Coarse Aggregate</th>\n",
       "      <th>Fine Aggregate</th>\n",
       "      <th>Age</th>\n",
       "      <th>Strength</th>\n",
       "    </tr>\n",
       "  </thead>\n",
       "  <tbody>\n",
       "    <tr>\n",
       "      <th>count</th>\n",
       "      <td>1030.000000</td>\n",
       "      <td>1030.000000</td>\n",
       "      <td>1030.000000</td>\n",
       "      <td>1030.000000</td>\n",
       "      <td>1030.000000</td>\n",
       "      <td>1030.000000</td>\n",
       "      <td>1030.000000</td>\n",
       "      <td>1030.000000</td>\n",
       "      <td>1030.000000</td>\n",
       "    </tr>\n",
       "    <tr>\n",
       "      <th>mean</th>\n",
       "      <td>281.167864</td>\n",
       "      <td>73.895825</td>\n",
       "      <td>54.188350</td>\n",
       "      <td>181.567282</td>\n",
       "      <td>6.204660</td>\n",
       "      <td>972.918932</td>\n",
       "      <td>773.580485</td>\n",
       "      <td>45.662136</td>\n",
       "      <td>35.817961</td>\n",
       "    </tr>\n",
       "    <tr>\n",
       "      <th>std</th>\n",
       "      <td>104.506364</td>\n",
       "      <td>86.279342</td>\n",
       "      <td>63.997004</td>\n",
       "      <td>21.354219</td>\n",
       "      <td>5.973841</td>\n",
       "      <td>77.753954</td>\n",
       "      <td>80.175980</td>\n",
       "      <td>63.169912</td>\n",
       "      <td>16.705742</td>\n",
       "    </tr>\n",
       "    <tr>\n",
       "      <th>min</th>\n",
       "      <td>102.000000</td>\n",
       "      <td>0.000000</td>\n",
       "      <td>0.000000</td>\n",
       "      <td>121.800000</td>\n",
       "      <td>0.000000</td>\n",
       "      <td>801.000000</td>\n",
       "      <td>594.000000</td>\n",
       "      <td>1.000000</td>\n",
       "      <td>2.330000</td>\n",
       "    </tr>\n",
       "    <tr>\n",
       "      <th>25%</th>\n",
       "      <td>192.375000</td>\n",
       "      <td>0.000000</td>\n",
       "      <td>0.000000</td>\n",
       "      <td>164.900000</td>\n",
       "      <td>0.000000</td>\n",
       "      <td>932.000000</td>\n",
       "      <td>730.950000</td>\n",
       "      <td>7.000000</td>\n",
       "      <td>23.710000</td>\n",
       "    </tr>\n",
       "    <tr>\n",
       "      <th>50%</th>\n",
       "      <td>272.900000</td>\n",
       "      <td>22.000000</td>\n",
       "      <td>0.000000</td>\n",
       "      <td>185.000000</td>\n",
       "      <td>6.400000</td>\n",
       "      <td>968.000000</td>\n",
       "      <td>779.500000</td>\n",
       "      <td>28.000000</td>\n",
       "      <td>34.445000</td>\n",
       "    </tr>\n",
       "    <tr>\n",
       "      <th>75%</th>\n",
       "      <td>350.000000</td>\n",
       "      <td>142.950000</td>\n",
       "      <td>118.300000</td>\n",
       "      <td>192.000000</td>\n",
       "      <td>10.200000</td>\n",
       "      <td>1029.400000</td>\n",
       "      <td>824.000000</td>\n",
       "      <td>56.000000</td>\n",
       "      <td>46.135000</td>\n",
       "    </tr>\n",
       "    <tr>\n",
       "      <th>max</th>\n",
       "      <td>540.000000</td>\n",
       "      <td>359.400000</td>\n",
       "      <td>200.100000</td>\n",
       "      <td>247.000000</td>\n",
       "      <td>32.200000</td>\n",
       "      <td>1145.000000</td>\n",
       "      <td>992.600000</td>\n",
       "      <td>365.000000</td>\n",
       "      <td>82.600000</td>\n",
       "    </tr>\n",
       "  </tbody>\n",
       "</table>\n",
       "</div>"
      ],
      "text/plain": [
       "            Cement  Blast Furnace Slag      Fly Ash        Water  \\\n",
       "count  1030.000000         1030.000000  1030.000000  1030.000000   \n",
       "mean    281.167864           73.895825    54.188350   181.567282   \n",
       "std     104.506364           86.279342    63.997004    21.354219   \n",
       "min     102.000000            0.000000     0.000000   121.800000   \n",
       "25%     192.375000            0.000000     0.000000   164.900000   \n",
       "50%     272.900000           22.000000     0.000000   185.000000   \n",
       "75%     350.000000          142.950000   118.300000   192.000000   \n",
       "max     540.000000          359.400000   200.100000   247.000000   \n",
       "\n",
       "       Superplasticizer  Coarse Aggregate  Fine Aggregate          Age  \\\n",
       "count       1030.000000       1030.000000     1030.000000  1030.000000   \n",
       "mean           6.204660        972.918932      773.580485    45.662136   \n",
       "std            5.973841         77.753954       80.175980    63.169912   \n",
       "min            0.000000        801.000000      594.000000     1.000000   \n",
       "25%            0.000000        932.000000      730.950000     7.000000   \n",
       "50%            6.400000        968.000000      779.500000    28.000000   \n",
       "75%           10.200000       1029.400000      824.000000    56.000000   \n",
       "max           32.200000       1145.000000      992.600000   365.000000   \n",
       "\n",
       "          Strength  \n",
       "count  1030.000000  \n",
       "mean     35.817961  \n",
       "std      16.705742  \n",
       "min       2.330000  \n",
       "25%      23.710000  \n",
       "50%      34.445000  \n",
       "75%      46.135000  \n",
       "max      82.600000  "
      ]
     },
     "execution_count": 4,
     "metadata": {},
     "output_type": "execute_result"
    }
   ],
   "source": [
    "df_concrete_data.describe()"
   ]
  },
  {
   "cell_type": "code",
   "execution_count": 5,
   "metadata": {},
   "outputs": [
    {
     "data": {
      "text/plain": [
       "Cement                0\n",
       "Blast Furnace Slag    0\n",
       "Fly Ash               0\n",
       "Water                 0\n",
       "Superplasticizer      0\n",
       "Coarse Aggregate      0\n",
       "Fine Aggregate        0\n",
       "Age                   0\n",
       "Strength              0\n",
       "dtype: int64"
      ]
     },
     "execution_count": 5,
     "metadata": {},
     "output_type": "execute_result"
    }
   ],
   "source": [
    "# Any null value?\n",
    "df_concrete_data.isnull().sum()\n",
    "# ... No, good. "
   ]
  },
  {
   "cell_type": "markdown",
   "metadata": {},
   "source": [
    "### 1.2. Split data into predictors and target"
   ]
  },
  {
   "cell_type": "code",
   "execution_count": 6,
   "metadata": {},
   "outputs": [],
   "source": [
    "## Exclude columns 'Age', 'Strength' for predictors\n",
    "df_predictors = df_concrete_data[df_concrete_data.columns.difference(['Age', 'Strength'])]\n",
    "\n",
    "df_target = df_concrete_data['Strength']"
   ]
  },
  {
   "cell_type": "markdown",
   "metadata": {},
   "source": [
    "### 1.3. Normalizing"
   ]
  },
  {
   "cell_type": "code",
   "execution_count": 7,
   "metadata": {},
   "outputs": [
    {
     "data": {
      "text/html": [
       "<div>\n",
       "<style scoped>\n",
       "    .dataframe tbody tr th:only-of-type {\n",
       "        vertical-align: middle;\n",
       "    }\n",
       "\n",
       "    .dataframe tbody tr th {\n",
       "        vertical-align: top;\n",
       "    }\n",
       "\n",
       "    .dataframe thead th {\n",
       "        text-align: right;\n",
       "    }\n",
       "</style>\n",
       "<table border=\"1\" class=\"dataframe\">\n",
       "  <thead>\n",
       "    <tr style=\"text-align: right;\">\n",
       "      <th></th>\n",
       "      <th>Blast Furnace Slag</th>\n",
       "      <th>Cement</th>\n",
       "      <th>Coarse Aggregate</th>\n",
       "      <th>Fine Aggregate</th>\n",
       "      <th>Fly Ash</th>\n",
       "      <th>Superplasticizer</th>\n",
       "      <th>Water</th>\n",
       "    </tr>\n",
       "  </thead>\n",
       "  <tbody>\n",
       "    <tr>\n",
       "      <th>0</th>\n",
       "      <td>-0.856472</td>\n",
       "      <td>2.476712</td>\n",
       "      <td>0.862735</td>\n",
       "      <td>-1.217079</td>\n",
       "      <td>-0.846733</td>\n",
       "      <td>-0.620147</td>\n",
       "      <td>-0.916319</td>\n",
       "    </tr>\n",
       "    <tr>\n",
       "      <th>1</th>\n",
       "      <td>-0.856472</td>\n",
       "      <td>2.476712</td>\n",
       "      <td>1.055651</td>\n",
       "      <td>-1.217079</td>\n",
       "      <td>-0.846733</td>\n",
       "      <td>-0.620147</td>\n",
       "      <td>-0.916319</td>\n",
       "    </tr>\n",
       "    <tr>\n",
       "      <th>2</th>\n",
       "      <td>0.795140</td>\n",
       "      <td>0.491187</td>\n",
       "      <td>-0.526262</td>\n",
       "      <td>-2.239829</td>\n",
       "      <td>-0.846733</td>\n",
       "      <td>-1.038638</td>\n",
       "      <td>2.174405</td>\n",
       "    </tr>\n",
       "    <tr>\n",
       "      <th>3</th>\n",
       "      <td>0.795140</td>\n",
       "      <td>0.491187</td>\n",
       "      <td>-0.526262</td>\n",
       "      <td>-2.239829</td>\n",
       "      <td>-0.846733</td>\n",
       "      <td>-1.038638</td>\n",
       "      <td>2.174405</td>\n",
       "    </tr>\n",
       "    <tr>\n",
       "      <th>4</th>\n",
       "      <td>0.678079</td>\n",
       "      <td>-0.790075</td>\n",
       "      <td>0.070492</td>\n",
       "      <td>0.647569</td>\n",
       "      <td>-0.846733</td>\n",
       "      <td>-1.038638</td>\n",
       "      <td>0.488555</td>\n",
       "    </tr>\n",
       "  </tbody>\n",
       "</table>\n",
       "</div>"
      ],
      "text/plain": [
       "   Blast Furnace Slag    Cement  Coarse Aggregate  Fine Aggregate   Fly Ash  \\\n",
       "0           -0.856472  2.476712          0.862735       -1.217079 -0.846733   \n",
       "1           -0.856472  2.476712          1.055651       -1.217079 -0.846733   \n",
       "2            0.795140  0.491187         -0.526262       -2.239829 -0.846733   \n",
       "3            0.795140  0.491187         -0.526262       -2.239829 -0.846733   \n",
       "4            0.678079 -0.790075          0.070492        0.647569 -0.846733   \n",
       "\n",
       "   Superplasticizer     Water  \n",
       "0         -0.620147 -0.916319  \n",
       "1         -0.620147 -0.916319  \n",
       "2         -1.038638  2.174405  \n",
       "3         -1.038638  2.174405  \n",
       "4         -1.038638  0.488555  "
      ]
     },
     "execution_count": 7,
     "metadata": {},
     "output_type": "execute_result"
    }
   ],
   "source": [
    "df_predictors_norm = (df_predictors - df_predictors.mean()) / df_predictors.std()\n",
    "df_predictors_norm.head()"
   ]
  },
  {
   "cell_type": "code",
   "execution_count": 8,
   "metadata": {},
   "outputs": [
    {
     "data": {
      "text/plain": [
       "7"
      ]
     },
     "execution_count": 8,
     "metadata": {},
     "output_type": "execute_result"
    }
   ],
   "source": [
    "n_cols = df_predictors_norm.shape[1]  # == df_predictors\n",
    "n_cols # number of predictors"
   ]
  },
  {
   "cell_type": "markdown",
   "metadata": {},
   "source": [
    "### 1.4. Baseline model"
   ]
  },
  {
   "cell_type": "code",
   "execution_count": 9,
   "metadata": {},
   "outputs": [
    {
     "name": "stdout",
     "output_type": "stream",
     "text": [
      "Model: \"sequential_1\"\n",
      "_________________________________________________________________\n",
      "Layer (type)                 Output Shape              Param #   \n",
      "=================================================================\n",
      "dense_1 (Dense)              (None, 10)                80        \n",
      "_________________________________________________________________\n",
      "dense_2 (Dense)              (None, 1)                 11        \n",
      "=================================================================\n",
      "Total params: 91\n",
      "Trainable params: 91\n",
      "Non-trainable params: 0\n",
      "_________________________________________________________________\n"
     ]
    }
   ],
   "source": [
    "model = pp.regression_model(n_cols, nodes_per_hlayer=[10]) # \n",
    "model.summary()"
   ]
  },
  {
   "cell_type": "code",
   "execution_count": 10,
   "metadata": {
    "scrolled": true
   },
   "outputs": [
    {
     "name": "stderr",
     "output_type": "stream",
     "text": [
      "WARNING: Logging before flag parsing goes to stderr.\n",
      "W0322 10:54:52.626319 140020835665728 deprecation_wrapper.py:119] From /home/pascal/Projects/ML_DL/anaconda3/envs/tensorflow_keras_gpuenv/lib/python3.7/site-packages/keras/backend/tensorflow_backend.py:422: The name tf.global_variables is deprecated. Please use tf.compat.v1.global_variables instead.\n",
      "\n"
     ]
    },
    {
     "name": "stdout",
     "output_type": "stream",
     "text": [
      "Iteration:  0 / MSE: 202.42301\n",
      "Iteration:  1 / MSE: 207.01059\n",
      "Iteration:  2 / MSE: 863.05018\n",
      "Iteration:  3 / MSE: 989.06217\n",
      "Iteration:  4 / MSE: 442.04138\n",
      "Iteration:  5 / MSE: 264.72076\n",
      "Iteration:  6 / MSE: 882.24851\n",
      "Iteration:  7 / MSE: 1070.05195\n",
      "Iteration:  8 / MSE: 2901.14574\n",
      "Iteration:  9 / MSE: 1410.57777\n",
      "Iteration: 10 / MSE: 284.27646\n",
      "Iteration: 11 / MSE: 189.79941\n",
      "Iteration: 12 / MSE: 217.81692\n",
      "Iteration: 13 / MSE: 212.05040\n",
      "Iteration: 14 / MSE: 543.69669\n",
      "Iteration: 15 / MSE: 888.38757\n",
      "Iteration: 16 / MSE: 209.09156\n",
      "Iteration: 17 / MSE: 198.92263\n",
      "Iteration: 18 / MSE: 352.88271\n",
      "Iteration: 19 / MSE: 179.08937\n",
      "Iteration: 20 / MSE: 193.44001\n",
      "Iteration: 21 / MSE: 222.95358\n",
      "Iteration: 22 / MSE: 518.19559\n",
      "Iteration: 23 / MSE: 434.10038\n",
      "Iteration: 24 / MSE: 187.61384\n",
      "Iteration: 25 / MSE: 1175.52184\n",
      "Iteration: 26 / MSE: 512.25190\n",
      "Iteration: 27 / MSE: 195.75329\n",
      "Iteration: 28 / MSE: 314.21132\n",
      "Iteration: 29 / MSE: 262.76495\n",
      "Iteration: 30 / MSE: 181.70890\n",
      "Iteration: 31 / MSE: 218.84691\n",
      "Iteration: 32 / MSE: 267.09893\n",
      "Iteration: 33 / MSE: 283.97599\n",
      "Iteration: 34 / MSE: 274.36455\n",
      "Iteration: 35 / MSE: 211.54659\n",
      "Iteration: 36 / MSE: 482.69262\n",
      "Iteration: 37 / MSE: 2520.51169\n",
      "Iteration: 38 / MSE: 296.34462\n",
      "Iteration: 39 / MSE: 272.58127\n",
      "Iteration: 40 / MSE: 207.80625\n",
      "Iteration: 41 / MSE: 180.70865\n",
      "Iteration: 42 / MSE: 183.58487\n",
      "Iteration: 43 / MSE: 1565.28432\n",
      "Iteration: 44 / MSE: 195.90735\n",
      "Iteration: 45 / MSE: 281.41503\n",
      "Iteration: 46 / MSE: 190.92395\n",
      "Iteration: 47 / MSE: 181.68442\n",
      "Iteration: 48 / MSE: 249.18761\n",
      "Iteration: 49 / MSE: 232.63365\n"
     ]
    }
   ],
   "source": [
    "mse_ary = pp.train_eval_loop(n_cols, df_predictors, df_target, N=50, epochs=50, n_p_hl=[10]) "
   ]
  },
  {
   "cell_type": "code",
   "execution_count": 11,
   "metadata": {},
   "outputs": [
    {
     "name": "stdout",
     "output_type": "stream",
     "text": [
      "Summary baseline model: \n",
      "mean(MSE): 500.07921 / unbiased std(MSE): 568.30815 / biased std(MSE): 562.59636\n"
     ]
    }
   ],
   "source": [
    "np_ary = pp.summary(mse_ary, label=\"baseline model\")"
   ]
  },
  {
   "cell_type": "code",
   "execution_count": 12,
   "metadata": {},
   "outputs": [
    {
     "name": "stdout",
     "output_type": "stream",
     "text": [
      "max: 2901.14574 at epoch:  8 / min: 179.08937 at epoch: 19\n"
     ]
    }
   ],
   "source": [
    "pp.summary_ext(np_ary)"
   ]
  },
  {
   "cell_type": "code",
   "execution_count": 13,
   "metadata": {},
   "outputs": [
    {
     "data": {
      "text/html": [
       "<div>\n",
       "<style scoped>\n",
       "    .dataframe tbody tr th:only-of-type {\n",
       "        vertical-align: middle;\n",
       "    }\n",
       "\n",
       "    .dataframe tbody tr th {\n",
       "        vertical-align: top;\n",
       "    }\n",
       "\n",
       "    .dataframe thead th {\n",
       "        text-align: right;\n",
       "    }\n",
       "</style>\n",
       "<table border=\"1\" class=\"dataframe\">\n",
       "  <thead>\n",
       "    <tr style=\"text-align: right;\">\n",
       "      <th></th>\n",
       "      <th>mse_01_bl</th>\n",
       "    </tr>\n",
       "  </thead>\n",
       "  <tbody>\n",
       "    <tr>\n",
       "      <th>0</th>\n",
       "      <td>202.423013</td>\n",
       "    </tr>\n",
       "    <tr>\n",
       "      <th>1</th>\n",
       "      <td>207.010588</td>\n",
       "    </tr>\n",
       "    <tr>\n",
       "      <th>2</th>\n",
       "      <td>863.050178</td>\n",
       "    </tr>\n",
       "    <tr>\n",
       "      <th>3</th>\n",
       "      <td>989.062165</td>\n",
       "    </tr>\n",
       "    <tr>\n",
       "      <th>4</th>\n",
       "      <td>442.041380</td>\n",
       "    </tr>\n",
       "  </tbody>\n",
       "</table>\n",
       "</div>"
      ],
      "text/plain": [
       "    mse_01_bl\n",
       "0  202.423013\n",
       "1  207.010588\n",
       "2  863.050178\n",
       "3  989.062165\n",
       "4  442.041380"
      ]
     },
     "execution_count": 13,
     "metadata": {},
     "output_type": "execute_result"
    }
   ],
   "source": [
    "df = pp.save_df(np_ary, label='mse_01_bl', fname='11_baseline_model.csv')\n",
    "df.head()"
   ]
  },
  {
   "cell_type": "markdown",
   "metadata": {},
   "source": [
    "### 1.5. Normalized model"
   ]
  },
  {
   "cell_type": "code",
   "execution_count": 14,
   "metadata": {
    "scrolled": true
   },
   "outputs": [
    {
     "name": "stdout",
     "output_type": "stream",
     "text": [
      "Iteration:  0 / MSE: 293.29944\n",
      "Iteration:  1 / MSE: 345.92081\n",
      "Iteration:  2 / MSE: 426.86051\n",
      "Iteration:  3 / MSE: 325.80493\n",
      "Iteration:  4 / MSE: 375.27394\n",
      "Iteration:  5 / MSE: 334.33579\n",
      "Iteration:  6 / MSE: 354.35690\n",
      "Iteration:  7 / MSE: 644.32649\n",
      "Iteration:  8 / MSE: 303.00841\n",
      "Iteration:  9 / MSE: 373.95550\n",
      "Iteration: 10 / MSE: 372.20734\n",
      "Iteration: 11 / MSE: 661.10783\n",
      "Iteration: 12 / MSE: 310.83496\n",
      "Iteration: 13 / MSE: 442.80741\n",
      "Iteration: 14 / MSE: 547.19272\n",
      "Iteration: 15 / MSE: 309.44402\n",
      "Iteration: 16 / MSE: 473.45867\n",
      "Iteration: 17 / MSE: 404.20898\n",
      "Iteration: 18 / MSE: 434.58824\n",
      "Iteration: 19 / MSE: 416.78042\n",
      "Iteration: 20 / MSE: 530.71526\n",
      "Iteration: 21 / MSE: 302.75864\n",
      "Iteration: 22 / MSE: 331.99026\n",
      "Iteration: 23 / MSE: 305.50828\n",
      "Iteration: 24 / MSE: 425.32036\n",
      "Iteration: 25 / MSE: 468.88989\n",
      "Iteration: 26 / MSE: 292.18708\n",
      "Iteration: 27 / MSE: 477.69946\n",
      "Iteration: 28 / MSE: 404.49376\n",
      "Iteration: 29 / MSE: 486.57351\n",
      "Iteration: 30 / MSE: 348.79886\n",
      "Iteration: 31 / MSE: 341.77660\n",
      "Iteration: 32 / MSE: 672.20691\n",
      "Iteration: 33 / MSE: 325.01175\n",
      "Iteration: 34 / MSE: 293.64973\n",
      "Iteration: 35 / MSE: 397.03437\n",
      "Iteration: 36 / MSE: 423.76931\n",
      "Iteration: 37 / MSE: 356.52585\n",
      "Iteration: 38 / MSE: 298.73779\n",
      "Iteration: 39 / MSE: 424.65783\n",
      "Iteration: 40 / MSE: 303.00100\n",
      "Iteration: 41 / MSE: 425.04084\n",
      "Iteration: 42 / MSE: 335.85895\n",
      "Iteration: 43 / MSE: 407.88520\n",
      "Iteration: 44 / MSE: 363.14516\n",
      "Iteration: 45 / MSE: 311.90181\n",
      "Iteration: 46 / MSE: 339.57113\n",
      "Iteration: 47 / MSE: 408.05288\n",
      "Iteration: 48 / MSE: 381.67831\n",
      "Iteration: 49 / MSE: 318.20157\n"
     ]
    }
   ],
   "source": [
    "mse_norm_ary = pp.train_eval_loop(n_cols, df_predictors_norm, df_target, N=50, epochs=50, n_p_hl=[10]) "
   ]
  },
  {
   "cell_type": "code",
   "execution_count": 15,
   "metadata": {},
   "outputs": [
    {
     "name": "stdout",
     "output_type": "stream",
     "text": [
      "Summary normalized model: \n",
      "mean(MSE): 393.04831 / unbiased std(MSE): 93.18617 / biased std(MSE): 92.24960\n"
     ]
    }
   ],
   "source": [
    "np_norm_ary = pp.summary(mse_norm_ary, label=\"normalized model\")"
   ]
  },
  {
   "cell_type": "code",
   "execution_count": 16,
   "metadata": {},
   "outputs": [
    {
     "name": "stdout",
     "output_type": "stream",
     "text": [
      "max: 672.20691 at epoch: 32 / min: 292.18708 at epoch: 26\n"
     ]
    }
   ],
   "source": [
    "pp.summary_ext(np_norm_ary)"
   ]
  },
  {
   "cell_type": "code",
   "execution_count": 17,
   "metadata": {},
   "outputs": [],
   "source": [
    "df = pp.save_df(np_norm_ary, label='mse_02_norm', fname='12_normalized_model.csv', \n",
    "                prev_csv='11_baseline_model.csv', prev_df=df)"
   ]
  },
  {
   "cell_type": "markdown",
   "metadata": {},
   "source": [
    "### 1.6. Normalized model with 100 epochs"
   ]
  },
  {
   "cell_type": "code",
   "execution_count": 18,
   "metadata": {
    "scrolled": true
   },
   "outputs": [
    {
     "name": "stdout",
     "output_type": "stream",
     "text": [
      "Iteration:  0 / MSE: 243.06795\n",
      "Iteration:  1 / MSE: 240.88377\n",
      "Iteration:  2 / MSE: 206.74328\n",
      "Iteration:  3 / MSE: 221.47607\n",
      "Iteration:  4 / MSE: 216.30225\n",
      "Iteration:  5 / MSE: 210.63183\n",
      "Iteration:  6 / MSE: 209.55883\n",
      "Iteration:  7 / MSE: 218.93233\n",
      "Iteration:  8 / MSE: 208.34282\n",
      "Iteration:  9 / MSE: 219.72780\n",
      "Iteration: 10 / MSE: 203.61642\n",
      "Iteration: 11 / MSE: 221.25967\n",
      "Iteration: 12 / MSE: 212.19008\n",
      "Iteration: 13 / MSE: 230.78437\n",
      "Iteration: 14 / MSE: 223.10228\n",
      "Iteration: 15 / MSE: 219.27893\n",
      "Iteration: 16 / MSE: 208.73732\n",
      "Iteration: 17 / MSE: 222.62194\n",
      "Iteration: 18 / MSE: 210.37689\n",
      "Iteration: 19 / MSE: 229.44040\n",
      "Iteration: 20 / MSE: 225.77407\n",
      "Iteration: 21 / MSE: 213.58242\n",
      "Iteration: 22 / MSE: 237.53782\n",
      "Iteration: 23 / MSE: 224.75938\n",
      "Iteration: 24 / MSE: 216.31853\n",
      "Iteration: 25 / MSE: 201.43080\n",
      "Iteration: 26 / MSE: 227.58923\n",
      "Iteration: 27 / MSE: 217.95289\n",
      "Iteration: 28 / MSE: 217.37822\n",
      "Iteration: 29 / MSE: 252.25120\n",
      "Iteration: 30 / MSE: 239.42162\n",
      "Iteration: 31 / MSE: 222.96539\n",
      "Iteration: 32 / MSE: 203.78414\n",
      "Iteration: 33 / MSE: 219.23929\n",
      "Iteration: 34 / MSE: 227.25704\n",
      "Iteration: 35 / MSE: 211.43180\n",
      "Iteration: 36 / MSE: 231.11931\n",
      "Iteration: 37 / MSE: 225.01018\n",
      "Iteration: 38 / MSE: 210.37566\n",
      "Iteration: 39 / MSE: 210.35426\n",
      "Iteration: 40 / MSE: 218.36043\n",
      "Iteration: 41 / MSE: 215.91941\n",
      "Iteration: 42 / MSE: 230.11748\n",
      "Iteration: 43 / MSE: 205.79561\n",
      "Iteration: 44 / MSE: 208.38061\n",
      "Iteration: 45 / MSE: 232.86975\n",
      "Iteration: 46 / MSE: 244.94528\n",
      "Iteration: 47 / MSE: 211.44748\n",
      "Iteration: 48 / MSE: 214.29584\n",
      "Iteration: 49 / MSE: 213.74311\n"
     ]
    }
   ],
   "source": [
    "mse_norm100_ary = pp.train_eval_loop(n_cols, df_predictors_norm, df_target, N=50, epochs=100, n_p_hl=[10])  "
   ]
  },
  {
   "cell_type": "code",
   "execution_count": 19,
   "metadata": {},
   "outputs": [
    {
     "name": "stdout",
     "output_type": "stream",
     "text": [
      "Summary normalized 100 epoch model: \n",
      "mean(MSE): 220.16967 / unbiased std(MSE): 11.63943 / biased std(MSE): 11.52245\n"
     ]
    }
   ],
   "source": [
    "np_norm100_ary = pp.summary(mse_norm100_ary, label=\"normalized 100 epoch model\")"
   ]
  },
  {
   "cell_type": "code",
   "execution_count": 20,
   "metadata": {},
   "outputs": [
    {
     "name": "stdout",
     "output_type": "stream",
     "text": [
      "max: 252.25120 at epoch: 29 / min: 201.43080 at epoch: 25\n"
     ]
    }
   ],
   "source": [
    "pp.summary_ext(np_norm100_ary)"
   ]
  },
  {
   "cell_type": "code",
   "execution_count": 21,
   "metadata": {},
   "outputs": [],
   "source": [
    "df = pp.save_df(np_norm100_ary, label='mse_03_norm100', fname='13_normalized_100eoch_model.csv', \n",
    "                prev_csv='12_normalized_model.csv', prev_df=df)"
   ]
  },
  {
   "cell_type": "markdown",
   "metadata": {},
   "source": [
    "### 1.7. Normalized model with 3 hidden layers"
   ]
  },
  {
   "cell_type": "code",
   "execution_count": 22,
   "metadata": {},
   "outputs": [
    {
     "name": "stdout",
     "output_type": "stream",
     "text": [
      "Model: \"sequential_152\"\n",
      "_________________________________________________________________\n",
      "Layer (type)                 Output Shape              Param #   \n",
      "=================================================================\n",
      "dense_303 (Dense)            (None, 10)                80        \n",
      "_________________________________________________________________\n",
      "dense_304 (Dense)            (None, 10)                110       \n",
      "_________________________________________________________________\n",
      "dense_305 (Dense)            (None, 10)                110       \n",
      "_________________________________________________________________\n",
      "dense_306 (Dense)            (None, 1)                 11        \n",
      "=================================================================\n",
      "Total params: 311\n",
      "Trainable params: 311\n",
      "Non-trainable params: 0\n",
      "_________________________________________________________________\n"
     ]
    }
   ],
   "source": [
    "model = pp.regression_model(n_cols, nodes_per_hlayer=[10, 10, 10]) # \n",
    "model.summary()"
   ]
  },
  {
   "cell_type": "code",
   "execution_count": 23,
   "metadata": {
    "scrolled": true
   },
   "outputs": [
    {
     "name": "stdout",
     "output_type": "stream",
     "text": [
      "Iteration:  0 / MSE: 197.96650\n",
      "Iteration:  1 / MSE: 195.65100\n",
      "Iteration:  2 / MSE: 185.91332\n",
      "Iteration:  3 / MSE: 197.41985\n",
      "Iteration:  4 / MSE: 198.25296\n",
      "Iteration:  5 / MSE: 190.22290\n",
      "Iteration:  6 / MSE: 197.80909\n",
      "Iteration:  7 / MSE: 190.57817\n",
      "Iteration:  8 / MSE: 203.12779\n",
      "Iteration:  9 / MSE: 189.12403\n",
      "Iteration: 10 / MSE: 192.13600\n",
      "Iteration: 11 / MSE: 186.14364\n",
      "Iteration: 12 / MSE: 167.82419\n",
      "Iteration: 13 / MSE: 189.29370\n",
      "Iteration: 14 / MSE: 190.28790\n",
      "Iteration: 15 / MSE: 190.00143\n",
      "Iteration: 16 / MSE: 198.90881\n",
      "Iteration: 17 / MSE: 192.71368\n",
      "Iteration: 18 / MSE: 196.83225\n",
      "Iteration: 19 / MSE: 193.58226\n",
      "Iteration: 20 / MSE: 183.20690\n",
      "Iteration: 21 / MSE: 189.67665\n",
      "Iteration: 22 / MSE: 194.12626\n",
      "Iteration: 23 / MSE: 200.25488\n",
      "Iteration: 24 / MSE: 193.20345\n",
      "Iteration: 25 / MSE: 190.28230\n",
      "Iteration: 26 / MSE: 185.49285\n",
      "Iteration: 27 / MSE: 196.87226\n",
      "Iteration: 28 / MSE: 190.29386\n",
      "Iteration: 29 / MSE: 184.84795\n",
      "Iteration: 30 / MSE: 191.40140\n",
      "Iteration: 31 / MSE: 180.61910\n",
      "Iteration: 32 / MSE: 196.98983\n",
      "Iteration: 33 / MSE: 198.39854\n",
      "Iteration: 34 / MSE: 184.69085\n",
      "Iteration: 35 / MSE: 193.99796\n",
      "Iteration: 36 / MSE: 195.47900\n",
      "Iteration: 37 / MSE: 194.88887\n",
      "Iteration: 38 / MSE: 190.58172\n",
      "Iteration: 39 / MSE: 180.55547\n",
      "Iteration: 40 / MSE: 196.32998\n",
      "Iteration: 41 / MSE: 197.91852\n",
      "Iteration: 42 / MSE: 194.84702\n",
      "Iteration: 43 / MSE: 201.94220\n",
      "Iteration: 44 / MSE: 201.67272\n",
      "Iteration: 45 / MSE: 193.52697\n",
      "Iteration: 46 / MSE: 195.14519\n",
      "Iteration: 47 / MSE: 190.99538\n",
      "Iteration: 48 / MSE: 167.04014\n",
      "Iteration: 49 / MSE: 198.64392\n"
     ]
    }
   ],
   "source": [
    "mse_norm_3hl_ary = pp.train_eval_loop(n_cols, df_predictors_norm, df_target, N=50, epochs=50, \n",
    "                                      n_p_hl=[10, 10, 10])"
   ]
  },
  {
   "cell_type": "code",
   "execution_count": 24,
   "metadata": {},
   "outputs": [
    {
     "name": "stdout",
     "output_type": "stream",
     "text": [
      "Summary normalized 3 hidden layers model: \n",
      "mean(MSE): 191.95423 / unbiased std(MSE): 7.35910 / biased std(MSE): 7.28514\n"
     ]
    }
   ],
   "source": [
    "np_norm_3hl_ary = pp.summary(mse_norm_3hl_ary, label=\"normalized 3 hidden layers model\")"
   ]
  },
  {
   "cell_type": "code",
   "execution_count": 25,
   "metadata": {},
   "outputs": [
    {
     "name": "stdout",
     "output_type": "stream",
     "text": [
      "max: 203.12779 at epoch:  8 / min: 167.04014 at epoch: 48\n"
     ]
    }
   ],
   "source": [
    "pp.summary_ext(np_norm_3hl_ary)"
   ]
  },
  {
   "cell_type": "code",
   "execution_count": 26,
   "metadata": {},
   "outputs": [],
   "source": [
    "df = pp.save_df(np_norm_3hl_ary, label='mse_04_norm_3hl', fname='14_normalized_3hl_model.csv', \n",
    "                prev_csv='13_normalized_100eoch_model.csv', prev_df=df)"
   ]
  },
  {
   "cell_type": "markdown",
   "metadata": {},
   "source": [
    "### 1.8. Results comparison\n",
    "\n",
    "#### 1 - Comparison normalized model (B)  to baseline model (A)\n",
    "\n",
    "- the MSE is *less* (therefore better) for the normalized model (B).\n",
    "\n",
    "- Also the spread for the normalized model, as measured by standard deviation, is *less* (less variability) than it is for the baseline model.\n",
    "\n",
    "- Here normalization does seem to improve the performance in term of:  \n",
    "  - mean (although not by that much in this case) and \n",
    "  - standard deviation.\n",
    "  \n",
    "  \n",
    "#### 2 - Comparison normalized model with 100 epochs  (C)  to normalized model (B) and baseline model (A)\n",
    "\n",
    "- More iterations does improve significantly both the mean of MSE and (reduce) the spread (standard deviation) compare to both previous normalized model (with 50 epochs) and the baseline model.\n",
    "\n",
    "\n",
    "\n",
    "#### 3 -Comparison normalized model with 3 hidden layers  to normalized model (B).\n",
    "\n",
    "- More (hidden) layers does improve (even more) the mean MSE and the spread compare to all previous models. "
   ]
  },
  {
   "cell_type": "markdown",
   "metadata": {},
   "source": [
    "### 1.9. Summary"
   ]
  },
  {
   "cell_type": "code",
   "execution_count": 27,
   "metadata": {},
   "outputs": [
    {
     "data": {
      "text/html": [
       "<div>\n",
       "<style scoped>\n",
       "    .dataframe tbody tr th:only-of-type {\n",
       "        vertical-align: middle;\n",
       "    }\n",
       "\n",
       "    .dataframe tbody tr th {\n",
       "        vertical-align: top;\n",
       "    }\n",
       "\n",
       "    .dataframe thead th {\n",
       "        text-align: right;\n",
       "    }\n",
       "</style>\n",
       "<table border=\"1\" class=\"dataframe\">\n",
       "  <thead>\n",
       "    <tr style=\"text-align: right;\">\n",
       "      <th></th>\n",
       "      <th>mse_01_bl</th>\n",
       "      <th>mse_02_norm</th>\n",
       "      <th>mse_03_norm100</th>\n",
       "      <th>mse_04_norm_3hl</th>\n",
       "    </tr>\n",
       "  </thead>\n",
       "  <tbody>\n",
       "    <tr>\n",
       "      <th>0</th>\n",
       "      <td>202.423013</td>\n",
       "      <td>293.299437</td>\n",
       "      <td>243.067954</td>\n",
       "      <td>197.966500</td>\n",
       "    </tr>\n",
       "    <tr>\n",
       "      <th>1</th>\n",
       "      <td>207.010588</td>\n",
       "      <td>345.920812</td>\n",
       "      <td>240.883772</td>\n",
       "      <td>195.650999</td>\n",
       "    </tr>\n",
       "    <tr>\n",
       "      <th>2</th>\n",
       "      <td>863.050178</td>\n",
       "      <td>426.860508</td>\n",
       "      <td>206.743278</td>\n",
       "      <td>185.913316</td>\n",
       "    </tr>\n",
       "    <tr>\n",
       "      <th>3</th>\n",
       "      <td>989.062165</td>\n",
       "      <td>325.804934</td>\n",
       "      <td>221.476072</td>\n",
       "      <td>197.419849</td>\n",
       "    </tr>\n",
       "    <tr>\n",
       "      <th>4</th>\n",
       "      <td>442.041380</td>\n",
       "      <td>375.273944</td>\n",
       "      <td>216.302253</td>\n",
       "      <td>198.252957</td>\n",
       "    </tr>\n",
       "  </tbody>\n",
       "</table>\n",
       "</div>"
      ],
      "text/plain": [
       "    mse_01_bl  mse_02_norm  mse_03_norm100  mse_04_norm_3hl\n",
       "0  202.423013   293.299437      243.067954       197.966500\n",
       "1  207.010588   345.920812      240.883772       195.650999\n",
       "2  863.050178   426.860508      206.743278       185.913316\n",
       "3  989.062165   325.804934      221.476072       197.419849\n",
       "4  442.041380   375.273944      216.302253       198.252957"
      ]
     },
     "execution_count": 27,
     "metadata": {},
     "output_type": "execute_result"
    }
   ],
   "source": [
    "df.head()"
   ]
  },
  {
   "cell_type": "code",
   "execution_count": 28,
   "metadata": {},
   "outputs": [
    {
     "data": {
      "text/html": [
       "<div>\n",
       "<style scoped>\n",
       "    .dataframe tbody tr th:only-of-type {\n",
       "        vertical-align: middle;\n",
       "    }\n",
       "\n",
       "    .dataframe tbody tr th {\n",
       "        vertical-align: top;\n",
       "    }\n",
       "\n",
       "    .dataframe thead th {\n",
       "        text-align: right;\n",
       "    }\n",
       "</style>\n",
       "<table border=\"1\" class=\"dataframe\">\n",
       "  <thead>\n",
       "    <tr style=\"text-align: right;\">\n",
       "      <th></th>\n",
       "      <th>mse_01_bl</th>\n",
       "      <th>mse_02_norm</th>\n",
       "      <th>mse_03_norm100</th>\n",
       "      <th>mse_04_norm_3hl</th>\n",
       "    </tr>\n",
       "  </thead>\n",
       "  <tbody>\n",
       "    <tr>\n",
       "      <th>count</th>\n",
       "      <td>50.000000</td>\n",
       "      <td>50.000000</td>\n",
       "      <td>50.000000</td>\n",
       "      <td>50.000000</td>\n",
       "    </tr>\n",
       "    <tr>\n",
       "      <th>mean</th>\n",
       "      <td>500.079213</td>\n",
       "      <td>393.048313</td>\n",
       "      <td>220.169670</td>\n",
       "      <td>191.954232</td>\n",
       "    </tr>\n",
       "    <tr>\n",
       "      <th>std</th>\n",
       "      <td>568.308148</td>\n",
       "      <td>93.186171</td>\n",
       "      <td>11.639429</td>\n",
       "      <td>7.359100</td>\n",
       "    </tr>\n",
       "    <tr>\n",
       "      <th>min</th>\n",
       "      <td>179.089366</td>\n",
       "      <td>292.187082</td>\n",
       "      <td>201.430804</td>\n",
       "      <td>167.040144</td>\n",
       "    </tr>\n",
       "    <tr>\n",
       "      <th>25%</th>\n",
       "      <td>203.569907</td>\n",
       "      <td>325.210044</td>\n",
       "      <td>210.831826</td>\n",
       "      <td>189.757842</td>\n",
       "    </tr>\n",
       "    <tr>\n",
       "      <th>50%</th>\n",
       "      <td>265.909847</td>\n",
       "      <td>373.081419</td>\n",
       "      <td>218.646379</td>\n",
       "      <td>193.365210</td>\n",
       "    </tr>\n",
       "    <tr>\n",
       "      <th>75%</th>\n",
       "      <td>504.862077</td>\n",
       "      <td>425.250476</td>\n",
       "      <td>226.886297</td>\n",
       "      <td>196.960436</td>\n",
       "    </tr>\n",
       "    <tr>\n",
       "      <th>max</th>\n",
       "      <td>2901.145737</td>\n",
       "      <td>672.206907</td>\n",
       "      <td>252.251195</td>\n",
       "      <td>203.127785</td>\n",
       "    </tr>\n",
       "  </tbody>\n",
       "</table>\n",
       "</div>"
      ],
      "text/plain": [
       "         mse_01_bl  mse_02_norm  mse_03_norm100  mse_04_norm_3hl\n",
       "count    50.000000    50.000000       50.000000        50.000000\n",
       "mean    500.079213   393.048313      220.169670       191.954232\n",
       "std     568.308148    93.186171       11.639429         7.359100\n",
       "min     179.089366   292.187082      201.430804       167.040144\n",
       "25%     203.569907   325.210044      210.831826       189.757842\n",
       "50%     265.909847   373.081419      218.646379       193.365210\n",
       "75%     504.862077   425.250476      226.886297       196.960436\n",
       "max    2901.145737   672.206907      252.251195       203.127785"
      ]
     },
     "execution_count": 28,
     "metadata": {},
     "output_type": "execute_result"
    }
   ],
   "source": [
    "df.describe()"
   ]
  },
  {
   "cell_type": "code",
   "execution_count": 29,
   "metadata": {},
   "outputs": [
    {
     "data": {
      "text/plain": [
       "(50, 4)"
      ]
     },
     "execution_count": 29,
     "metadata": {},
     "output_type": "execute_result"
    }
   ],
   "source": [
    "df.shape"
   ]
  },
  {
   "cell_type": "code",
   "execution_count": 30,
   "metadata": {},
   "outputs": [
    {
     "data": {
      "text/plain": [
       "Index(['mse_01_bl', 'mse_02_norm', 'mse_03_norm100', 'mse_04_norm_3hl'], dtype='object')"
      ]
     },
     "execution_count": 30,
     "metadata": {},
     "output_type": "execute_result"
    }
   ],
   "source": [
    "df.columns"
   ]
  },
  {
   "cell_type": "code",
   "execution_count": 31,
   "metadata": {},
   "outputs": [],
   "source": [
    "import matplotlib.pyplot as plt\n",
    "%matplotlib inline"
   ]
  },
  {
   "cell_type": "code",
   "execution_count": 32,
   "metadata": {},
   "outputs": [
    {
     "data": {
      "text/plain": [
       "Text(0, 0.5, 'MSE')"
      ]
     },
     "execution_count": 32,
     "metadata": {},
     "output_type": "execute_result"
    },
    {
     "data": {
      "image/png": "[encoded data removed]",
      "text/plain": [
       "<Figure size 720x576 with 1 Axes>"
      ]
     },
     "metadata": {
      "needs_background": "light"
     },
     "output_type": "display_data"
    }
   ],
   "source": [
    "fig = plt.figure(figsize=(10, 8))\n",
    "\n",
    "# style\n",
    "plt.style.use('seaborn-darkgrid')\n",
    "\n",
    "# create a color palette\n",
    "palette = plt.get_cmap('Set1')\n",
    "\n",
    "# multiple lines plot\n",
    "plt.ylim(0, 2500)\n",
    "ixes = list(range(0, df.shape[0]))\n",
    "for ix, col in enumerate(df):\n",
    "  plt.plot(ixes, df[col], marker='', color=palette(ix), linewidth=1, alpha=0.7, \n",
    "           label=df.columns[ix])\n",
    "\n",
    "# Add legend\n",
    "plt.legend(loc=2, ncol=2)\n",
    "\n",
    "# Add titles\n",
    "plt.title(\"MSE comparison graph\", loc='center', fontsize=11, fontweight=0, color='orange')\n",
    "plt.xlabel(\"iteration\")\n",
    "plt.ylabel(\"MSE\")"
   ]
  },
  {
   "cell_type": "code",
   "execution_count": 33,
   "metadata": {},
   "outputs": [
    {
     "data": {
      "image/png": "[encoded data removed]",
      "text/plain": [
       "<Figure size 864x864 with 4 Axes>"
      ]
     },
     "metadata": {},
     "output_type": "display_data"
    }
   ],
   "source": [
    "fig, axs = plt.subplots(4, 1, sharex=True, sharey=True, figsize=(12, 12),\n",
    "                        gridspec_kw={'hspace': 0.1, 'wspace': 0.2})\n",
    "\n",
    "ixes = list(range(0, df.shape[0]))\n",
    "plt.ylim(0, 2500)\n",
    "for ix, col in enumerate(df):\n",
    "  ax = axs[ix]\n",
    "  ax.plot(ixes, df[col], marker='', color=palette(ix), linewidth=1, alpha=0.7, \n",
    "          label=df.columns[ix])\n",
    "  \n",
    "  ax.set_xlabel('Iterations')\n",
    "  ax.set_ylabel('MSE')\n",
    "  ax.legend(loc=\"upper right\")"
   ]
  },
  {
   "cell_type": "code",
   "execution_count": null,
   "metadata": {},
   "outputs": [],
   "source": []
  }
 ],
 "metadata": {
  "kernelspec": {
   "display_name": "Python 3",
   "language": "python",
   "name": "python3"
  },
  "language_info": {
   "codemirror_mode": {
    "name": "ipython",
    "version": 3
   },
   "file_extension": ".py",
   "mimetype": "text/x-python",
   "name": "python",
   "nbconvert_exporter": "python",
   "pygments_lexer": "ipython3",
   "version": "3.7.4"
  }
 },
 "nbformat": 4,
 "nbformat_minor": 2
}
