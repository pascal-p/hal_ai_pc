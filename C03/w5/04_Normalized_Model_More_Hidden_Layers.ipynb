{
 "cells": [
  {
   "cell_type": "markdown",
   "metadata": {},
   "source": [
    "## P4. Normalized model with more hidden layers\n",
    "\n",
    "Pascal P.  \n",
    "Mar 2020  \n",
    "\n",
    "- Course: *Introduction to Deep Learning & Neural Networks with Keras*\n",
    "- Final Project: Build a Regression Model in Keras - Part 4 Normalized Model with 3 hidden layers\n",
    "\n",
    "<hr />"
   ]
  },
  {
   "cell_type": "markdown",
   "metadata": {},
   "source": [
    "<hr />\n",
    "\n",
    "#### Increase the number of hidden layers (5 marks)\n",
    "\n",
    "Repeat part B but use a neural network with the following instead:\n",
    "\n",
    "- Three hidden layers, each of 10 nodes and ReLU activation function.\n",
    "\n",
    "<hr />"
   ]
  },
  {
   "cell_type": "markdown",
   "metadata": {},
   "source": [
    "### 1.1. Download, load and clean the data"
   ]
  },
  {
   "cell_type": "code",
   "execution_count": 1,
   "metadata": {},
   "outputs": [],
   "source": [
    "import pandas as pd\n",
    "import numpy as np"
   ]
  },
  {
   "cell_type": "code",
   "execution_count": 2,
   "metadata": {},
   "outputs": [
    {
     "data": {
      "text/html": [
       "<div>\n",
       "<style scoped>\n",
       "    .dataframe tbody tr th:only-of-type {\n",
       "        vertical-align: middle;\n",
       "    }\n",
       "\n",
       "    .dataframe tbody tr th {\n",
       "        vertical-align: top;\n",
       "    }\n",
       "\n",
       "    .dataframe thead th {\n",
       "        text-align: right;\n",
       "    }\n",
       "</style>\n",
       "<table border=\"1\" class=\"dataframe\">\n",
       "  <thead>\n",
       "    <tr style=\"text-align: right;\">\n",
       "      <th></th>\n",
       "      <th>Cement</th>\n",
       "      <th>Blast Furnace Slag</th>\n",
       "      <th>Fly Ash</th>\n",
       "      <th>Water</th>\n",
       "      <th>Superplasticizer</th>\n",
       "      <th>Coarse Aggregate</th>\n",
       "      <th>Fine Aggregate</th>\n",
       "      <th>Age</th>\n",
       "      <th>Strength</th>\n",
       "    </tr>\n",
       "  </thead>\n",
       "  <tbody>\n",
       "    <tr>\n",
       "      <th>0</th>\n",
       "      <td>540.0</td>\n",
       "      <td>0.0</td>\n",
       "      <td>0.0</td>\n",
       "      <td>162.0</td>\n",
       "      <td>2.5</td>\n",
       "      <td>1040.0</td>\n",
       "      <td>676.0</td>\n",
       "      <td>28</td>\n",
       "      <td>79.99</td>\n",
       "    </tr>\n",
       "    <tr>\n",
       "      <th>1</th>\n",
       "      <td>540.0</td>\n",
       "      <td>0.0</td>\n",
       "      <td>0.0</td>\n",
       "      <td>162.0</td>\n",
       "      <td>2.5</td>\n",
       "      <td>1055.0</td>\n",
       "      <td>676.0</td>\n",
       "      <td>28</td>\n",
       "      <td>61.89</td>\n",
       "    </tr>\n",
       "    <tr>\n",
       "      <th>2</th>\n",
       "      <td>332.5</td>\n",
       "      <td>142.5</td>\n",
       "      <td>0.0</td>\n",
       "      <td>228.0</td>\n",
       "      <td>0.0</td>\n",
       "      <td>932.0</td>\n",
       "      <td>594.0</td>\n",
       "      <td>270</td>\n",
       "      <td>40.27</td>\n",
       "    </tr>\n",
       "    <tr>\n",
       "      <th>3</th>\n",
       "      <td>332.5</td>\n",
       "      <td>142.5</td>\n",
       "      <td>0.0</td>\n",
       "      <td>228.0</td>\n",
       "      <td>0.0</td>\n",
       "      <td>932.0</td>\n",
       "      <td>594.0</td>\n",
       "      <td>365</td>\n",
       "      <td>41.05</td>\n",
       "    </tr>\n",
       "    <tr>\n",
       "      <th>4</th>\n",
       "      <td>198.6</td>\n",
       "      <td>132.4</td>\n",
       "      <td>0.0</td>\n",
       "      <td>192.0</td>\n",
       "      <td>0.0</td>\n",
       "      <td>978.4</td>\n",
       "      <td>825.5</td>\n",
       "      <td>360</td>\n",
       "      <td>44.30</td>\n",
       "    </tr>\n",
       "    <tr>\n",
       "      <th>5</th>\n",
       "      <td>266.0</td>\n",
       "      <td>114.0</td>\n",
       "      <td>0.0</td>\n",
       "      <td>228.0</td>\n",
       "      <td>0.0</td>\n",
       "      <td>932.0</td>\n",
       "      <td>670.0</td>\n",
       "      <td>90</td>\n",
       "      <td>47.03</td>\n",
       "    </tr>\n",
       "    <tr>\n",
       "      <th>6</th>\n",
       "      <td>380.0</td>\n",
       "      <td>95.0</td>\n",
       "      <td>0.0</td>\n",
       "      <td>228.0</td>\n",
       "      <td>0.0</td>\n",
       "      <td>932.0</td>\n",
       "      <td>594.0</td>\n",
       "      <td>365</td>\n",
       "      <td>43.70</td>\n",
       "    </tr>\n",
       "  </tbody>\n",
       "</table>\n",
       "</div>"
      ],
      "text/plain": [
       "   Cement  Blast Furnace Slag  Fly Ash  Water  Superplasticizer  \\\n",
       "0   540.0                 0.0      0.0  162.0               2.5   \n",
       "1   540.0                 0.0      0.0  162.0               2.5   \n",
       "2   332.5               142.5      0.0  228.0               0.0   \n",
       "3   332.5               142.5      0.0  228.0               0.0   \n",
       "4   198.6               132.4      0.0  192.0               0.0   \n",
       "5   266.0               114.0      0.0  228.0               0.0   \n",
       "6   380.0                95.0      0.0  228.0               0.0   \n",
       "\n",
       "   Coarse Aggregate  Fine Aggregate  Age  Strength  \n",
       "0            1040.0           676.0   28     79.99  \n",
       "1            1055.0           676.0   28     61.89  \n",
       "2             932.0           594.0  270     40.27  \n",
       "3             932.0           594.0  365     41.05  \n",
       "4             978.4           825.5  360     44.30  \n",
       "5             932.0           670.0   90     47.03  \n",
       "6             932.0           594.0  365     43.70  "
      ]
     },
     "execution_count": 2,
     "metadata": {},
     "output_type": "execute_result"
    }
   ],
   "source": [
    "# df_concrete_data = pd.read_csv('https://s3-api.us-geo.objectstorage.softlayer.net/cf-courses-data/CognitiveClass/DL0101EN/labs/data/concrete_data.csv')\n",
    "\n",
    "df_concrete_data = pd.read_csv(\"./concrete_data.csv\")\n",
    "df_concrete_data.head(7)"
   ]
  },
  {
   "cell_type": "code",
   "execution_count": 3,
   "metadata": {},
   "outputs": [
    {
     "data": {
      "text/plain": [
       "Cement                0\n",
       "Blast Furnace Slag    0\n",
       "Fly Ash               0\n",
       "Water                 0\n",
       "Superplasticizer      0\n",
       "Coarse Aggregate      0\n",
       "Fine Aggregate        0\n",
       "Age                   0\n",
       "Strength              0\n",
       "dtype: int64"
      ]
     },
     "execution_count": 3,
     "metadata": {},
     "output_type": "execute_result"
    }
   ],
   "source": [
    "# Any null value?\n",
    "df_concrete_data.isnull().sum()\n",
    "\n",
    "# ... No, good. "
   ]
  },
  {
   "cell_type": "markdown",
   "metadata": {},
   "source": [
    "### 1.2. Split data into predictors and target"
   ]
  },
  {
   "cell_type": "code",
   "execution_count": 4,
   "metadata": {},
   "outputs": [],
   "source": [
    "## Exclude columns 'Age', 'Strength' for predictors\n",
    "df_predictors = df_concrete_data[df_concrete_data.columns.difference(['Age', 'Strength'])]\n",
    "\n",
    "df_target = df_concrete_data['Strength']"
   ]
  },
  {
   "cell_type": "markdown",
   "metadata": {},
   "source": [
    "### 1.3. Normalizing"
   ]
  },
  {
   "cell_type": "code",
   "execution_count": 5,
   "metadata": {},
   "outputs": [
    {
     "data": {
      "text/html": [
       "<div>\n",
       "<style scoped>\n",
       "    .dataframe tbody tr th:only-of-type {\n",
       "        vertical-align: middle;\n",
       "    }\n",
       "\n",
       "    .dataframe tbody tr th {\n",
       "        vertical-align: top;\n",
       "    }\n",
       "\n",
       "    .dataframe thead th {\n",
       "        text-align: right;\n",
       "    }\n",
       "</style>\n",
       "<table border=\"1\" class=\"dataframe\">\n",
       "  <thead>\n",
       "    <tr style=\"text-align: right;\">\n",
       "      <th></th>\n",
       "      <th>Blast Furnace Slag</th>\n",
       "      <th>Cement</th>\n",
       "      <th>Coarse Aggregate</th>\n",
       "      <th>Fine Aggregate</th>\n",
       "      <th>Fly Ash</th>\n",
       "      <th>Superplasticizer</th>\n",
       "      <th>Water</th>\n",
       "    </tr>\n",
       "  </thead>\n",
       "  <tbody>\n",
       "    <tr>\n",
       "      <th>0</th>\n",
       "      <td>-0.856472</td>\n",
       "      <td>2.476712</td>\n",
       "      <td>0.862735</td>\n",
       "      <td>-1.217079</td>\n",
       "      <td>-0.846733</td>\n",
       "      <td>-0.620147</td>\n",
       "      <td>-0.916319</td>\n",
       "    </tr>\n",
       "    <tr>\n",
       "      <th>1</th>\n",
       "      <td>-0.856472</td>\n",
       "      <td>2.476712</td>\n",
       "      <td>1.055651</td>\n",
       "      <td>-1.217079</td>\n",
       "      <td>-0.846733</td>\n",
       "      <td>-0.620147</td>\n",
       "      <td>-0.916319</td>\n",
       "    </tr>\n",
       "    <tr>\n",
       "      <th>2</th>\n",
       "      <td>0.795140</td>\n",
       "      <td>0.491187</td>\n",
       "      <td>-0.526262</td>\n",
       "      <td>-2.239829</td>\n",
       "      <td>-0.846733</td>\n",
       "      <td>-1.038638</td>\n",
       "      <td>2.174405</td>\n",
       "    </tr>\n",
       "    <tr>\n",
       "      <th>3</th>\n",
       "      <td>0.795140</td>\n",
       "      <td>0.491187</td>\n",
       "      <td>-0.526262</td>\n",
       "      <td>-2.239829</td>\n",
       "      <td>-0.846733</td>\n",
       "      <td>-1.038638</td>\n",
       "      <td>2.174405</td>\n",
       "    </tr>\n",
       "    <tr>\n",
       "      <th>4</th>\n",
       "      <td>0.678079</td>\n",
       "      <td>-0.790075</td>\n",
       "      <td>0.070492</td>\n",
       "      <td>0.647569</td>\n",
       "      <td>-0.846733</td>\n",
       "      <td>-1.038638</td>\n",
       "      <td>0.488555</td>\n",
       "    </tr>\n",
       "  </tbody>\n",
       "</table>\n",
       "</div>"
      ],
      "text/plain": [
       "   Blast Furnace Slag    Cement  Coarse Aggregate  Fine Aggregate   Fly Ash  \\\n",
       "0           -0.856472  2.476712          0.862735       -1.217079 -0.846733   \n",
       "1           -0.856472  2.476712          1.055651       -1.217079 -0.846733   \n",
       "2            0.795140  0.491187         -0.526262       -2.239829 -0.846733   \n",
       "3            0.795140  0.491187         -0.526262       -2.239829 -0.846733   \n",
       "4            0.678079 -0.790075          0.070492        0.647569 -0.846733   \n",
       "\n",
       "   Superplasticizer     Water  \n",
       "0         -0.620147 -0.916319  \n",
       "1         -0.620147 -0.916319  \n",
       "2         -1.038638  2.174405  \n",
       "3         -1.038638  2.174405  \n",
       "4         -1.038638  0.488555  "
      ]
     },
     "execution_count": 5,
     "metadata": {},
     "output_type": "execute_result"
    }
   ],
   "source": [
    "df_predictors_norm = (df_predictors - df_predictors.mean()) / df_predictors.std()\n",
    "df_predictors_norm.head()"
   ]
  },
  {
   "cell_type": "code",
   "execution_count": 6,
   "metadata": {},
   "outputs": [
    {
     "data": {
      "text/plain": [
       "7"
      ]
     },
     "execution_count": 6,
     "metadata": {},
     "output_type": "execute_result"
    }
   ],
   "source": [
    "n_cols = df_predictors_norm.shape[1]  # == df_predictors\n",
    "n_cols # number of predictors"
   ]
  },
  {
   "cell_type": "markdown",
   "metadata": {},
   "source": [
    "### 1.4. Build model with keras"
   ]
  },
  {
   "cell_type": "code",
   "execution_count": 7,
   "metadata": {},
   "outputs": [
    {
     "name": "stderr",
     "output_type": "stream",
     "text": [
      "Using TensorFlow backend.\n"
     ]
    }
   ],
   "source": [
    "import keras\n",
    "\n",
    "from keras.models import Sequential\n",
    "from keras.layers import Dense"
   ]
  },
  {
   "cell_type": "code",
   "execution_count": 8,
   "metadata": {},
   "outputs": [],
   "source": [
    "## Define regression model as a python function (which we can re-use later)\n",
    "\n",
    "def regression_model(n_cols, nodes_per_hlayer=[10,], opt='adam', loss='mean_squared_error'):\n",
    "    ## 1 - Create model\n",
    "    model = Sequential()\n",
    "    for ix, num_nodes in enumerate(nodes_per_hlayer):\n",
    "      if ix == 0: # first layer\n",
    "        model.add(Dense(num_nodes, activation='relu', input_shape=(n_cols,)))\n",
    "      else:\n",
    "        model.add(Dense(num_nodes, activation='relu'))\n",
    "    model.add(Dense(1)) # output layer\n",
    "    \n",
    "    ## 2 - Compile model\n",
    "    model.compile(optimizer=opt, loss=loss, metrics=[loss])\n",
    "    return model"
   ]
  },
  {
   "cell_type": "code",
   "execution_count": 9,
   "metadata": {},
   "outputs": [],
   "source": [
    "from sklearn.model_selection import train_test_split\n",
    "\n",
    "## Define train/test split wrapper function \n",
    "\n",
    "def split_data(df_pred, df_target, test_size=0.3, random_state=6776):\n",
    "  X_train, X_test, y_train, y_test = train_test_split(df_pred, df_target, \n",
    "                                                      test_size=test_size, \n",
    "                                                      random_state=random_state)\n",
    "  return (X_train, X_test, y_train, y_test) # tuple"
   ]
  },
  {
   "cell_type": "markdown",
   "metadata": {},
   "source": [
    "### 1.5. Instanciate the model"
   ]
  },
  {
   "cell_type": "code",
   "execution_count": 10,
   "metadata": {},
   "outputs": [
    {
     "name": "stdout",
     "output_type": "stream",
     "text": [
      "Model: \"sequential_1\"\n",
      "_________________________________________________________________\n",
      "Layer (type)                 Output Shape              Param #   \n",
      "=================================================================\n",
      "dense_1 (Dense)              (None, 10)                80        \n",
      "_________________________________________________________________\n",
      "dense_2 (Dense)              (None, 10)                110       \n",
      "_________________________________________________________________\n",
      "dense_3 (Dense)              (None, 10)                110       \n",
      "_________________________________________________________________\n",
      "dense_4 (Dense)              (None, 1)                 11        \n",
      "=================================================================\n",
      "Total params: 311\n",
      "Trainable params: 311\n",
      "Non-trainable params: 0\n",
      "_________________________________________________________________\n"
     ]
    }
   ],
   "source": [
    "## as per spec n_cols input, 10 nodes in only 1 layer (array of length 1)\n",
    "model = regression_model(n_cols, nodes_per_hlayer=[10, 10, 10])\n",
    "\n",
    "model.summary()"
   ]
  },
  {
   "cell_type": "markdown",
   "metadata": {},
   "source": [
    "### 1.6. Train and evaluate the model"
   ]
  },
  {
   "cell_type": "code",
   "execution_count": 11,
   "metadata": {},
   "outputs": [],
   "source": [
    "from sklearn.metrics import mean_squared_error"
   ]
  },
  {
   "cell_type": "code",
   "execution_count": 12,
   "metadata": {
    "scrolled": true
   },
   "outputs": [
    {
     "name": "stderr",
     "output_type": "stream",
     "text": [
      "WARNING: Logging before flag parsing goes to stderr.\n",
      "W0322 12:21:01.664359 139749372000064 deprecation_wrapper.py:119] From /home/pascal/Projects/ML_DL/anaconda3/envs/tensorflow_keras_gpuenv/lib/python3.7/site-packages/keras/backend/tensorflow_backend.py:422: The name tf.global_variables is deprecated. Please use tf.compat.v1.global_variables instead.\n",
      "\n"
     ]
    },
    {
     "name": "stdout",
     "output_type": "stream",
     "text": [
      "Iteration:  0 / MSE: 187.16972\n",
      "Iteration:  1 / MSE: 190.35932\n",
      "Iteration:  2 / MSE: 196.18036\n",
      "Iteration:  3 / MSE: 196.76010\n",
      "Iteration:  4 / MSE: 189.06341\n",
      "Iteration:  5 / MSE: 202.18636\n",
      "Iteration:  6 / MSE: 193.14588\n",
      "Iteration:  7 / MSE: 195.48602\n",
      "Iteration:  8 / MSE: 183.89045\n",
      "Iteration:  9 / MSE: 200.55953\n",
      "Iteration: 10 / MSE: 190.99857\n",
      "Iteration: 11 / MSE: 198.61839\n",
      "Iteration: 12 / MSE: 190.89990\n",
      "Iteration: 13 / MSE: 202.41281\n",
      "Iteration: 14 / MSE: 193.36112\n",
      "Iteration: 15 / MSE: 199.03308\n",
      "Iteration: 16 / MSE: 177.58445\n",
      "Iteration: 17 / MSE: 193.08671\n",
      "Iteration: 18 / MSE: 185.71957\n",
      "Iteration: 19 / MSE: 185.84568\n",
      "Iteration: 20 / MSE: 183.31398\n",
      "Iteration: 21 / MSE: 197.36961\n",
      "Iteration: 22 / MSE: 186.10621\n",
      "Iteration: 23 / MSE: 187.58395\n",
      "Iteration: 24 / MSE: 192.60445\n",
      "Iteration: 25 / MSE: 187.22562\n",
      "Iteration: 26 / MSE: 191.35971\n",
      "Iteration: 27 / MSE: 190.04603\n",
      "Iteration: 28 / MSE: 180.72538\n",
      "Iteration: 29 / MSE: 179.48129\n",
      "Iteration: 30 / MSE: 192.75579\n",
      "Iteration: 31 / MSE: 193.96904\n",
      "Iteration: 32 / MSE: 189.91078\n",
      "Iteration: 33 / MSE: 201.32882\n",
      "Iteration: 34 / MSE: 187.19222\n",
      "Iteration: 35 / MSE: 187.96223\n",
      "Iteration: 36 / MSE: 184.75344\n",
      "Iteration: 37 / MSE: 180.23831\n",
      "Iteration: 38 / MSE: 186.12840\n",
      "Iteration: 39 / MSE: 174.70383\n",
      "Iteration: 40 / MSE: 195.81591\n",
      "Iteration: 41 / MSE: 186.32381\n",
      "Iteration: 42 / MSE: 180.17338\n",
      "Iteration: 43 / MSE: 181.31088\n",
      "Iteration: 44 / MSE: 184.51401\n",
      "Iteration: 45 / MSE: 206.92832\n",
      "Iteration: 46 / MSE: 193.72917\n",
      "Iteration: 47 / MSE: 176.11480\n",
      "Iteration: 48 / MSE: 192.74316\n",
      "Iteration: 49 / MSE: 184.60253\n"
     ]
    }
   ],
   "source": [
    "## Main Train/Eval loop - 50 iterations\n",
    "\n",
    "N = 50\n",
    "mse_ary = []\n",
    "\n",
    "for ix in range(0, N): \n",
    "  ## Reset model\n",
    "  model = regression_model(n_cols, nodes_per_hlayer=[10, 10, 10])\n",
    "  \n",
    "  ## Split the data into train and test set using opur wrapper function\n",
    "  X_train, X_test, y_train, y_test = split_data(df_predictors_norm, df_target)\n",
    "\n",
    "  ## Fit the model - No train/validation split\n",
    "  _history = model.fit(X_train, y_train,  \n",
    "                       epochs=50, \n",
    "                       verbose=0)\n",
    "    \n",
    "  ## Make Predictions\n",
    "  pred = model.predict(X_test)\n",
    "  \n",
    "  ## Compare to ground truth\n",
    "  mse = mean_squared_error(y_test, pred)\n",
    "  print(\"Iteration: {:2d} / MSE: {:1.5f}\".format(ix, mse))\n",
    "  \n",
    "  ## Keep it for later\n",
    "  mse_ary.append(mse)"
   ]
  },
  {
   "cell_type": "code",
   "execution_count": 13,
   "metadata": {
    "scrolled": true
   },
   "outputs": [
    {
     "name": "stdout",
     "output_type": "stream",
     "text": [
      "Summary three hidden layers model: \n",
      "mean(MSE): 189.78753 / unbiased std(MSE): 7.28185 / biased std(MSE): 7.20867\n"
     ]
    }
   ],
   "source": [
    "## Summary\n",
    "print(\"Summary three hidden layers model: \")\n",
    "np_ary = np.array(mse_ary, dtype=np.float64)\n",
    "\n",
    "\n",
    "## NOTE: using unbiased std - which means diving by N-1 (where N is the size of sample here 50)\n",
    "##       just in case, added biased std.\n",
    "print(\"mean(MSE): {:2.5f} / unbiased std(MSE): {:2.5f} / biased std(MSE): {:2.5f}\"\\\n",
    "      .format(np.mean(np_ary), np.std(np_ary, ddof=1), np.std(np_ary, ddof=0)))\n"
   ]
  },
  {
   "cell_type": "markdown",
   "metadata": {},
   "source": [
    "#### Remarks\n",
    "\n",
    "- More (hidden) layers does improve (even more) the mean MSE and the spread compare to all previous models.  "
   ]
  },
  {
   "cell_type": "code",
   "execution_count": 14,
   "metadata": {},
   "outputs": [
    {
     "name": "stdout",
     "output_type": "stream",
     "text": [
      "max: 206.92832 at epoch: 45 / min: 174.70383 at epoch: 39\n"
     ]
    }
   ],
   "source": [
    "ix_max = np_ary.argmax()\n",
    "ix_min = np_ary.argmin()\n",
    "\n",
    "print(\"max: {:2.5f} at epoch: {:2d} / min: {:2.5f} at epoch: {:2d}\"\\\n",
    "      .format(np_ary[ix_max], ix_max, np_ary[ix_min], ix_min))"
   ]
  },
  {
   "cell_type": "code",
   "execution_count": 15,
   "metadata": {},
   "outputs": [],
   "source": [
    "df_ = pd.read_csv(\"./03_norm_100epoch_model.csv\")\n",
    "\n",
    "df_['mse_04_3hl'] = np_ary\n",
    "df_.to_csv('04_norm_3hl_model.csv', sep=',', encoding='utf-8', index=False)"
   ]
  },
  {
   "cell_type": "code",
   "execution_count": 16,
   "metadata": {},
   "outputs": [
    {
     "data": {
      "text/html": [
       "<div>\n",
       "<style scoped>\n",
       "    .dataframe tbody tr th:only-of-type {\n",
       "        vertical-align: middle;\n",
       "    }\n",
       "\n",
       "    .dataframe tbody tr th {\n",
       "        vertical-align: top;\n",
       "    }\n",
       "\n",
       "    .dataframe thead th {\n",
       "        text-align: right;\n",
       "    }\n",
       "</style>\n",
       "<table border=\"1\" class=\"dataframe\">\n",
       "  <thead>\n",
       "    <tr style=\"text-align: right;\">\n",
       "      <th></th>\n",
       "      <th>mse_01_bl</th>\n",
       "      <th>mse_02_norm</th>\n",
       "      <th>mse_03_norm100ep</th>\n",
       "      <th>mse_04_3hl</th>\n",
       "    </tr>\n",
       "  </thead>\n",
       "  <tbody>\n",
       "    <tr>\n",
       "      <th>0</th>\n",
       "      <td>208.949511</td>\n",
       "      <td>355.939247</td>\n",
       "      <td>207.059742</td>\n",
       "      <td>187.169716</td>\n",
       "    </tr>\n",
       "    <tr>\n",
       "      <th>1</th>\n",
       "      <td>210.507436</td>\n",
       "      <td>512.653717</td>\n",
       "      <td>224.743865</td>\n",
       "      <td>190.359321</td>\n",
       "    </tr>\n",
       "    <tr>\n",
       "      <th>2</th>\n",
       "      <td>190.812754</td>\n",
       "      <td>416.278048</td>\n",
       "      <td>206.387416</td>\n",
       "      <td>196.180356</td>\n",
       "    </tr>\n",
       "    <tr>\n",
       "      <th>3</th>\n",
       "      <td>206.248697</td>\n",
       "      <td>530.620247</td>\n",
       "      <td>229.620568</td>\n",
       "      <td>196.760097</td>\n",
       "    </tr>\n",
       "    <tr>\n",
       "      <th>4</th>\n",
       "      <td>189.519537</td>\n",
       "      <td>369.478724</td>\n",
       "      <td>208.319380</td>\n",
       "      <td>189.063413</td>\n",
       "    </tr>\n",
       "  </tbody>\n",
       "</table>\n",
       "</div>"
      ],
      "text/plain": [
       "    mse_01_bl  mse_02_norm  mse_03_norm100ep  mse_04_3hl\n",
       "0  208.949511   355.939247        207.059742  187.169716\n",
       "1  210.507436   512.653717        224.743865  190.359321\n",
       "2  190.812754   416.278048        206.387416  196.180356\n",
       "3  206.248697   530.620247        229.620568  196.760097\n",
       "4  189.519537   369.478724        208.319380  189.063413"
      ]
     },
     "execution_count": 16,
     "metadata": {},
     "output_type": "execute_result"
    }
   ],
   "source": [
    "df_.head()"
   ]
  },
  {
   "cell_type": "code",
   "execution_count": 17,
   "metadata": {},
   "outputs": [
    {
     "data": {
      "text/html": [
       "<div>\n",
       "<style scoped>\n",
       "    .dataframe tbody tr th:only-of-type {\n",
       "        vertical-align: middle;\n",
       "    }\n",
       "\n",
       "    .dataframe tbody tr th {\n",
       "        vertical-align: top;\n",
       "    }\n",
       "\n",
       "    .dataframe thead th {\n",
       "        text-align: right;\n",
       "    }\n",
       "</style>\n",
       "<table border=\"1\" class=\"dataframe\">\n",
       "  <thead>\n",
       "    <tr style=\"text-align: right;\">\n",
       "      <th></th>\n",
       "      <th>mse_01_bl</th>\n",
       "      <th>mse_02_norm</th>\n",
       "      <th>mse_03_norm100ep</th>\n",
       "      <th>mse_04_3hl</th>\n",
       "    </tr>\n",
       "  </thead>\n",
       "  <tbody>\n",
       "    <tr>\n",
       "      <th>count</th>\n",
       "      <td>50.000000</td>\n",
       "      <td>50.000000</td>\n",
       "      <td>50.000000</td>\n",
       "      <td>50.000000</td>\n",
       "    </tr>\n",
       "    <tr>\n",
       "      <th>mean</th>\n",
       "      <td>424.129761</td>\n",
       "      <td>420.368508</td>\n",
       "      <td>219.004359</td>\n",
       "      <td>189.787530</td>\n",
       "    </tr>\n",
       "    <tr>\n",
       "      <th>std</th>\n",
       "      <td>415.684991</td>\n",
       "      <td>121.693519</td>\n",
       "      <td>14.508099</td>\n",
       "      <td>7.281853</td>\n",
       "    </tr>\n",
       "    <tr>\n",
       "      <th>min</th>\n",
       "      <td>179.674799</td>\n",
       "      <td>284.245219</td>\n",
       "      <td>199.456141</td>\n",
       "      <td>174.703831</td>\n",
       "    </tr>\n",
       "    <tr>\n",
       "      <th>25%</th>\n",
       "      <td>189.380645</td>\n",
       "      <td>347.151831</td>\n",
       "      <td>208.777980</td>\n",
       "      <td>184.994968</td>\n",
       "    </tr>\n",
       "    <tr>\n",
       "      <th>50%</th>\n",
       "      <td>225.632202</td>\n",
       "      <td>371.295692</td>\n",
       "      <td>217.111800</td>\n",
       "      <td>189.978406</td>\n",
       "    </tr>\n",
       "    <tr>\n",
       "      <th>75%</th>\n",
       "      <td>462.052733</td>\n",
       "      <td>465.697787</td>\n",
       "      <td>224.327356</td>\n",
       "      <td>193.909075</td>\n",
       "    </tr>\n",
       "    <tr>\n",
       "      <th>max</th>\n",
       "      <td>2164.597530</td>\n",
       "      <td>838.861597</td>\n",
       "      <td>284.956233</td>\n",
       "      <td>206.928316</td>\n",
       "    </tr>\n",
       "  </tbody>\n",
       "</table>\n",
       "</div>"
      ],
      "text/plain": [
       "         mse_01_bl  mse_02_norm  mse_03_norm100ep  mse_04_3hl\n",
       "count    50.000000    50.000000         50.000000   50.000000\n",
       "mean    424.129761   420.368508        219.004359  189.787530\n",
       "std     415.684991   121.693519         14.508099    7.281853\n",
       "min     179.674799   284.245219        199.456141  174.703831\n",
       "25%     189.380645   347.151831        208.777980  184.994968\n",
       "50%     225.632202   371.295692        217.111800  189.978406\n",
       "75%     462.052733   465.697787        224.327356  193.909075\n",
       "max    2164.597530   838.861597        284.956233  206.928316"
      ]
     },
     "execution_count": 17,
     "metadata": {},
     "output_type": "execute_result"
    }
   ],
   "source": [
    "df_.describe()"
   ]
  },
  {
   "cell_type": "code",
   "execution_count": 18,
   "metadata": {},
   "outputs": [
    {
     "data": {
      "text/plain": [
       "Text(0, 0.5, 'MSE')"
      ]
     },
     "execution_count": 18,
     "metadata": {},
     "output_type": "execute_result"
    },
    {
     "data": {
      "image/png": "[encoded data removed]",
      "text/plain": [
       "<Figure size 720x432 with 1 Axes>"
      ]
     },
     "metadata": {
      "needs_background": "light"
     },
     "output_type": "display_data"
    }
   ],
   "source": [
    "import matplotlib.pyplot as plt\n",
    "%matplotlib inline\n",
    "\n",
    "fig = plt.figure(figsize=(10, 6))\n",
    "\n",
    "# style\n",
    "plt.style.use('seaborn-darkgrid')\n",
    "\n",
    "# create a color palette\n",
    "palette = plt.get_cmap('Set1')\n",
    "\n",
    "# multiple line plot\n",
    "ixes = list(range(0, df_.shape[0]))\n",
    "\n",
    "alpha =0.6\n",
    "mark=['x', '+', 'o', '*']\n",
    "for ix, col in enumerate(df_):\n",
    "  plt.plot(ixes, df_[col], marker=mark[ix], color=palette(ix), linewidth=1, alpha=alpha, \n",
    "              label=df_.columns[ix])\n",
    "  alpha=0.9\n",
    "\n",
    "# Add legend\n",
    "plt.legend(loc=2, ncol=2)\n",
    "\n",
    "# Add titles\n",
    "plt.title(\"MSE graph\", loc='center', fontsize=11, fontweight=0, color='darkblue')\n",
    "plt.xlabel(\"iteration\")\n",
    "plt.ylabel(\"MSE\")"
   ]
  }
 ],
 "metadata": {
  "kernelspec": {
   "display_name": "Python 3",
   "language": "python",
   "name": "python3"
  },
  "language_info": {
   "codemirror_mode": {
    "name": "ipython",
    "version": 3
   },
   "file_extension": ".py",
   "mimetype": "text/x-python",
   "name": "python",
   "nbconvert_exporter": "python",
   "pygments_lexer": "ipython3",
   "version": "3.7.4"
  }
 },
 "nbformat": 4,
 "nbformat_minor": 2
}
