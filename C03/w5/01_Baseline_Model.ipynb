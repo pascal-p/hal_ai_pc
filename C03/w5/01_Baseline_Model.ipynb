{
 "cells": [
  {
   "cell_type": "markdown",
   "metadata": {},
   "source": [
    "## P1. Build Baseline model\n",
    "\n",
    "Pascal P.  \n",
    "Mar 2020  \n",
    "\n",
    "- Course: *Introduction to Deep Learning & Neural Networks with Keras*\n",
    "- Final Project: Build a Regression Model in Keras - Part 1 Baseline Model\n",
    "\n",
    "<hr />"
   ]
  },
  {
   "cell_type": "markdown",
   "metadata": {},
   "source": [
    "<hr />\n",
    "\n",
    "#### Build a baseline model (5 marks)\n",
    "\n",
    "Use the Keras library to build a neural network with the following:\n",
    "- 1 hidden layer of 10 nodes, and a ReLU activation function\n",
    "- Use the adam optimizer and the mean squared error as the loss function.\n",
    "\n",
    "\n",
    "1. Randomly split the data into a training and test sets by holding 30% of the data for testing. You can use the train_test_split helper function from Scikit-learn.\n",
    "\n",
    "2. Train the model on the training data using 50 epochs.\n",
    "\n",
    "3. Evaluate the model on the test data and compute the mean squared error between the predicted concrete strength and the actual concrete strength. You can use the mean_squared_error function from Scikit-learn.\n",
    "\n",
    "4. Repeat steps 1 - 3, 50 times, i.e., create a list of 50 mean squared errors.\n",
    "\n",
    "5. Report the mean and the standard deviation of the mean squared errors.\n",
    "\n",
    "<hr />"
   ]
  },
  {
   "cell_type": "markdown",
   "metadata": {},
   "source": [
    "### 1.1. Download, load and clean the data"
   ]
  },
  {
   "cell_type": "code",
   "execution_count": 1,
   "metadata": {},
   "outputs": [],
   "source": [
    "import pandas as pd\n",
    "import numpy as np"
   ]
  },
  {
   "cell_type": "code",
   "execution_count": 2,
   "metadata": {},
   "outputs": [
    {
     "data": {
      "text/html": [
       "<div>\n",
       "<style scoped>\n",
       "    .dataframe tbody tr th:only-of-type {\n",
       "        vertical-align: middle;\n",
       "    }\n",
       "\n",
       "    .dataframe tbody tr th {\n",
       "        vertical-align: top;\n",
       "    }\n",
       "\n",
       "    .dataframe thead th {\n",
       "        text-align: right;\n",
       "    }\n",
       "</style>\n",
       "<table border=\"1\" class=\"dataframe\">\n",
       "  <thead>\n",
       "    <tr style=\"text-align: right;\">\n",
       "      <th></th>\n",
       "      <th>Cement</th>\n",
       "      <th>Blast Furnace Slag</th>\n",
       "      <th>Fly Ash</th>\n",
       "      <th>Water</th>\n",
       "      <th>Superplasticizer</th>\n",
       "      <th>Coarse Aggregate</th>\n",
       "      <th>Fine Aggregate</th>\n",
       "      <th>Age</th>\n",
       "      <th>Strength</th>\n",
       "    </tr>\n",
       "  </thead>\n",
       "  <tbody>\n",
       "    <tr>\n",
       "      <th>0</th>\n",
       "      <td>540.0</td>\n",
       "      <td>0.0</td>\n",
       "      <td>0.0</td>\n",
       "      <td>162.0</td>\n",
       "      <td>2.5</td>\n",
       "      <td>1040.0</td>\n",
       "      <td>676.0</td>\n",
       "      <td>28</td>\n",
       "      <td>79.99</td>\n",
       "    </tr>\n",
       "    <tr>\n",
       "      <th>1</th>\n",
       "      <td>540.0</td>\n",
       "      <td>0.0</td>\n",
       "      <td>0.0</td>\n",
       "      <td>162.0</td>\n",
       "      <td>2.5</td>\n",
       "      <td>1055.0</td>\n",
       "      <td>676.0</td>\n",
       "      <td>28</td>\n",
       "      <td>61.89</td>\n",
       "    </tr>\n",
       "    <tr>\n",
       "      <th>2</th>\n",
       "      <td>332.5</td>\n",
       "      <td>142.5</td>\n",
       "      <td>0.0</td>\n",
       "      <td>228.0</td>\n",
       "      <td>0.0</td>\n",
       "      <td>932.0</td>\n",
       "      <td>594.0</td>\n",
       "      <td>270</td>\n",
       "      <td>40.27</td>\n",
       "    </tr>\n",
       "    <tr>\n",
       "      <th>3</th>\n",
       "      <td>332.5</td>\n",
       "      <td>142.5</td>\n",
       "      <td>0.0</td>\n",
       "      <td>228.0</td>\n",
       "      <td>0.0</td>\n",
       "      <td>932.0</td>\n",
       "      <td>594.0</td>\n",
       "      <td>365</td>\n",
       "      <td>41.05</td>\n",
       "    </tr>\n",
       "    <tr>\n",
       "      <th>4</th>\n",
       "      <td>198.6</td>\n",
       "      <td>132.4</td>\n",
       "      <td>0.0</td>\n",
       "      <td>192.0</td>\n",
       "      <td>0.0</td>\n",
       "      <td>978.4</td>\n",
       "      <td>825.5</td>\n",
       "      <td>360</td>\n",
       "      <td>44.30</td>\n",
       "    </tr>\n",
       "    <tr>\n",
       "      <th>5</th>\n",
       "      <td>266.0</td>\n",
       "      <td>114.0</td>\n",
       "      <td>0.0</td>\n",
       "      <td>228.0</td>\n",
       "      <td>0.0</td>\n",
       "      <td>932.0</td>\n",
       "      <td>670.0</td>\n",
       "      <td>90</td>\n",
       "      <td>47.03</td>\n",
       "    </tr>\n",
       "    <tr>\n",
       "      <th>6</th>\n",
       "      <td>380.0</td>\n",
       "      <td>95.0</td>\n",
       "      <td>0.0</td>\n",
       "      <td>228.0</td>\n",
       "      <td>0.0</td>\n",
       "      <td>932.0</td>\n",
       "      <td>594.0</td>\n",
       "      <td>365</td>\n",
       "      <td>43.70</td>\n",
       "    </tr>\n",
       "  </tbody>\n",
       "</table>\n",
       "</div>"
      ],
      "text/plain": [
       "   Cement  Blast Furnace Slag  Fly Ash  Water  Superplasticizer  \\\n",
       "0   540.0                 0.0      0.0  162.0               2.5   \n",
       "1   540.0                 0.0      0.0  162.0               2.5   \n",
       "2   332.5               142.5      0.0  228.0               0.0   \n",
       "3   332.5               142.5      0.0  228.0               0.0   \n",
       "4   198.6               132.4      0.0  192.0               0.0   \n",
       "5   266.0               114.0      0.0  228.0               0.0   \n",
       "6   380.0                95.0      0.0  228.0               0.0   \n",
       "\n",
       "   Coarse Aggregate  Fine Aggregate  Age  Strength  \n",
       "0            1040.0           676.0   28     79.99  \n",
       "1            1055.0           676.0   28     61.89  \n",
       "2             932.0           594.0  270     40.27  \n",
       "3             932.0           594.0  365     41.05  \n",
       "4             978.4           825.5  360     44.30  \n",
       "5             932.0           670.0   90     47.03  \n",
       "6             932.0           594.0  365     43.70  "
      ]
     },
     "execution_count": 2,
     "metadata": {},
     "output_type": "execute_result"
    }
   ],
   "source": [
    "# df_concrete_data = pd.read_csv('https://s3-api.us-geo.objectstorage.softlayer.net/cf-courses-data/CognitiveClass/DL0101EN/labs/data/concrete_data.csv')\n",
    "\n",
    "df_concrete_data = pd.read_csv(\"./concrete_data.csv\")\n",
    "df_concrete_data.head(7)"
   ]
  },
  {
   "cell_type": "code",
   "execution_count": 3,
   "metadata": {},
   "outputs": [
    {
     "data": {
      "text/plain": [
       "Cement                0\n",
       "Blast Furnace Slag    0\n",
       "Fly Ash               0\n",
       "Water                 0\n",
       "Superplasticizer      0\n",
       "Coarse Aggregate      0\n",
       "Fine Aggregate        0\n",
       "Age                   0\n",
       "Strength              0\n",
       "dtype: int64"
      ]
     },
     "execution_count": 3,
     "metadata": {},
     "output_type": "execute_result"
    }
   ],
   "source": [
    "# Any null value?\n",
    "df_concrete_data.isnull().sum()\n",
    "\n",
    "# ... No, good. "
   ]
  },
  {
   "cell_type": "code",
   "execution_count": 4,
   "metadata": {},
   "outputs": [],
   "source": [
    "#### A bit of EDA\n",
    "\n",
    "# %matplotlib inline\n",
    "# import seaborn as sns\n",
    "\n",
    "# sns.pairplot(df_concrete_data)\n",
    "# Observations?"
   ]
  },
  {
   "cell_type": "markdown",
   "metadata": {},
   "source": [
    "### 1.2. Split data into predictors and target"
   ]
  },
  {
   "cell_type": "code",
   "execution_count": 5,
   "metadata": {},
   "outputs": [
    {
     "data": {
      "text/plain": [
       "Index(['Cement', 'Blast Furnace Slag', 'Fly Ash', 'Water', 'Superplasticizer',\n",
       "       'Coarse Aggregate', 'Fine Aggregate', 'Age', 'Strength'],\n",
       "      dtype='object')"
      ]
     },
     "execution_count": 5,
     "metadata": {},
     "output_type": "execute_result"
    }
   ],
   "source": [
    "conc_data_cols = df_concrete_data.columns\n",
    "conc_data_cols"
   ]
  },
  {
   "cell_type": "code",
   "execution_count": 6,
   "metadata": {},
   "outputs": [
    {
     "data": {
      "text/html": [
       "<div>\n",
       "<style scoped>\n",
       "    .dataframe tbody tr th:only-of-type {\n",
       "        vertical-align: middle;\n",
       "    }\n",
       "\n",
       "    .dataframe tbody tr th {\n",
       "        vertical-align: top;\n",
       "    }\n",
       "\n",
       "    .dataframe thead th {\n",
       "        text-align: right;\n",
       "    }\n",
       "</style>\n",
       "<table border=\"1\" class=\"dataframe\">\n",
       "  <thead>\n",
       "    <tr style=\"text-align: right;\">\n",
       "      <th></th>\n",
       "      <th>Blast Furnace Slag</th>\n",
       "      <th>Cement</th>\n",
       "      <th>Coarse Aggregate</th>\n",
       "      <th>Fine Aggregate</th>\n",
       "      <th>Fly Ash</th>\n",
       "      <th>Superplasticizer</th>\n",
       "      <th>Water</th>\n",
       "    </tr>\n",
       "  </thead>\n",
       "  <tbody>\n",
       "    <tr>\n",
       "      <th>0</th>\n",
       "      <td>0.0</td>\n",
       "      <td>540.0</td>\n",
       "      <td>1040.0</td>\n",
       "      <td>676.0</td>\n",
       "      <td>0.0</td>\n",
       "      <td>2.5</td>\n",
       "      <td>162.0</td>\n",
       "    </tr>\n",
       "    <tr>\n",
       "      <th>1</th>\n",
       "      <td>0.0</td>\n",
       "      <td>540.0</td>\n",
       "      <td>1055.0</td>\n",
       "      <td>676.0</td>\n",
       "      <td>0.0</td>\n",
       "      <td>2.5</td>\n",
       "      <td>162.0</td>\n",
       "    </tr>\n",
       "    <tr>\n",
       "      <th>2</th>\n",
       "      <td>142.5</td>\n",
       "      <td>332.5</td>\n",
       "      <td>932.0</td>\n",
       "      <td>594.0</td>\n",
       "      <td>0.0</td>\n",
       "      <td>0.0</td>\n",
       "      <td>228.0</td>\n",
       "    </tr>\n",
       "    <tr>\n",
       "      <th>3</th>\n",
       "      <td>142.5</td>\n",
       "      <td>332.5</td>\n",
       "      <td>932.0</td>\n",
       "      <td>594.0</td>\n",
       "      <td>0.0</td>\n",
       "      <td>0.0</td>\n",
       "      <td>228.0</td>\n",
       "    </tr>\n",
       "    <tr>\n",
       "      <th>4</th>\n",
       "      <td>132.4</td>\n",
       "      <td>198.6</td>\n",
       "      <td>978.4</td>\n",
       "      <td>825.5</td>\n",
       "      <td>0.0</td>\n",
       "      <td>0.0</td>\n",
       "      <td>192.0</td>\n",
       "    </tr>\n",
       "  </tbody>\n",
       "</table>\n",
       "</div>"
      ],
      "text/plain": [
       "   Blast Furnace Slag  Cement  Coarse Aggregate  Fine Aggregate  Fly Ash  \\\n",
       "0                 0.0   540.0            1040.0           676.0      0.0   \n",
       "1                 0.0   540.0            1055.0           676.0      0.0   \n",
       "2               142.5   332.5             932.0           594.0      0.0   \n",
       "3               142.5   332.5             932.0           594.0      0.0   \n",
       "4               132.4   198.6             978.4           825.5      0.0   \n",
       "\n",
       "   Superplasticizer  Water  \n",
       "0               2.5  162.0  \n",
       "1               2.5  162.0  \n",
       "2               0.0  228.0  \n",
       "3               0.0  228.0  \n",
       "4               0.0  192.0  "
      ]
     },
     "execution_count": 6,
     "metadata": {},
     "output_type": "execute_result"
    }
   ],
   "source": [
    "## Exclude columns 'Age', 'Strength' for predictors\n",
    "\n",
    "df_predictors = df_concrete_data[df_concrete_data.columns.difference(['Age', 'Strength'])]\n",
    "df_predictors.head()"
   ]
  },
  {
   "cell_type": "code",
   "execution_count": 7,
   "metadata": {},
   "outputs": [],
   "source": [
    "df_target = df_concrete_data['Strength'] "
   ]
  },
  {
   "cell_type": "code",
   "execution_count": 8,
   "metadata": {},
   "outputs": [
    {
     "data": {
      "text/plain": [
       "7"
      ]
     },
     "execution_count": 8,
     "metadata": {},
     "output_type": "execute_result"
    }
   ],
   "source": [
    "n_cols = df_predictors.shape[1] \n",
    "n_cols # number of predictors"
   ]
  },
  {
   "cell_type": "markdown",
   "metadata": {},
   "source": [
    "### 1.3. Build model with keras"
   ]
  },
  {
   "cell_type": "code",
   "execution_count": 9,
   "metadata": {},
   "outputs": [
    {
     "name": "stderr",
     "output_type": "stream",
     "text": [
      "Using TensorFlow backend.\n"
     ]
    }
   ],
   "source": [
    "import keras\n",
    "\n",
    "from keras.models import Sequential\n",
    "from keras.layers import Dense"
   ]
  },
  {
   "cell_type": "code",
   "execution_count": 10,
   "metadata": {},
   "outputs": [],
   "source": [
    "## Define regression model as a python function (which we can re-use later)\n",
    "\n",
    "def regression_model(n_cols, nodes_per_hlayer=[10,], opt='adam', loss='mean_squared_error'):\n",
    "    ## 1 - Create model\n",
    "    model = Sequential()\n",
    "    for ix, num_nodes in enumerate(nodes_per_hlayer):\n",
    "      if ix == 0: # first layer\n",
    "        model.add(Dense(num_nodes, activation='relu', input_shape=(n_cols,)))\n",
    "      else:\n",
    "        model.add(Dense(num_nodes, activation='relu'))\n",
    "    model.add(Dense(1)) # output layer\n",
    "    \n",
    "    ## 2 - Compile model\n",
    "    model.compile(optimizer=opt, loss=loss, metrics=[loss])\n",
    "    return model"
   ]
  },
  {
   "cell_type": "code",
   "execution_count": 11,
   "metadata": {},
   "outputs": [],
   "source": [
    "from sklearn.model_selection import train_test_split\n",
    "\n",
    "## Define train/test split wrapper function \n",
    "\n",
    "def split_data(df_pred, df_target, test_size=0.3, random_state=6776):\n",
    "  X_train, X_test, y_train, y_test = train_test_split(df_pred, df_target, \n",
    "                                                      test_size=test_size, \n",
    "                                                      random_state=random_state)\n",
    "  return (X_train, X_test, y_train, y_test) # tuple"
   ]
  },
  {
   "cell_type": "markdown",
   "metadata": {},
   "source": [
    "### 1.4. Instanciate the model"
   ]
  },
  {
   "cell_type": "code",
   "execution_count": 12,
   "metadata": {},
   "outputs": [
    {
     "name": "stdout",
     "output_type": "stream",
     "text": [
      "Model: \"sequential_1\"\n",
      "_________________________________________________________________\n",
      "Layer (type)                 Output Shape              Param #   \n",
      "=================================================================\n",
      "dense_1 (Dense)              (None, 10)                80        \n",
      "_________________________________________________________________\n",
      "dense_2 (Dense)              (None, 1)                 11        \n",
      "=================================================================\n",
      "Total params: 91\n",
      "Trainable params: 91\n",
      "Non-trainable params: 0\n",
      "_________________________________________________________________\n"
     ]
    }
   ],
   "source": [
    "## as per spec n_cols input, 10 nodes in only 1 layer (array of length 1)\n",
    "model = regression_model(n_cols, nodes_per_hlayer=[10])\n",
    "\n",
    "model.summary()"
   ]
  },
  {
   "cell_type": "markdown",
   "metadata": {},
   "source": [
    "### 1.5. Train and evaluate the model"
   ]
  },
  {
   "cell_type": "code",
   "execution_count": 13,
   "metadata": {},
   "outputs": [],
   "source": [
    "from sklearn.metrics import mean_squared_error"
   ]
  },
  {
   "cell_type": "code",
   "execution_count": 14,
   "metadata": {
    "scrolled": true
   },
   "outputs": [
    {
     "name": "stderr",
     "output_type": "stream",
     "text": [
      "WARNING: Logging before flag parsing goes to stderr.\n",
      "W0322 11:26:29.746470 139735613523776 deprecation_wrapper.py:119] From /home/pascal/Projects/ML_DL/anaconda3/envs/tensorflow_keras_gpuenv/lib/python3.7/site-packages/keras/backend/tensorflow_backend.py:422: The name tf.global_variables is deprecated. Please use tf.compat.v1.global_variables instead.\n",
      "\n"
     ]
    },
    {
     "name": "stdout",
     "output_type": "stream",
     "text": [
      "Iteration:  0 / MSE: 208.94951\n",
      "Iteration:  1 / MSE: 210.50744\n",
      "Iteration:  2 / MSE: 190.81275\n",
      "Iteration:  3 / MSE: 206.24870\n",
      "Iteration:  4 / MSE: 189.51954\n",
      "Iteration:  5 / MSE: 179.67480\n",
      "Iteration:  6 / MSE: 183.72541\n",
      "Iteration:  7 / MSE: 1634.82257\n",
      "Iteration:  8 / MSE: 314.23681\n",
      "Iteration:  9 / MSE: 227.07544\n",
      "Iteration: 10 / MSE: 182.39488\n",
      "Iteration: 11 / MSE: 468.30551\n",
      "Iteration: 12 / MSE: 214.51967\n",
      "Iteration: 13 / MSE: 337.41017\n",
      "Iteration: 14 / MSE: 443.29441\n",
      "Iteration: 15 / MSE: 187.04362\n",
      "Iteration: 16 / MSE: 256.60725\n",
      "Iteration: 17 / MSE: 703.58446\n",
      "Iteration: 18 / MSE: 1001.16135\n",
      "Iteration: 19 / MSE: 308.55933\n",
      "Iteration: 20 / MSE: 224.18897\n",
      "Iteration: 21 / MSE: 183.10188\n",
      "Iteration: 22 / MSE: 1045.57920\n",
      "Iteration: 23 / MSE: 831.66355\n",
      "Iteration: 24 / MSE: 221.46654\n",
      "Iteration: 25 / MSE: 188.33838\n",
      "Iteration: 26 / MSE: 269.85487\n",
      "Iteration: 27 / MSE: 189.33435\n",
      "Iteration: 28 / MSE: 187.95042\n",
      "Iteration: 29 / MSE: 2164.59753\n",
      "Iteration: 30 / MSE: 194.71530\n",
      "Iteration: 31 / MSE: 195.90174\n",
      "Iteration: 32 / MSE: 181.63850\n",
      "Iteration: 33 / MSE: 469.26501\n",
      "Iteration: 34 / MSE: 284.02014\n",
      "Iteration: 35 / MSE: 734.69664\n",
      "Iteration: 36 / MSE: 366.78027\n",
      "Iteration: 37 / MSE: 1443.08220\n",
      "Iteration: 38 / MSE: 749.74715\n",
      "Iteration: 39 / MSE: 227.54630\n",
      "Iteration: 40 / MSE: 182.26118\n",
      "Iteration: 41 / MSE: 850.71363\n",
      "Iteration: 42 / MSE: 616.71356\n",
      "Iteration: 43 / MSE: 348.10402\n",
      "Iteration: 44 / MSE: 223.32329\n",
      "Iteration: 45 / MSE: 184.50313\n",
      "Iteration: 46 / MSE: 186.39344\n",
      "Iteration: 47 / MSE: 186.14287\n",
      "Iteration: 48 / MSE: 192.81902\n",
      "Iteration: 49 / MSE: 233.59137\n"
     ]
    }
   ],
   "source": [
    "## Main Train/Eval loop - 50 iterations\n",
    "\n",
    "N = 50\n",
    "mse_ary = []\n",
    "\n",
    "for ix in range(0, N):\n",
    "  ## Reset model => reset the weigths\n",
    "  model = regression_model(n_cols, nodes_per_hlayer=[10])\n",
    "  \n",
    "  ## Split the data into train and test set using opur wrapper function\n",
    "  X_train, X_test, y_train, y_test = split_data(df_predictors, df_target)\n",
    "\n",
    "  ## Fit the model no validation split\n",
    "  _history = model.fit(X_train, y_train, \n",
    "                       epochs=50, \n",
    "                       verbose=0)\n",
    "    \n",
    "  ## Make Predictions\n",
    "  pred = model.predict(X_test)\n",
    "  \n",
    "  ## Compare to ground truth\n",
    "  mse = mean_squared_error(y_test, pred)\n",
    "  print(\"Iteration: {:2d} / MSE: {:1.5f}\".format(ix, mse))\n",
    "  \n",
    "  ## Keep it for later\n",
    "  mse_ary.append(mse)"
   ]
  },
  {
   "cell_type": "code",
   "execution_count": 15,
   "metadata": {
    "scrolled": true
   },
   "outputs": [
    {
     "name": "stdout",
     "output_type": "stream",
     "text": [
      "Summary baseline model: \n",
      "mean(MSE): 424.12976 / unbiased std(MSE): 415.68499 / biased std(MSE): 411.50715\n"
     ]
    }
   ],
   "source": [
    "## Summary\n",
    "\n",
    "print(\"Summary baseline model: \")\n",
    "np_ary = np.array(mse_ary, dtype=np.float64)\n",
    "\n",
    "## NOTE: using unbiased std - which means diving by N-1 (where N is the size of sample here 50)\n",
    "##       just in case, added biased std.\n",
    "print(\"mean(MSE): {:2.5f} / unbiased std(MSE): {:2.5f} / biased std(MSE): {:2.5f}\"\\\n",
    "      .format(np.mean(np_ary), np.std(np_ary, ddof=1), np.std(np_ary, ddof=0)))"
   ]
  },
  {
   "cell_type": "markdown",
   "metadata": {},
   "source": [
    "#### Optional"
   ]
  },
  {
   "cell_type": "code",
   "execution_count": 16,
   "metadata": {},
   "outputs": [
    {
     "name": "stdout",
     "output_type": "stream",
     "text": [
      "max: 2164.59753 at epoch: 29 / min: 179.67480 at epoch:  5\n"
     ]
    }
   ],
   "source": [
    "ix_max = np_ary.argmax()\n",
    "ix_min = np_ary.argmin()\n",
    "\n",
    "print(\"max: {:2.5f} at epoch: {:2d} / min: {:2.5f} at epoch: {:2d}\"\\\n",
    "      .format(np_ary[ix_max], ix_max, np_ary[ix_min], ix_min))\n"
   ]
  },
  {
   "cell_type": "code",
   "execution_count": 17,
   "metadata": {},
   "outputs": [
    {
     "data": {
      "text/html": [
       "<div>\n",
       "<style scoped>\n",
       "    .dataframe tbody tr th:only-of-type {\n",
       "        vertical-align: middle;\n",
       "    }\n",
       "\n",
       "    .dataframe tbody tr th {\n",
       "        vertical-align: top;\n",
       "    }\n",
       "\n",
       "    .dataframe thead th {\n",
       "        text-align: right;\n",
       "    }\n",
       "</style>\n",
       "<table border=\"1\" class=\"dataframe\">\n",
       "  <thead>\n",
       "    <tr style=\"text-align: right;\">\n",
       "      <th></th>\n",
       "      <th>mse_01_bl</th>\n",
       "    </tr>\n",
       "  </thead>\n",
       "  <tbody>\n",
       "    <tr>\n",
       "      <th>0</th>\n",
       "      <td>208.949511</td>\n",
       "    </tr>\n",
       "    <tr>\n",
       "      <th>1</th>\n",
       "      <td>210.507436</td>\n",
       "    </tr>\n",
       "    <tr>\n",
       "      <th>2</th>\n",
       "      <td>190.812754</td>\n",
       "    </tr>\n",
       "    <tr>\n",
       "      <th>3</th>\n",
       "      <td>206.248697</td>\n",
       "    </tr>\n",
       "    <tr>\n",
       "      <th>4</th>\n",
       "      <td>189.519537</td>\n",
       "    </tr>\n",
       "  </tbody>\n",
       "</table>\n",
       "</div>"
      ],
      "text/plain": [
       "    mse_01_bl\n",
       "0  208.949511\n",
       "1  210.507436\n",
       "2  190.812754\n",
       "3  206.248697\n",
       "4  189.519537"
      ]
     },
     "execution_count": 17,
     "metadata": {},
     "output_type": "execute_result"
    }
   ],
   "source": [
    "df_ = pd.DataFrame(np_ary, columns=['mse_01_bl'])\n",
    "df_.head()"
   ]
  },
  {
   "cell_type": "code",
   "execution_count": 18,
   "metadata": {},
   "outputs": [],
   "source": [
    "df_.to_csv('01_baseline_model.csv', sep=',', encoding='utf-8',  index=False)"
   ]
  },
  {
   "cell_type": "code",
   "execution_count": 19,
   "metadata": {},
   "outputs": [
    {
     "data": {
      "text/plain": [
       "Text(0, 0.5, 'MSE')"
      ]
     },
     "execution_count": 19,
     "metadata": {},
     "output_type": "execute_result"
    },
    {
     "data": {
      "image/png": "[encoded data removed]",
      "text/plain": [
       "<Figure size 720x432 with 1 Axes>"
      ]
     },
     "metadata": {
      "needs_background": "light"
     },
     "output_type": "display_data"
    }
   ],
   "source": [
    "import matplotlib.pyplot as plt\n",
    "%matplotlib inline\n",
    "\n",
    "fig = plt.figure(figsize=(10, 6))\n",
    "\n",
    "# style\n",
    "plt.style.use('seaborn-darkgrid')\n",
    "\n",
    "# create a color palette\n",
    "palette = plt.get_cmap('Set1')\n",
    "\n",
    "# multiple line plot\n",
    "ixes = list(range(0, df_.shape[0]))\n",
    "ix = 0\n",
    "plt.plot(ixes, df_['mse_01_bl'], marker='x', color=palette(ix), linewidth=1, alpha=0.7, \n",
    "         label=df_.columns[ix])\n",
    "\n",
    "# Add legend\n",
    "plt.legend(loc=2, ncol=2)\n",
    "\n",
    "# Add titles\n",
    "plt.title(\"MSE graph\", loc='center', fontsize=11, fontweight=0, color='darkblue')\n",
    "plt.xlabel(\"iteration\")\n",
    "plt.ylabel(\"MSE\")"
   ]
  },
  {
   "cell_type": "code",
   "execution_count": null,
   "metadata": {},
   "outputs": [],
   "source": []
  }
 ],
 "metadata": {
  "kernelspec": {
   "display_name": "Python 3",
   "language": "python",
   "name": "python3"
  },
  "language_info": {
   "codemirror_mode": {
    "name": "ipython",
    "version": 3
   },
   "file_extension": ".py",
   "mimetype": "text/x-python",
   "name": "python",
   "nbconvert_exporter": "python",
   "pygments_lexer": "ipython3",
   "version": "3.7.4"
  }
 },
 "nbformat": 4,
 "nbformat_minor": 2
}
