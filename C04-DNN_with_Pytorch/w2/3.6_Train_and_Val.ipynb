{
 "cells": [
  {
   "cell_type": "markdown",
   "metadata": {},
   "source": [
    "<a href=\"http://cocl.us/pytorch_link_top\">\n",
    "    <img src=\"https://s3-api.us-geo.objectstorage.softlayer.net/cf-courses-data/CognitiveClass/DL0110EN/notebook_images%20/Pytochtop.png\" width=\"750\" alt=\"IBM Product \" />\n",
    "</a> "
   ]
  },
  {
   "cell_type": "markdown",
   "metadata": {},
   "source": [
    "<img src=\"https://s3-api.us-geo.objectstorage.softlayer.net/cf-courses-data/CognitiveClass/DL0110EN/notebook_images%20/cc-logo-square.png\" width=\"200\" alt=\"cognitiveclass.ai logo\" />"
   ]
  },
  {
   "cell_type": "markdown",
   "metadata": {},
   "source": [
    "<h1>Linear regression: Training and Validation Data</h1> "
   ]
  },
  {
   "cell_type": "markdown",
   "metadata": {},
   "source": [
    "<h2>Table of Contents</h2>\n",
    "<p>In this lab, you will learn to select the best learning rate by using validation data.</p>\n",
    "\n",
    "<ul>\n",
    "    <li><a href=\"#Makeup_Data\">Make Some Data</a></li>\n",
    "    <li><a href=\"#LR_Loader_Cost\">Create a Linear Regression Object, Data Loader and Criterion Function</a></li>\n",
    "    <li><a href=\"#LR_Hyper\">Different learning rates and Data Structures to Store results for Different Hyperparameters</a></li>\n",
    "    <li><a href=\"#Model\">Train different modules for different Hyperparameters</a></li>\n",
    "    <li><a href=\"#Result\">View Results</a></li>\n",
    "</ul>\n",
    "\n",
    "<p>Estimated Time Needed: <strong>30 min</strong></p>\n",
    "\n",
    "<hr>"
   ]
  },
  {
   "cell_type": "markdown",
   "metadata": {},
   "source": [
    "<h2>Preparation</h2>"
   ]
  },
  {
   "cell_type": "markdown",
   "metadata": {},
   "source": [
    "We'll need the following libraries and set the random seed."
   ]
  },
  {
   "cell_type": "code",
   "execution_count": 1,
   "metadata": {},
   "outputs": [],
   "source": [
    "# Import libraries we need for this lab, and set the random seed\n",
    "\n",
    "from torch import nn\n",
    "import torch\n",
    "import numpy as np\n",
    "import matplotlib.pyplot as plt\n",
    "from torch import nn,optim"
   ]
  },
  {
   "cell_type": "markdown",
   "metadata": {},
   "source": [
    "<!--Empty Space for separating topics-->"
   ]
  },
  {
   "cell_type": "markdown",
   "metadata": {},
   "source": [
    "<h2 id=\"Makeup_Data\">Make Some Data</h2>"
   ]
  },
  {
   "cell_type": "markdown",
   "metadata": {},
   "source": [
    "First, we'll create some artificial data in a dataset class. The class will include the option to produce training data or validation data. The training data will include outliers."
   ]
  },
  {
   "cell_type": "code",
   "execution_count": 2,
   "metadata": {},
   "outputs": [],
   "source": [
    "## Create Data class\n",
    "from torch.utils.data import Dataset, DataLoader\n",
    "\n",
    "class Data(Dataset):\n",
    "    ## Constructor\n",
    "    def __init__(self, train = True):\n",
    "            self.x = torch.arange(-3, 3, 0.1).view(-1, 1)\n",
    "            self.f = -3 * self.x + 1\n",
    "            self.y = self.f + 0.1 * torch.randn(self.x.size())\n",
    "            self.len = self.x.shape[0]\n",
    "            \n",
    "            #outliers \n",
    "            if train == True:\n",
    "                self.y[0] = 0\n",
    "                self.y[50:55] = 20\n",
    "            else:\n",
    "                pass\n",
    "      \n",
    "    ## Getter\n",
    "    def __getitem__(self, ix):    \n",
    "        return self.x[ix], self.y[ix]\n",
    "    \n",
    "    ## Get Length\n",
    "    def __len__(self):\n",
    "        return self.len"
   ]
  },
  {
   "cell_type": "markdown",
   "metadata": {},
   "source": [
    "Create two objects: one that contains training data and a second that contains validation data. Assume that the training data has the outliers. "
   ]
  },
  {
   "cell_type": "code",
   "execution_count": 3,
   "metadata": {},
   "outputs": [],
   "source": [
    "## Create training dataset and validation dataset\n",
    "train_data = Data()\n",
    "val_data = Data(train = False)"
   ]
  },
  {
   "cell_type": "markdown",
   "metadata": {},
   "source": [
    "Overlay the training points in red over the function that generated the data. Notice the outliers at x=-3 and around x=2:"
   ]
  },
  {
   "cell_type": "code",
   "execution_count": 4,
   "metadata": {},
   "outputs": [
    {
     "data": {
      "image/png": "[encoded data removed]",
      "text/plain": [
       "<Figure size 432x288 with 1 Axes>"
      ]
     },
     "metadata": {
      "needs_background": "light"
     },
     "output_type": "display_data"
    }
   ],
   "source": [
    "## Plot out training points\n",
    "\n",
    "plt.plot(train_data.x.numpy(), train_data.y.numpy(), 'xr',label=\"training data \")\n",
    "plt.plot(train_data.x.numpy(), train_data.f.numpy(),label=\"true function  \")\n",
    "plt.xlabel('x')\n",
    "plt.ylabel('y')\n",
    "plt.legend()\n",
    "plt.show()"
   ]
  },
  {
   "cell_type": "markdown",
   "metadata": {},
   "source": [
    "<!--Empty Space for separating topics-->"
   ]
  },
  {
   "cell_type": "markdown",
   "metadata": {},
   "source": [
    "<h2 id=\"LR_Loader_Cost\">Create a Linear Regression Object,  Data Loader, and Criterion Function</h2>"
   ]
  },
  {
   "cell_type": "code",
   "execution_count": 5,
   "metadata": {},
   "outputs": [],
   "source": [
    "## Create Linear Regression Class\n",
    "from torch import nn\n",
    "\n",
    "class linear_regression(nn.Module):   \n",
    "    ## Constructor\n",
    "    def __init__(self, input_size, output_size):\n",
    "        super(linear_regression, self).__init__()\n",
    "        self.linear = nn.Linear(input_size, output_size)\n",
    "    \n",
    "    ## Prediction function\n",
    "    def forward(self, x):\n",
    "        return self.linear(x) # yhat"
   ]
  },
  {
   "cell_type": "markdown",
   "metadata": {},
   "source": [
    "Create the criterion function and a <code>DataLoader</code> object: "
   ]
  },
  {
   "cell_type": "code",
   "execution_count": 6,
   "metadata": {},
   "outputs": [],
   "source": [
    "## Create MSELoss function and DataLoader\n",
    "criterion = nn.MSELoss()\n",
    "\n",
    "trainloader = DataLoader(dataset = train_data, batch_size = 1)"
   ]
  },
  {
   "cell_type": "markdown",
   "metadata": {},
   "source": [
    "<!--Empty Space for separating topics-->"
   ]
  },
  {
   "cell_type": "markdown",
   "metadata": {},
   "source": [
    "<h2 id=\"LR_Hyper\">Different learning rates and Data Structures to Store results for different Hyperparameters</h2>"
   ]
  },
  {
   "cell_type": "markdown",
   "metadata": {},
   "source": [
    "Create a list with different learning rates and a tensor (can be a list) for the training and validating cost/total loss. Include the list MODELS, which stores the training model for every value of the learning rate. "
   ]
  },
  {
   "cell_type": "code",
   "execution_count": 11,
   "metadata": {},
   "outputs": [],
   "source": [
    "## Create Learning Rate list, the error lists and the MODELS list\n",
    "learning_rates = [0.0001, 0.001, 0.01, 0.1]\n",
    "\n",
    "train_error = torch.zeros(len(learning_rates))\n",
    "validation_error = torch.zeros(len(learning_rates))\n",
    "\n",
    "# models=[]"
   ]
  },
  {
   "cell_type": "markdown",
   "metadata": {},
   "source": [
    "<!--Empty Space for separating topics-->"
   ]
  },
  {
   "cell_type": "markdown",
   "metadata": {},
   "source": [
    "<h2 id=\"Model\">Train different models  for different Hyperparameters</h2>"
   ]
  },
  {
   "cell_type": "markdown",
   "metadata": {},
   "source": [
    "Try different values of learning rates, perform stochastic gradient descent, and save the results on the training data and validation data. Finally, save each model in a list."
   ]
  },
  {
   "cell_type": "code",
   "execution_count": 12,
   "metadata": {},
   "outputs": [],
   "source": [
    "# Define the train model function and train the model\n",
    "\n",
    "def train_model_with_lr (iter, lr_list, train_error, validation_error, models=[]):\n",
    "    ## iterate through different learning rates \n",
    "    for i, lr in enumerate(lr_list):\n",
    "        model = linear_regression(1, 1)\n",
    "        optimizer = optim.SGD(model.parameters(), lr = lr)\n",
    "        \n",
    "        for epoch in range(iter):\n",
    "            for x, y in trainloader:\n",
    "                yhat = model(x)\n",
    "                loss = criterion(yhat, y)\n",
    "                optimizer.zero_grad()\n",
    "                loss.backward()\n",
    "                optimizer.step()\n",
    "                \n",
    "        ## Train data\n",
    "        Yhat = model(train_data.x)\n",
    "        train_loss = criterion(Yhat, train_data.y)\n",
    "        train_error[i] = train_loss.item()\n",
    "    \n",
    "        ## Validation data\n",
    "        Yhat = model(val_data.x)\n",
    "        val_loss = criterion(Yhat, val_data.y)\n",
    "        validation_error[i] = val_loss.item()\n",
    "        models.append(model)\n",
    "\n",
    "    return models, train_error, validation_error"
   ]
  },
  {
   "cell_type": "code",
   "execution_count": 13,
   "metadata": {},
   "outputs": [],
   "source": [
    "models, train_error, validation_error = train_model_with_lr(10, learning_rates, \n",
    "                                                            train_error, \n",
    "                                                            validation_error)"
   ]
  },
  {
   "cell_type": "markdown",
   "metadata": {},
   "source": [
    "<!--Empty Space for separating topics-->"
   ]
  },
  {
   "cell_type": "markdown",
   "metadata": {},
   "source": [
    "<h2 id=\"Result\">View the Results</h2>"
   ]
  },
  {
   "cell_type": "markdown",
   "metadata": {},
   "source": [
    "Plot the training loss and validation loss for each learning rate:  "
   ]
  },
  {
   "cell_type": "code",
   "execution_count": 14,
   "metadata": {},
   "outputs": [
    {
     "data": {
      "image/png": "[encoded data removed]",
      "text/plain": [
       "<Figure size 432x288 with 1 Axes>"
      ]
     },
     "metadata": {
      "needs_background": "light"
     },
     "output_type": "display_data"
    }
   ],
   "source": [
    "# Plot the training loss and validation loss\n",
    "\n",
    "plt.semilogx(np.array(learning_rates), train_error.numpy(), label = 'training loss/total Loss')\n",
    "plt.semilogx(np.array(learning_rates), validation_error.numpy(), label = 'validation cost/total Loss')\n",
    "plt.ylabel('Cost\\ Total Loss')\n",
    "plt.xlabel('learning rate')\n",
    "plt.legend()\n",
    "plt.show()"
   ]
  },
  {
   "cell_type": "markdown",
   "metadata": {},
   "source": [
    "Produce a prediction by using the validation data for each model:  "
   ]
  },
  {
   "cell_type": "code",
   "execution_count": 15,
   "metadata": {},
   "outputs": [
    {
     "name": "stdout",
     "output_type": "stream",
     "text": [
      "i [[0.93294835]\n",
      " [0.92555094]\n",
      " [0.91815346]]\n",
      "i [[5.708806 ]\n",
      " [5.591882 ]\n",
      " [5.4749584]]\n",
      "i [[6.598927 ]\n",
      " [6.4646006]\n",
      " [6.3302736]]\n",
      "i [[14.723555]\n",
      " [14.280428]\n",
      " [13.837301]]\n"
     ]
    },
    {
     "data": {
      "image/png": "[encoded data removed]",
      "text/plain": [
       "<Figure size 432x288 with 1 Axes>"
      ]
     },
     "metadata": {
      "needs_background": "light"
     },
     "output_type": "display_data"
    }
   ],
   "source": [
    "# Plot the predictions\n",
    "\n",
    "i = 0\n",
    "for model, learning_rate in zip(models, learning_rates):\n",
    "    yhat = model(val_data.x)\n",
    "    plt.plot(val_data.x.numpy(), yhat.detach().numpy(), label = 'lr:' + str(learning_rate))\n",
    "    print('i', yhat.detach().numpy()[0:3])\n",
    "    \n",
    "plt.plot(val_data.x.numpy(), val_data.f.numpy(), 'or', label = 'validation data')\n",
    "plt.xlabel('x')\n",
    "plt.ylabel('y')\n",
    "plt.legend()\n",
    "plt.show()"
   ]
  },
  {
   "cell_type": "markdown",
   "metadata": {},
   "source": [
    "<!--Empty Space for separating topics-->"
   ]
  },
  {
   "cell_type": "markdown",
   "metadata": {},
   "source": [
    "<h3>Practice</h3>"
   ]
  },
  {
   "cell_type": "markdown",
   "metadata": {},
   "source": [
    "The object <code>good_model</code> is the best performing model.  \n",
    "- Use the train loader to get the data samples x and y.   \n",
    "- Produce an estimate for <code>yhat</code> and \n",
    "- Print it out for every sample in a for a loop. Compare it to the actual prediction <code>y</code>."
   ]
  },
  {
   "cell_type": "code",
   "execution_count": 16,
   "metadata": {},
   "outputs": [
    {
     "data": {
      "text/plain": [
       "[linear_regression(\n",
       "   (linear): Linear(in_features=1, out_features=1, bias=True)\n",
       " ), linear_regression(\n",
       "   (linear): Linear(in_features=1, out_features=1, bias=True)\n",
       " ), linear_regression(\n",
       "   (linear): Linear(in_features=1, out_features=1, bias=True)\n",
       " ), linear_regression(\n",
       "   (linear): Linear(in_features=1, out_features=1, bias=True)\n",
       " )]"
      ]
     },
     "execution_count": 16,
     "metadata": {},
     "output_type": "execute_result"
    }
   ],
   "source": [
    "models"
   ]
  },
  {
   "cell_type": "code",
   "execution_count": 17,
   "metadata": {},
   "outputs": [
    {
     "data": {
      "text/plain": [
       "linear_regression(\n",
       "  (linear): Linear(in_features=1, out_features=1, bias=True)\n",
       ")"
      ]
     },
     "execution_count": 17,
     "metadata": {},
     "output_type": "execute_result"
    }
   ],
   "source": [
    "models[-1]"
   ]
  },
  {
   "cell_type": "code",
   "execution_count": 21,
   "metadata": {
    "scrolled": true
   },
   "outputs": [
    {
     "name": "stdout",
     "output_type": "stream",
     "text": [
      "yhat:  14.723554611206055  y:  0.0  - loss:  216.78306579589844\n",
      "yhat:  14.280427932739258  y:  9.623664855957031  - loss:  21.685441970825195\n",
      "yhat:  13.837301254272461  y:  9.179364204406738  - loss:  21.69637680053711\n",
      "yhat:  13.394176483154297  y:  8.938543319702148  - loss:  19.8526668548584\n",
      "yhat:  12.9510498046875  y:  8.7503662109375  - loss:  17.645742416381836\n",
      "yhat:  12.507923126220703  y:  8.509072303771973  - loss:  15.99080753326416\n",
      "yhat:  12.064796447753906  y:  7.977425575256348  - loss:  16.706600189208984\n",
      "yhat:  11.62166976928711  y:  7.887649059295654  - loss:  13.942910194396973\n",
      "yhat:  11.178544998168945  y:  7.705616474151611  - loss:  12.061232566833496\n",
      "yhat:  10.735418319702148  y:  7.189163684844971  - loss:  12.575922012329102\n",
      "yhat:  10.292291641235352  y:  6.934844970703125  - loss:  11.272448539733887\n",
      "yhat:  9.849164962768555  y:  6.413753509521484  - loss:  11.802051544189453\n",
      "yhat:  9.40604019165039  y:  6.30025053024292  - loss:  9.645929336547852\n",
      "yhat:  8.962913513183594  y:  6.117574214935303  - loss:  8.095955848693848\n",
      "yhat:  8.519786834716797  y:  5.785650253295898  - loss:  7.475502967834473\n",
      "yhat:  8.076661109924316  y:  5.704608917236328  - loss:  5.626631736755371\n",
      "yhat:  7.633534908294678  y:  5.264037609100342  - loss:  5.614517688751221\n",
      "yhat:  7.190408706665039  y:  4.995917797088623  - loss:  4.815790176391602\n",
      "yhat:  6.7472825050354  y:  4.588139533996582  - loss:  4.661898136138916\n",
      "yhat:  6.304156303405762  y:  4.368536949157715  - loss:  3.746622323989868\n",
      "yhat:  5.861030101776123  y:  4.0758538246154785  - loss:  3.186854362487793\n",
      "yhat:  5.417903900146484  y:  3.5272765159606934  - loss:  3.574471950531006\n",
      "yhat:  4.974777698516846  y:  3.4689998626708984  - loss:  2.267366886138916\n",
      "yhat:  4.531651496887207  y:  2.999662160873413  - loss:  2.3469913005828857\n",
      "yhat:  4.088525295257568  y:  2.8468780517578125  - loss:  1.5416878461837769\n",
      "yhat:  3.6453990936279297  y:  2.5072996616363525  - loss:  1.295270323753357\n",
      "yhat:  3.202272891998291  y:  2.136178731918335  - loss:  1.1365567445755005\n",
      "yhat:  2.7591466903686523  y:  2.0002334117889404  - loss:  0.5759493708610535\n",
      "yhat:  2.3160204887390137  y:  1.598555564880371  - loss:  0.51475590467453\n",
      "yhat:  1.872894287109375  y:  1.4835315942764282  - loss:  0.1516033113002777\n",
      "yhat:  1.4297680854797363  y:  1.1478387117385864  - loss:  0.07948417216539383\n",
      "yhat:  0.9866418838500977  y:  0.562271237373352  - loss:  0.18009044229984283\n",
      "yhat:  0.543515682220459  y:  0.5234859585762024  - loss:  0.0004011898417957127\n",
      "yhat:  0.10038948059082031  y:  -0.0038224011659622192  - loss:  0.010860116221010685\n",
      "yhat:  -0.34273672103881836  y:  -0.18946316838264465  - loss:  0.023492781445384026\n",
      "yhat:  -0.785862922668457  y:  -0.5385990142822266  - loss:  0.06113944202661514\n",
      "yhat:  -1.2289891242980957  y:  -0.7325674295425415  - loss:  0.24643449485301971\n",
      "yhat:  -1.6721153259277344  y:  -1.0152308940887451  - loss:  0.43149715662002563\n",
      "yhat:  -2.115241527557373  y:  -1.3665052652359009  - loss:  0.5606060028076172\n",
      "yhat:  -2.5583677291870117  y:  -1.795662522315979  - loss:  0.5817192196846008\n",
      "yhat:  -3.0014939308166504  y:  -2.0399680137634277  - loss:  0.9245321154594421\n",
      "yhat:  -3.444620132446289  y:  -2.334622859954834  - loss:  1.2320939302444458\n",
      "yhat:  -3.8877463340759277  y:  -2.40830135345459  - loss:  2.1887574195861816\n",
      "yhat:  -4.330872535705566  y:  -2.9525094032287598  - loss:  1.8998849391937256\n",
      "yhat:  -4.773998737335205  y:  -3.0629334449768066  - loss:  2.9277443885803223\n",
      "yhat:  -5.217124938964844  y:  -3.451113224029541  - loss:  3.1187973022460938\n",
      "yhat:  -5.660251140594482  y:  -3.7792859077453613  - loss:  3.5380301475524902\n",
      "yhat:  -6.103377342224121  y:  -4.113692283630371  - loss:  3.9588465690612793\n",
      "yhat:  -6.54650354385376  y:  -4.540078163146973  - loss:  4.025743007659912\n",
      "yhat:  -6.98962926864624  y:  -4.733926773071289  - loss:  5.088193893432617\n",
      "yhat:  -7.432755947113037  y:  20.0  - loss:  752.55615234375\n",
      "yhat:  -7.875881671905518  y:  20.0  - loss:  777.0647583007812\n",
      "yhat:  -8.319007873535156  y:  20.0  - loss:  801.9661865234375\n",
      "yhat:  -8.762134552001953  y:  20.0  - loss:  827.2603759765625\n",
      "yhat:  -9.20526123046875  y:  20.0  - loss:  852.947265625\n",
      "yhat:  -9.648387908935547  y:  -6.581795692443848  - loss:  9.403987884521484\n",
      "yhat:  -10.091512680053711  y:  -6.560986042022705  - loss:  12.464618682861328\n",
      "yhat:  -10.534639358520508  y:  -7.410970687866211  - loss:  9.757306098937988\n",
      "yhat:  -10.977766036987305  y:  -7.43595552444458  - loss:  12.544422149658203\n",
      "yhat:  -11.420892715454102  y:  -7.596635818481445  - loss:  14.624940872192383\n"
     ]
    }
   ],
   "source": [
    "good_model = models[-1]\n",
    "\n",
    "for x, y in trainloader:\n",
    "  yhat = good_model(x)\n",
    "  loss = criterion(yhat, y)\n",
    "  print(\"yhat: \", yhat.item(),\" y: \", y.item(), \" - loss: \", loss.item())\n"
   ]
  },
  {
   "cell_type": "markdown",
   "metadata": {},
   "source": [
    "Double-click <b>here</b> for the solution.\n",
    "\n",
    "<!-- \n",
    "for x, y in trainloader:\n",
    "    print(\"yhat= \", good_model(x),\"y\", y)\n",
    "-->"
   ]
  },
  {
   "cell_type": "markdown",
   "metadata": {},
   "source": [
    "<!--Empty Space for separating topics-->"
   ]
  },
  {
   "cell_type": "markdown",
   "metadata": {},
   "source": [
    "<a href=\"http://cocl.us/pytorch_link_bottom\">\n",
    "    <img src=\"https://s3-api.us-geo.objectstorage.softlayer.net/cf-courses-data/CognitiveClass/DL0110EN/notebook_images%20/notebook_bottom%20.png\" width=\"750\" alt=\"PyTorch Bottom\" />\n",
    "</a>"
   ]
  },
  {
   "cell_type": "markdown",
   "metadata": {},
   "source": [
    "<h2>About the Authors:</h2> \n",
    "\n",
    "<a href=\"https://www.linkedin.com/in/joseph-s-50398b136/\">Joseph Santarcangelo</a> has a PhD in Electrical Engineering, his research focused on using machine learning, signal processing, and computer vision to determine how videos impact human cognition. Joseph has been working for IBM since he completed his PhD. "
   ]
  },
  {
   "cell_type": "markdown",
   "metadata": {},
   "source": [
    "Other contributors: <a href=\"https://www.linkedin.com/in/michelleccarey/\">Michelle Carey</a>, <a href=\"www.linkedin.com/in/jiahui-mavis-zhou-a4537814a\">Mavis Zhou</a>"
   ]
  },
  {
   "cell_type": "markdown",
   "metadata": {},
   "source": [
    "<hr>"
   ]
  },
  {
   "cell_type": "markdown",
   "metadata": {},
   "source": [
    "Copyright &copy; 2018 <a href=\"cognitiveclass.ai?utm_source=bducopyrightlink&utm_medium=dswb&utm_campaign=bdu\">cognitiveclass.ai</a>. This notebook and its source code are released under the terms of the <a href=\"https://bigdatauniversity.com/mit-license/\">MIT License</a>."
   ]
  }
 ],
 "metadata": {
  "kernelspec": {
   "display_name": "Python 3",
   "language": "python",
   "name": "python3"
  },
  "language_info": {
   "codemirror_mode": {
    "name": "ipython",
    "version": 3
   },
   "file_extension": ".py",
   "mimetype": "text/x-python",
   "name": "python",
   "nbconvert_exporter": "python",
   "pygments_lexer": "ipython3",
   "version": "3.7.5"
  }
 },
 "nbformat": 4,
 "nbformat_minor": 2
}
