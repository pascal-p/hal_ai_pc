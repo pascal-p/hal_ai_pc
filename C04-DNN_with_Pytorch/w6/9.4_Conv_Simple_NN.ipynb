{
 "cells": [
  {
   "cell_type": "markdown",
   "metadata": {},
   "source": [
    "<div class=\"alert alert-block alert-info\" style=\"margin-top: 20px\">\n",
    " <a href=\"http://cocl.us/pytorch_link_top\"><img src = \"http://cocl.us/Pytorch_top\" width = 950, align = \"center\">"
   ]
  },
  {
   "cell_type": "markdown",
   "metadata": {},
   "source": [
    "<img src = \"https://ibm.box.com/shared/static/ugcqz6ohbvff804xp84y4kqnvvk3bq1g.png\" width = 200, align = \"center\">\n",
    "\n",
    "\n",
    "<h1 align=center><font size = 5>Convolutional Neral Network Simple example </font></h1> "
   ]
  },
  {
   "cell_type": "markdown",
   "metadata": {},
   "source": [
    "\n",
    "# Table of Contents\n",
    "In this lab, we will use a Convolutional Neral Networks to classify horizontal an vertical Lines \n",
    "\n",
    "<div class=\"alert alert-block alert-info\" style=\"margin-top: 20px\">\n",
    "<li><a href=\"#ref0\">Helper functions </a></li>\n",
    "\n",
    "<li><a href=\"#ref1\"> Prepare Data </a></li>\n",
    "<li><a href=\"#ref2\">Convolutional Neral Network </a></li>\n",
    "<li><a href=\"#ref3\">Define Softmax , Criterion function, Optimizer and Train the  Model</a></li>\n",
    "<li><a href=\"#ref4\">Analyse Results</a></li>\n",
    "\n",
    "<br>\n",
    "<p></p>\n",
    "Estimated Time Needed: <strong>25 min</strong>\n",
    "</div>\n",
    "\n",
    "<hr>"
   ]
  },
  {
   "cell_type": "code",
   "execution_count": 1,
   "metadata": {},
   "outputs": [],
   "source": [
    "import time\n",
    "START_TIME = time.time()\n",
    "\n",
    "import torch \n",
    "import torch.nn as nn\n",
    "import torchvision.transforms as transforms\n",
    "import torchvision.datasets as dsets\n",
    "import matplotlib.pylab as plt\n",
    "import numpy as np\n",
    "import pandas as pd"
   ]
  },
  {
   "cell_type": "code",
   "execution_count": 2,
   "metadata": {},
   "outputs": [
    {
     "data": {
      "text/plain": [
       "<torch._C.Generator at 0x7fc662062270>"
      ]
     },
     "execution_count": 2,
     "metadata": {},
     "output_type": "execute_result"
    }
   ],
   "source": [
    "torch.manual_seed(4)"
   ]
  },
  {
   "cell_type": "code",
   "execution_count": 3,
   "metadata": {},
   "outputs": [
    {
     "name": "stdout",
     "output_type": "stream",
     "text": [
      "True\n",
      "cuda:0\n"
     ]
    }
   ],
   "source": [
    "print(torch.cuda.is_available())\n",
    "DEV = torch.device(\"cuda:0\" if torch.cuda.is_available() else \"cpu\")\n",
    "\n",
    "print(DEV)"
   ]
  },
  {
   "cell_type": "markdown",
   "metadata": {},
   "source": [
    "### Helper functions"
   ]
  },
  {
   "cell_type": "markdown",
   "metadata": {},
   "source": [
    "Define the function *plot_channels* to plot out the kernel parameters of each channel.|"
   ]
  },
  {
   "cell_type": "code",
   "execution_count": 4,
   "metadata": {},
   "outputs": [],
   "source": [
    "def plot_channels(W):\n",
    "    n_out = W.shape[0] # number of output channels \n",
    "    n_in  = W.shape[1] # number of input channels\n",
    "    w_min, w_max = W.min().item(), W.max().item()\n",
    "    \n",
    "    fig, axes = plt.subplots(n_out, n_in)\n",
    "    fig.subplots_adjust(hspace=0.1)\n",
    "    out_ix, in_ix = 0, 0 \n",
    "    # plot outputs as rows,  inputs as columns \n",
    "    for ax in axes.flat:\n",
    "        if in_ix > n_in - 1:\n",
    "            out_ix += 1\n",
    "            in_ix = 0\n",
    "              \n",
    "        ax.imshow(W[out_ix, in_ix, :, :].cpu(), vmin=w_min, vmax=w_max, cmap='seismic')\n",
    "        ax.set_yticklabels([])\n",
    "        ax.set_xticklabels([])\n",
    "        in_ix += 1\n",
    "\n",
    "    plt.show()"
   ]
  },
  {
   "cell_type": "markdown",
   "metadata": {},
   "source": [
    "<code>show_data</code>: plot out data sample"
   ]
  },
  {
   "cell_type": "code",
   "execution_count": 5,
   "metadata": {},
   "outputs": [],
   "source": [
    "def show_data(dataset, sample):\n",
    "    plt.imshow(dataset.x[sample, 0, :, :].numpy(),cmap='gray')\n",
    "    plt.title('y=' + str(dataset.y[sample].item()))\n",
    "    plt.show()"
   ]
  },
  {
   "cell_type": "markdown",
   "metadata": {},
   "source": [
    "Create some toy data:"
   ]
  },
  {
   "cell_type": "code",
   "execution_count": 6,
   "metadata": {},
   "outputs": [],
   "source": [
    "from torch.utils.data import Dataset, DataLoader\n",
    "class Data(Dataset):\n",
    "    def __init__(self, n_img=100, offset=0, p=0.9, train=False):\n",
    "        \"\"\"\n",
    "        p: probability that pixel is white?  \n",
    "        n_img: number of images \n",
    "        offset: set a random vertical and horizontal offset images by a sample, should be less than 3 \n",
    "        \"\"\"\n",
    "        if train: np.random.seed(1)  \n",
    "        \n",
    "        n_img = 2 * (n_img // 2) # make images multiple of 3 \n",
    "        images = np.zeros((n_img, 1, 11, 11))\n",
    "        start1, start2 = 3, 1\n",
    "        self.y = torch.zeros(n_img).type(torch.long)\n",
    "\n",
    "        for n in range(n_img):\n",
    "            if offset > 0:\n",
    "                low = int(np.random.randint(low=start1, high=start1 + offset, size=1))\n",
    "                high = int(np.random.randint(low=start2, high=start2 + offset, size=1))\n",
    "            else:\n",
    "                low=4\n",
    "                high=1\n",
    "        \n",
    "            if n <= n_img//2:\n",
    "                self.y[n] = 0\n",
    "                images[n, 0, high:high + 9, low:low + 3] = np.random.binomial(1, p, (9, 3))\n",
    "            else: # if  n > n_img//2:\n",
    "                self.y[n] = 1\n",
    "                images[n, 0, low:low + 3, high:high + 9] = np.random.binomial(1, p, (3, 9))\n",
    "        #\n",
    "        self.x  = torch.from_numpy(images).type(torch.FloatTensor)\n",
    "        self.len = self.x.shape[0]\n",
    "        del(images)\n",
    "        np.random.seed(0)\n",
    "        \n",
    "    def __getitem__(self, ix):      \n",
    "        return self.x[ix], self.y[ix]\n",
    "      \n",
    "    def __len__(self):\n",
    "        return self.len"
   ]
  },
  {
   "cell_type": "markdown",
   "metadata": {},
   "source": [
    "<code>plot_activation</code>: plot out the activations of the Convolutional layers  "
   ]
  },
  {
   "cell_type": "code",
   "execution_count": 7,
   "metadata": {},
   "outputs": [],
   "source": [
    "def plot_activations(img, num_rows=1, name=\"\"):\n",
    "    img = img[0, :, :, :].cpu().detach().numpy() # <--- \n",
    "    num_activ = img.shape[0]\n",
    "    print(num_activ)\n",
    "    A_min, A_max = img.min().item(), img.max().item()\n",
    "    if num_activ == 1:\n",
    "        ## Plot the image.\n",
    "        plt.imshow(img[0, :], vmin=A_min, vmax=A_max, cmap='seismic')\n",
    "    else:\n",
    "        fig, axes = plt.subplots(num_rows, num_activ // num_rows)\n",
    "        fig.subplots_adjust(hspace = 0.4)\n",
    "        for ix, ax in enumerate(axes.flat):\n",
    "            if ix < num_activ:\n",
    "                ## Set the label for the sub-plot.\n",
    "                ax.set_xlabel( \"activation:{0}\".format(ix + 1))\n",
    "                ## Plot the image.\n",
    "                ax.imshow(img[ix, :], vmin=A_min, vmax=A_max, cmap='seismic')\n",
    "                ax.set_xticks([])\n",
    "                ax.set_yticks([])\n",
    "    plt.show()"
   ]
  },
  {
   "cell_type": "markdown",
   "metadata": {},
   "source": [
    "\n",
    "Utility function for computing output of convolutions\n",
    "takes a tuple (h, w) and returns a tuple (h, w)"
   ]
  },
  {
   "cell_type": "code",
   "execution_count": 8,
   "metadata": {},
   "outputs": [],
   "source": [
    "from math import floor\n",
    "\n",
    "def conv_output_shape(h_w, kernel_size=1, stride=1, pad=0, dilation=1):\n",
    "    ## by Duane Nielsen\n",
    "    if type(kernel_size) is not tuple:\n",
    "        kernel_size = (kernel_size, kernel_size)\n",
    "    #\n",
    "    h = floor( ((h_w[0] + (2 * pad) - (dilation * (kernel_size[0] - 1) ) - 1 ) / stride) + 1)\n",
    "    w = floor( ((h_w[1] + (2 * pad) - (dilation * (kernel_size[1] - 1) ) - 1 ) / stride) + 1)\n",
    "    return h, w"
   ]
  },
  {
   "cell_type": "markdown",
   "metadata": {},
   "source": [
    "### Prepare Data"
   ]
  },
  {
   "cell_type": "markdown",
   "metadata": {},
   "source": [
    "Load the training dataset with 10000 samples "
   ]
  },
  {
   "cell_type": "code",
   "execution_count": 9,
   "metadata": {},
   "outputs": [],
   "source": [
    "N_images = 10000\n",
    "\n",
    "train_dataset = Data(n_img=N_images)"
   ]
  },
  {
   "cell_type": "markdown",
   "metadata": {},
   "source": [
    "Load the testing dataset"
   ]
  },
  {
   "cell_type": "code",
   "execution_count": 10,
   "metadata": {},
   "outputs": [
    {
     "data": {
      "text/plain": [
       "<__main__.Data at 0x7fc658a552d0>"
      ]
     },
     "execution_count": 10,
     "metadata": {},
     "output_type": "execute_result"
    }
   ],
   "source": [
    "validation_dataset = Data(n_img=1000, train=False)\n",
    "validation_dataset"
   ]
  },
  {
   "cell_type": "markdown",
   "metadata": {},
   "source": [
    "we can see the data type is long "
   ]
  },
  {
   "cell_type": "markdown",
   "metadata": {},
   "source": [
    "### Data Visualization "
   ]
  },
  {
   "cell_type": "markdown",
   "metadata": {},
   "source": [
    "Each element in the rectangular  tensor corresponds to a number representing a pixel intensity  as demonstrated by  the following image."
   ]
  },
  {
   "cell_type": "markdown",
   "metadata": {},
   "source": [
    "We can print out the third label "
   ]
  },
  {
   "cell_type": "code",
   "execution_count": 11,
   "metadata": {},
   "outputs": [
    {
     "data": {
      "image/png": "[encoded data removed]",
      "text/plain": [
       "<Figure size 432x288 with 1 Axes>"
      ]
     },
     "metadata": {
      "needs_background": "light"
     },
     "output_type": "display_data"
    }
   ],
   "source": [
    "show_data(train_dataset, 0)"
   ]
  },
  {
   "cell_type": "code",
   "execution_count": 12,
   "metadata": {},
   "outputs": [
    {
     "data": {
      "image/png": "[encoded data removed]",
      "text/plain": [
       "<Figure size 432x288 with 1 Axes>"
      ]
     },
     "metadata": {
      "needs_background": "light"
     },
     "output_type": "display_data"
    }
   ],
   "source": [
    "show_data(train_dataset, N_images//2 + 2)"
   ]
  },
  {
   "cell_type": "markdown",
   "metadata": {},
   "source": [
    "We can plot the 3rd  sample "
   ]
  },
  {
   "cell_type": "markdown",
   "metadata": {},
   "source": [
    "### Build a Convolutional Neral Network Class "
   ]
  },
  {
   "cell_type": "markdown",
   "metadata": {},
   "source": [
    "The input image is 11 x11, the following will change the size of the activations:\n",
    "- 1st convolutional layer\n",
    "- 1st max pooling layer\n",
    "- 2nd convolutional layer\n",
    "- 2nd max pooling layer\n",
    "\n",
    "With the following parameters *kernel_size*, *stride* and *pad*.  \n",
    "We use the following  lines of code to change the image before we get to the *fully connected layer*."
   ]
  },
  {
   "cell_type": "code",
   "execution_count": 13,
   "metadata": {},
   "outputs": [
    {
     "name": "stdout",
     "output_type": "stream",
     "text": [
      "init img, kernel_size=2, stride=1, pad=0, dilation=1 =>  (10, 10)\n",
      "\n",
      "out  img, kernel_size=2, stride=1, pad=0, dilation=1 =>  (9, 9)\n",
      "\n",
      "out1 img, kernel_size=2, stride=1, pad=0, dilation=1 =>  (8, 8)\n",
      "\n",
      "out2 img, kernel_size=2, stride=1, pad=0, dilation=1 =>  (7, 7)\n"
     ]
    }
   ],
   "source": [
    "out = conv_output_shape((11, 11), kernel_size=2, stride=1, pad=0, dilation=1)\n",
    "print(\"init img, kernel_size=2, stride=1, pad=0, dilation=1 => \", out)\n",
    "\n",
    "out1 = conv_output_shape(out, kernel_size=2, stride=1, pad=0, dilation=1)\n",
    "print(\"\\nout  img, kernel_size=2, stride=1, pad=0, dilation=1 => \", out1)\n",
    "\n",
    "out2 = conv_output_shape(out1, kernel_size=2, stride=1, pad=0, dilation=1)\n",
    "print(\"\\nout1 img, kernel_size=2, stride=1, pad=0, dilation=1 => \", out2)\n",
    "\n",
    "out3 = conv_output_shape(out2, kernel_size=2, stride=1, pad=0, dilation=1)\n",
    "print(\"\\nout2 img, kernel_size=2, stride=1, pad=0, dilation=1 => \", out3)"
   ]
  },
  {
   "cell_type": "markdown",
   "metadata": {},
   "source": [
    "Build a Convolutional Network class with:\n",
    "- 2 Convolutional (Conv) layers and \n",
    "- 1 Fully Connected (FC) layer. \n",
    "\n",
    "Pre-determine the size of the final output matrix.  \n",
    "The parameters in the constructor are the number of output channels for the first and second layer."
   ]
  },
  {
   "cell_type": "code",
   "execution_count": 14,
   "metadata": {},
   "outputs": [],
   "source": [
    "class CNN(nn.Module):\n",
    "    def __init__(self, out_1=2, out_2=1):\n",
    "        super().__init__()\n",
    "        ## 1st Convolutional Layer + max pooling\n",
    "        self.cnn1 = nn.Conv2d(in_channels=1, out_channels=out_1, kernel_size=2, padding=0)\n",
    "        self.maxpool1 = nn.MaxPool2d(kernel_size=2, stride=1)\n",
    "        #\n",
    "        ## 2nd Convolutional Layer + max pooling\n",
    "        self.cnn2 = nn.Conv2d(in_channels=out_1, out_channels=out_2, kernel_size=2, stride=1, padding=0)\n",
    "        self.maxpool2 = nn.MaxPool2d(kernel_size=2, stride=1)\n",
    "        #\n",
    "        ## Fully connected layer \n",
    "        self.fc1 = nn.Linear(out_2*7*7, 2) # 49, 2 outputs\n",
    "        \n",
    "    def forward(self, x):\n",
    "        x = self.cnn1(x)          ## 1st Convolutional layer\n",
    "        x = torch.relu(x)         ## activation function \n",
    "        x = self.maxpool1(x)      ## max pooling \n",
    "        #\n",
    "        x = self.cnn2(x)          ## 2nd Convolutional layer\n",
    "        x = torch.relu(x)         ## activation function\n",
    "        x = self.maxpool2(x)      ## max pooling\n",
    "        #\n",
    "        x = x.view(x.size(0), -1) ## flatten output \n",
    "        x = self.fc1(x)           ## fully connected layer\n",
    "        return x\n",
    "    \n",
    "    def activations(self, x):\n",
    "        ## outputs activation - this is not necessary just for fun \n",
    "        x = x.to(DEV) # <--- \n",
    "        z1  = self.cnn1(x)\n",
    "        a1  = torch.relu(z1)\n",
    "        out = self.maxpool1(a1)\n",
    "        #\n",
    "        z2  = self.cnn2(out)\n",
    "        a2  = torch.relu(z2)\n",
    "        out = self.maxpool2(a2)\n",
    "        #\n",
    "        out = out.view(out.size(0),-1)\n",
    "        return z1, a1, z2, a2, out     "
   ]
  },
  {
   "cell_type": "markdown",
   "metadata": {},
   "source": [
    "### Define the Convolutional Neural Network Classifier  \n",
    "    \n",
    "Mode, criterion function, Optimizer and Train the  Model.  \n",
    "There are 2 output channels for the first layer, and 1 outputs channel for the second layer.  \n",
    "We can see the model parameters."
   ]
  },
  {
   "cell_type": "code",
   "execution_count": 15,
   "metadata": {},
   "outputs": [
    {
     "data": {
      "text/plain": [
       "CNN(\n",
       "  (cnn1): Conv2d(1, 2, kernel_size=(2, 2), stride=(1, 1))\n",
       "  (maxpool1): MaxPool2d(kernel_size=2, stride=1, padding=0, dilation=1, ceil_mode=False)\n",
       "  (cnn2): Conv2d(2, 1, kernel_size=(2, 2), stride=(1, 1))\n",
       "  (maxpool2): MaxPool2d(kernel_size=2, stride=1, padding=0, dilation=1, ceil_mode=False)\n",
       "  (fc1): Linear(in_features=49, out_features=2, bias=True)\n",
       ")"
      ]
     },
     "execution_count": 15,
     "metadata": {},
     "output_type": "execute_result"
    }
   ],
   "source": [
    "model = CNN(2, 1)\n",
    "model.to(DEV)\n",
    "model"
   ]
  },
  {
   "cell_type": "markdown",
   "metadata": {},
   "source": [
    "Plot the model parameters for the kernels before training the kernels.  \n",
    "The kernels are initialized randomly."
   ]
  },
  {
   "cell_type": "code",
   "execution_count": 16,
   "metadata": {},
   "outputs": [
    {
     "data": {
      "image/png": "[encoded data removed]",
      "text/plain": [
       "<Figure size 432x288 with 2 Axes>"
      ]
     },
     "metadata": {
      "needs_background": "light"
     },
     "output_type": "display_data"
    }
   ],
   "source": [
    "plot_channels(model.state_dict()['cnn1.weight'])"
   ]
  },
  {
   "cell_type": "code",
   "execution_count": 17,
   "metadata": {},
   "outputs": [
    {
     "data": {
      "image/png": "[encoded data removed]",
      "text/plain": [
       "<Figure size 432x288 with 2 Axes>"
      ]
     },
     "metadata": {
      "needs_background": "light"
     },
     "output_type": "display_data"
    }
   ],
   "source": [
    "plot_channels(model.state_dict()['cnn2.weight'])"
   ]
  },
  {
   "cell_type": "markdown",
   "metadata": {},
   "source": [
    "Define the loss function (cross entropy loss): "
   ]
  },
  {
   "cell_type": "code",
   "execution_count": 18,
   "metadata": {},
   "outputs": [],
   "source": [
    "criterion = nn.CrossEntropyLoss()"
   ]
  },
  {
   "cell_type": "markdown",
   "metadata": {},
   "source": [
    " Define learning rate and optimizer:  "
   ]
  },
  {
   "cell_type": "code",
   "execution_count": 19,
   "metadata": {},
   "outputs": [],
   "source": [
    "learning_rate = 0.001\n",
    "optimizer = torch.optim.Adam(model.parameters(), lr=learning_rate)"
   ]
  },
  {
   "cell_type": "markdown",
   "metadata": {},
   "source": [
    "Define train and validation data (bunch): "
   ]
  },
  {
   "cell_type": "code",
   "execution_count": 20,
   "metadata": {},
   "outputs": [],
   "source": [
    "train_loader = torch.utils.data.DataLoader(dataset=train_dataset, batch_size=10)\n",
    "\n",
    "validation_loader = torch.utils.data.DataLoader(dataset=validation_dataset, batch_size=20)"
   ]
  },
  {
   "cell_type": "markdown",
   "metadata": {},
   "source": [
    "Train the model and determine validation accuracy technically test accuracy **(This may take a long time)**"
   ]
  },
  {
   "cell_type": "code",
   "execution_count": 21,
   "metadata": {},
   "outputs": [
    {
     "name": "stdout",
     "output_type": "stream",
     "text": [
      "elapsed time (s):  15.98471999168396\n"
     ]
    }
   ],
   "source": [
    "n_epochs = 10\n",
    "cost_list, acc_list = [], []\n",
    "n_test = len(validation_dataset)\n",
    "cost = 0\n",
    "\n",
    "start = time.time()\n",
    "for epoch in range(n_epochs):\n",
    "    cost = 0\n",
    "    for x, y in train_loader:  \n",
    "        optimizer.zero_grad()  ## clear gradient\n",
    "        x, y = x.to(DEV), y.to(DEV)\n",
    "        z = model(x)           ## make a prediction \n",
    "        loss = criterion(z, y) ## calculate loss \n",
    "        loss.backward()        ## calculate gradients of parameters \n",
    "        optimizer.step()       ## update parameters \n",
    "        cost += loss.item()\n",
    "    cost_list.append(cost)\n",
    "    #   \n",
    "    correct = 0\n",
    "    for x_test, y_test in validation_loader: ## perform a prediction on the validation data\n",
    "        x_test, y_test = x_test.to(DEV), y_test.to(DEV)\n",
    "        z = model(x_test) \n",
    "        _, yhat = torch.max(z.data, 1)\n",
    "        correct += (yhat == y_test).sum().item()\n",
    "    #\n",
    "    acc = correct / n_test\n",
    "    acc_list.append(acc)\n",
    "\n",
    "print(\"elapsed time (s): \", time.time() - start)"
   ]
  },
  {
   "cell_type": "markdown",
   "metadata": {},
   "source": [
    "### Analyse Results"
   ]
  },
  {
   "cell_type": "markdown",
   "metadata": {},
   "source": [
    "Plot the loss and accuracy on the validation data:"
   ]
  },
  {
   "cell_type": "code",
   "execution_count": 22,
   "metadata": {},
   "outputs": [],
   "source": [
    "def plot_(cost_list, acc_list):\n",
    "  # plt.figure(figsize=(10.1, 8))\n",
    "  fig, ax1 = plt.subplots()\n",
    "  color = 'tab:red'\n",
    "  ax1.plot(cost_list, color=color)\n",
    "  ax1.set_xlabel('epoch',color=color)\n",
    "  ax1.set_ylabel('total loss',color=color)\n",
    "  ax1.tick_params(axis='y', color=color)\n",
    "  #  \n",
    "  ax2 = ax1.twinx()  \n",
    "  color = 'tab:blue'\n",
    "  ax2.set_ylabel('accuracy', color=color)  \n",
    "  ax2.plot(acc_list, color=color)\n",
    "  ax2.tick_params(axis='y', labelcolor=color)\n",
    "  fig.tight_layout()\n",
    "  return "
   ]
  },
  {
   "cell_type": "code",
   "execution_count": 23,
   "metadata": {},
   "outputs": [
    {
     "data": {
      "text/plain": [
       "<Figure size 727.2x576 with 0 Axes>"
      ]
     },
     "metadata": {},
     "output_type": "display_data"
    },
    {
     "data": {
      "image/png": "[encoded data removed]",
      "text/plain": [
       "<Figure size 432x288 with 2 Axes>"
      ]
     },
     "metadata": {
      "needs_background": "light"
     },
     "output_type": "display_data"
    }
   ],
   "source": [
    "plot_(cost_list, acc_list)"
   ]
  },
  {
   "cell_type": "markdown",
   "metadata": {},
   "source": [
    "View the results of the parameters for the Convolutional layers "
   ]
  },
  {
   "cell_type": "code",
   "execution_count": 24,
   "metadata": {},
   "outputs": [
    {
     "data": {
      "text/plain": [
       "tensor([[[[ 0.3660,  0.4754],\n",
       "          [-0.1137, -0.1641]]],\n",
       "\n",
       "\n",
       "        [[[-0.4314, -0.2817],\n",
       "          [ 0.9364,  0.8696]]]], device='cuda:0')"
      ]
     },
     "execution_count": 24,
     "metadata": {},
     "output_type": "execute_result"
    }
   ],
   "source": [
    "model.state_dict()['cnn1.weight']"
   ]
  },
  {
   "cell_type": "code",
   "execution_count": 25,
   "metadata": {},
   "outputs": [
    {
     "data": {
      "image/png": "[encoded data removed]",
      "text/plain": [
       "<Figure size 432x288 with 2 Axes>"
      ]
     },
     "metadata": {
      "needs_background": "light"
     },
     "output_type": "display_data"
    }
   ],
   "source": [
    "plot_channels(model.state_dict()['cnn1.weight'])"
   ]
  },
  {
   "cell_type": "code",
   "execution_count": 26,
   "metadata": {},
   "outputs": [
    {
     "data": {
      "text/plain": [
       "tensor([[[[ 0.3660,  0.4754],\n",
       "          [-0.1137, -0.1641]]],\n",
       "\n",
       "\n",
       "        [[[-0.4314, -0.2817],\n",
       "          [ 0.9364,  0.8696]]]], device='cuda:0')"
      ]
     },
     "execution_count": 26,
     "metadata": {},
     "output_type": "execute_result"
    }
   ],
   "source": [
    "model.state_dict()['cnn1.weight']"
   ]
  },
  {
   "cell_type": "code",
   "execution_count": 27,
   "metadata": {},
   "outputs": [
    {
     "data": {
      "image/png": "[encoded data removed]",
      "text/plain": [
       "<Figure size 432x288 with 2 Axes>"
      ]
     },
     "metadata": {
      "needs_background": "light"
     },
     "output_type": "display_data"
    }
   ],
   "source": [
    "plot_channels(model.state_dict()['cnn2.weight'])"
   ]
  },
  {
   "cell_type": "markdown",
   "metadata": {},
   "source": [
    "Consider the following sample: "
   ]
  },
  {
   "cell_type": "code",
   "execution_count": 28,
   "metadata": {},
   "outputs": [
    {
     "data": {
      "image/png": "[encoded data removed]",
      "text/plain": [
       "<Figure size 432x288 with 1 Axes>"
      ]
     },
     "metadata": {
      "needs_background": "light"
     },
     "output_type": "display_data"
    }
   ],
   "source": [
    "show_data(train_dataset, N_images // 2 + 2)"
   ]
  },
  {
   "cell_type": "markdown",
   "metadata": {},
   "source": [
    "Determine the activations "
   ]
  },
  {
   "cell_type": "code",
   "execution_count": 29,
   "metadata": {},
   "outputs": [],
   "source": [
    "out = model.activations(train_dataset[N_images // 2 + 2][0].view(1, 1, 11, 11))\n",
    "out = model.activations(train_dataset[0][0].view(1, 1, 11, 11))"
   ]
  },
  {
   "cell_type": "markdown",
   "metadata": {},
   "source": [
    "Plot them out"
   ]
  },
  {
   "cell_type": "code",
   "execution_count": 30,
   "metadata": {},
   "outputs": [
    {
     "name": "stdout",
     "output_type": "stream",
     "text": [
      "2\n"
     ]
    },
    {
     "data": {
      "image/png": "[encoded data removed]",
      "text/plain": [
       "<Figure size 432x288 with 2 Axes>"
      ]
     },
     "metadata": {},
     "output_type": "display_data"
    }
   ],
   "source": [
    "plot_activations(out[0], num_rows=1, name=\" feature map\")\n",
    "plt.show()"
   ]
  },
  {
   "cell_type": "code",
   "execution_count": 31,
   "metadata": {},
   "outputs": [
    {
     "name": "stdout",
     "output_type": "stream",
     "text": [
      "1\n"
     ]
    },
    {
     "data": {
      "image/png": "[encoded data removed]",
      "text/plain": [
       "<Figure size 432x288 with 1 Axes>"
      ]
     },
     "metadata": {
      "needs_background": "light"
     },
     "output_type": "display_data"
    }
   ],
   "source": [
    "plot_activations(out[2], num_rows=1, name=\"2nd feature map\")\n",
    "plt.show()"
   ]
  },
  {
   "cell_type": "code",
   "execution_count": 32,
   "metadata": {},
   "outputs": [
    {
     "name": "stdout",
     "output_type": "stream",
     "text": [
      "1\n"
     ]
    },
    {
     "data": {
      "image/png": "[encoded data removed]",
      "text/plain": [
       "<Figure size 432x288 with 1 Axes>"
      ]
     },
     "metadata": {
      "needs_background": "light"
     },
     "output_type": "display_data"
    }
   ],
   "source": [
    "plot_activations(out[3], num_rows=1, name=\"first feature map\")\n",
    "plt.show()"
   ]
  },
  {
   "cell_type": "markdown",
   "metadata": {},
   "source": [
    "We save the output of the activation after flattening  "
   ]
  },
  {
   "cell_type": "code",
   "execution_count": 33,
   "metadata": {},
   "outputs": [],
   "source": [
    "out1 = out[4][0].cpu().detach().numpy()"
   ]
  },
  {
   "cell_type": "markdown",
   "metadata": {},
   "source": [
    "We can do the same for a sample  where y=0: "
   ]
  },
  {
   "cell_type": "code",
   "execution_count": 34,
   "metadata": {},
   "outputs": [
    {
     "data": {
      "text/plain": [
       "array([0.74465394, 1.7766035 , 2.3736956 , 2.3736956 , 2.3736956 ,\n",
       "       2.0033092 , 0.97135955, 0.6001343 , 1.3013442 , 1.730864  ,\n",
       "       1.730864  , 1.730864  , 1.5049968 , 0.8037873 , 0.6001343 ,\n",
       "       1.3013442 , 1.730864  , 1.730864  , 1.730864  , 1.5049968 ,\n",
       "       0.8037873 , 0.62997   , 1.4068213 , 1.8102767 , 1.8102767 ,\n",
       "       1.7896104 , 1.5049968 , 0.8037873 , 0.62997   , 1.4068213 ,\n",
       "       1.8285277 , 1.8867157 , 1.8867157 , 1.5049968 , 0.8037873 ,\n",
       "       0.6788533 , 1.6384139 , 2.2526479 , 2.2526479 , 2.101019  ,\n",
       "       1.5637431 , 0.8037873 , 0.77448964, 1.7917321 , 2.2526479 ,\n",
       "       2.2526479 , 2.101019  , 1.5637431 , 0.8625336 ], dtype=float32)"
      ]
     },
     "execution_count": 34,
     "metadata": {},
     "output_type": "execute_result"
    }
   ],
   "source": [
    "out0 = model.activations(train_dataset[100][0].view(1, 1, 11, 11))[4][0].cpu().detach().numpy()\n",
    "out0"
   ]
  },
  {
   "cell_type": "code",
   "execution_count": 35,
   "metadata": {},
   "outputs": [
    {
     "data": {
      "text/plain": [
       "Text(0, 0.5, 'Activation')"
      ]
     },
     "execution_count": 35,
     "metadata": {},
     "output_type": "execute_result"
    },
    {
     "data": {
      "image/png": "[encoded data removed]",
      "text/plain": [
       "<Figure size 432x288 with 2 Axes>"
      ]
     },
     "metadata": {
      "needs_background": "light"
     },
     "output_type": "display_data"
    }
   ],
   "source": [
    "plt.subplot(2, 1, 1)\n",
    "plt.plot( out1, 'b')\n",
    "plt.title('Flatted Activation Values')\n",
    "plt.ylabel('Activation')\n",
    "plt.xlabel('index')\n",
    "#\n",
    "plt.subplot(2, 1, 2)\n",
    "plt.plot(out0, 'r')\n",
    "plt.xlabel('index')\n",
    "plt.ylabel('Activation')"
   ]
  },
  {
   "cell_type": "code",
   "execution_count": 36,
   "metadata": {},
   "outputs": [
    {
     "name": "stdout",
     "output_type": "stream",
     "text": [
      "elapsed time (s):  20.151211738586426\n"
     ]
    }
   ],
   "source": [
    "# Done\n",
    "print(\"elapsed time (s): \", time.time() - START_TIME)  \n",
    "# gpu:  20.151211738586426\n",
    "# cpu:  29.02483892440796"
   ]
  },
  {
   "cell_type": "markdown",
   "metadata": {},
   "source": [
    "### About the Authors:  \n",
    "[Joseph Santarcangelo]( https://www.linkedin.com/in/joseph-s-50398b136/) has a PhD in Electrical Engineering. His research focused on using machine learning, signal processing, and computer vision to determine how videos impact human cognition. \n",
    "\n",
    "Other contributors: [Michelle Carey](  https://www.linkedin.com/in/michelleccarey/) "
   ]
  },
  {
   "cell_type": "markdown",
   "metadata": {},
   "source": [
    "  <hr>\n",
    "Copyright &copy; 2018 [cognitiveclass.ai](cognitiveclass.ai?utm_source=bducopyrightlink&utm_medium=dswb&utm_campaign=bdu). This notebook and its source code are released under the terms of the [MIT License](https://bigdatauniversity.com/mit-license/)."
   ]
  },
  {
   "cell_type": "code",
   "execution_count": null,
   "metadata": {},
   "outputs": [],
   "source": []
  }
 ],
 "metadata": {
  "kernelspec": {
   "display_name": "Python 3",
   "language": "python",
   "name": "python3"
  },
  "language_info": {
   "codemirror_mode": {
    "name": "ipython",
    "version": 3
   },
   "file_extension": ".py",
   "mimetype": "text/x-python",
   "name": "python",
   "nbconvert_exporter": "python",
   "pygments_lexer": "ipython3",
   "version": "3.7.5"
  }
 },
 "nbformat": 4,
 "nbformat_minor": 2
}
