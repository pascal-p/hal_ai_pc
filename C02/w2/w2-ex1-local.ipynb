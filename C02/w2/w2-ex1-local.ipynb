{
 "cells": [
  {
   "cell_type": "markdown",
   "metadata": {
    "collapsed": true
   },
   "source": [
    "Welcome to exercise one of week two of “Apache Spark for Scalable Machine Learning on BigData”.  \n",
    "In this exercise you’ll read a DataFrame in order to perform a simple statistical analysis. Then you’ll rebalance the dataset. No worries, we’ll explain everything to you, let’s get started.\n",
    "\n",
    "Let’s create a data frame from a remote file by downloading it:\n",
    "\n",
    "\n"
   ]
  },
  {
   "cell_type": "code",
   "execution_count": 1,
   "metadata": {},
   "outputs": [
    {
     "data": {
      "text/html": [
       "\n",
       "            <div>\n",
       "                <p><b>SparkSession - in-memory</b></p>\n",
       "                \n",
       "        <div>\n",
       "            <p><b>SparkContext</b></p>\n",
       "\n",
       "            <p><a href=\"http://turing.corto-nz.home:4040\">Spark UI</a></p>\n",
       "\n",
       "            <dl>\n",
       "              <dt>Version</dt>\n",
       "                <dd><code>v2.4.5</code></dd>\n",
       "              <dt>Master</dt>\n",
       "                <dd><code>local[*]</code></dd>\n",
       "              <dt>AppName</dt>\n",
       "                <dd><code>pyspark-shell</code></dd>\n",
       "            </dl>\n",
       "        </div>\n",
       "        \n",
       "            </div>\n",
       "        "
      ],
      "text/plain": [
       "<pyspark.sql.session.SparkSession at 0x7f35346b70d0>"
      ]
     },
     "execution_count": 1,
     "metadata": {},
     "output_type": "execute_result"
    }
   ],
   "source": [
    "from pyspark import SparkContext, SparkConf\n",
    "from pyspark.sql import SQLContext, SparkSession\n",
    "from pyspark.sql.types import StructType, StructField, DoubleType, IntegerType, StringType\n",
    "\n",
    "sc = SparkContext.getOrCreate(SparkConf().setMaster(\"local[*]\"))\n",
    "\n",
    "from pyspark.sql import SparkSession\n",
    "\n",
    "spark = SparkSession \\\n",
    "    .builder \\\n",
    "    .getOrCreate()\n",
    "\n",
    "spark"
   ]
  },
  {
   "cell_type": "code",
   "execution_count": 2,
   "metadata": {},
   "outputs": [
    {
     "name": "stdout",
     "output_type": "stream",
     "text": [
      "--2020-03-20 08:22:08--  https://github.com/IBM/coursera/raw/master/hmp.parquet\n",
      "Resolving github.com (github.com)... 13.237.44.5\n",
      "Connecting to github.com (github.com)|13.237.44.5|:443... connected.\n",
      "HTTP request sent, awaiting response... 302 Found\n",
      "Location: https://raw.githubusercontent.com/IBM/coursera/master/hmp.parquet [following]\n",
      "--2020-03-20 08:22:09--  https://raw.githubusercontent.com/IBM/coursera/master/hmp.parquet\n",
      "Resolving raw.githubusercontent.com (raw.githubusercontent.com)... 151.101.164.133\n",
      "Connecting to raw.githubusercontent.com (raw.githubusercontent.com)|151.101.164.133|:443... connected.\n",
      "HTTP request sent, awaiting response... 200 OK\n",
      "Length: 932997 (911K) [application/octet-stream]\n",
      "Saving to: ‘hmp.parquet’\n",
      "\n",
      "hmp.parquet         100%[===================>] 911.13K  --.-KB/s    in 0.08s   \n",
      "\n",
      "2020-03-20 08:22:09 (11.3 MB/s) - ‘hmp.parquet’ saved [932997/932997]\n",
      "\n"
     ]
    }
   ],
   "source": [
    "# delete files from previous runs\n",
    "# !rm -f hmp.parquet*\n",
    "\n",
    "# download the file containing the data in PARQUET format\n",
    "# !wget https://github.com/IBM/coursera/raw/master/hmp.parquet"
   ]
  },
  {
   "cell_type": "code",
   "execution_count": 2,
   "metadata": {},
   "outputs": [],
   "source": [
    "# create a dataframe out of it\n",
    "df = spark.read.parquet('hmp.parquet')"
   ]
  },
  {
   "cell_type": "code",
   "execution_count": 3,
   "metadata": {},
   "outputs": [],
   "source": [
    "# register a corresponding query table\n",
    "df.createOrReplaceTempView('df')"
   ]
  },
  {
   "cell_type": "markdown",
   "metadata": {},
   "source": [
    "Let’s have a look at the data set first. This dataset contains sensor recordings from different movement activities as we will see in the next week’s lectures. X, Y and Z contain accelerometer sensor values whereas the class field contains information about which movement has been recorded. The source field is optional and can be used for data lineage since it contains the file name of the original file where the particular row was imported from.\n",
    "\n",
    "More details on the data set can be found here:\n",
    "https://github.com/wchill/HMP_Dataset\n"
   ]
  },
  {
   "cell_type": "code",
   "execution_count": 4,
   "metadata": {},
   "outputs": [
    {
     "name": "stdout",
     "output_type": "stream",
     "text": [
      "+---+---+---+--------------------+-----------+\n",
      "|  x|  y|  z|              source|      class|\n",
      "+---+---+---+--------------------+-----------+\n",
      "| 22| 49| 35|Accelerometer-201...|Brush_teeth|\n",
      "| 22| 49| 35|Accelerometer-201...|Brush_teeth|\n",
      "| 22| 52| 35|Accelerometer-201...|Brush_teeth|\n",
      "| 22| 52| 35|Accelerometer-201...|Brush_teeth|\n",
      "| 21| 52| 34|Accelerometer-201...|Brush_teeth|\n",
      "| 22| 51| 34|Accelerometer-201...|Brush_teeth|\n",
      "| 20| 50| 35|Accelerometer-201...|Brush_teeth|\n",
      "| 22| 52| 34|Accelerometer-201...|Brush_teeth|\n",
      "| 22| 50| 34|Accelerometer-201...|Brush_teeth|\n",
      "| 22| 51| 35|Accelerometer-201...|Brush_teeth|\n",
      "| 21| 51| 33|Accelerometer-201...|Brush_teeth|\n",
      "| 20| 50| 34|Accelerometer-201...|Brush_teeth|\n",
      "| 21| 49| 33|Accelerometer-201...|Brush_teeth|\n",
      "| 21| 49| 33|Accelerometer-201...|Brush_teeth|\n",
      "| 20| 51| 35|Accelerometer-201...|Brush_teeth|\n",
      "| 18| 49| 34|Accelerometer-201...|Brush_teeth|\n",
      "| 19| 48| 34|Accelerometer-201...|Brush_teeth|\n",
      "| 16| 53| 34|Accelerometer-201...|Brush_teeth|\n",
      "| 18| 52| 35|Accelerometer-201...|Brush_teeth|\n",
      "| 18| 51| 32|Accelerometer-201...|Brush_teeth|\n",
      "+---+---+---+--------------------+-----------+\n",
      "only showing top 20 rows\n",
      "\n",
      "root\n",
      " |-- x: integer (nullable = true)\n",
      " |-- y: integer (nullable = true)\n",
      " |-- z: integer (nullable = true)\n",
      " |-- source: string (nullable = true)\n",
      " |-- class: string (nullable = true)\n",
      "\n"
     ]
    }
   ],
   "source": [
    "df.show()\n",
    "df.printSchema()"
   ]
  },
  {
   "cell_type": "markdown",
   "metadata": {},
   "source": [
    "This is a classical classification data set. One thing we always do during data analysis is checking if the classes are balanced. In other words, if there are more or less the same number of example in each class. Let’s find out by a simple aggregation using SQL."
   ]
  },
  {
   "cell_type": "code",
   "execution_count": 5,
   "metadata": {},
   "outputs": [
    {
     "name": "stdout",
     "output_type": "stream",
     "text": [
      "+--------------+--------+\n",
      "|         class|count(1)|\n",
      "+--------------+--------+\n",
      "| Use_telephone|   15225|\n",
      "| Standup_chair|   25417|\n",
      "|      Eat_meat|   31236|\n",
      "|     Getup_bed|   45801|\n",
      "|   Drink_glass|   42792|\n",
      "|    Pour_water|   41673|\n",
      "|     Comb_hair|   23504|\n",
      "|          Walk|   92254|\n",
      "|  Climb_stairs|   40258|\n",
      "| Sitdown_chair|   25036|\n",
      "|   Liedown_bed|   11446|\n",
      "|Descend_stairs|   15375|\n",
      "|   Brush_teeth|   29829|\n",
      "|      Eat_soup|    6683|\n",
      "+--------------+--------+\n",
      "\n"
     ]
    }
   ],
   "source": [
    "spark.sql('select class, count(*) from df group by class').show()"
   ]
  },
  {
   "cell_type": "markdown",
   "metadata": {},
   "source": [
    "As you can see there is quite an imbalance between classes. Before we dig into this, let’s re-write the same query using the DataFrame API – just in case you are not familiar with SQL. As we’ve learned before, it doesn’t matter if you express your queries with SQL or the DataFrame API – it all gets boiled down into the same execution plan optimized by Tungsten and accelerated by Catalyst. You can even mix and match SQL and DataFrame API code if you like.\n",
    "\n",
    "Again, more details on the API can be found here:\n",
    "https://spark.apache.org/docs/latest/api/python/pyspark.sql.html#pyspark.sql.DataFrame\n"
   ]
  },
  {
   "cell_type": "code",
   "execution_count": 6,
   "metadata": {},
   "outputs": [
    {
     "name": "stdout",
     "output_type": "stream",
     "text": [
      "+--------------+-----+\n",
      "|         class|count|\n",
      "+--------------+-----+\n",
      "| Use_telephone|15225|\n",
      "| Standup_chair|25417|\n",
      "|      Eat_meat|31236|\n",
      "|     Getup_bed|45801|\n",
      "|   Drink_glass|42792|\n",
      "|    Pour_water|41673|\n",
      "|     Comb_hair|23504|\n",
      "|          Walk|92254|\n",
      "|  Climb_stairs|40258|\n",
      "| Sitdown_chair|25036|\n",
      "|   Liedown_bed|11446|\n",
      "|Descend_stairs|15375|\n",
      "|   Brush_teeth|29829|\n",
      "|      Eat_soup| 6683|\n",
      "+--------------+-----+\n",
      "\n"
     ]
    }
   ],
   "source": [
    "df.groupBy('class').count().show()"
   ]
  },
  {
   "cell_type": "markdown",
   "metadata": {},
   "source": [
    "Let’s create a bar plot from this data. We’re using the pixidust library, which is Open Source, because of its simplicity. But any other library like matplotlib is fine as well. "
   ]
  },
  {
   "cell_type": "code",
   "execution_count": null,
   "metadata": {
    "pixiedust": {
     "displayParams": {
      "handlerId": "barChart",
      "keyFields": "class",
      "legend": "true",
      "mpld3": "false",
      "orientation": "horizontal",
      "rendererId": "matplotlib",
      "sortby": "Values ASC",
      "valueFields": "count"
     }
    }
   },
   "outputs": [
    {
     "data": {
      "text/html": [
       "<style type=\"text/css\">.pd_warning{display:none;}</style><div class=\"pd_warning\"><em>Hey, there's something awesome here! To see it, open this notebook outside GitHub, in a viewer like Jupyter</em></div>\n",
       "        <div class=\"pd_save is-viewer-good\" style=\"padding-right:10px;text-align: center;line-height:initial !important;font-size: xx-large;font-weight: 500;color: coral;\">\n",
       "            \n",
       "        </div>\n",
       "    <div id=\"chartFiguredd9993ee\" class=\"pd_save is-viewer-good\" style=\"overflow-x:auto\">\n",
       "            \n",
       "                    \n",
       "                            <center><img style=\"max-width:initial !important\" src=\"data:image/png;base64,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\" class=\"pd_save\"></center>\n",
       "                        \n",
       "                    \n",
       "                \n",
       "        </div>"
      ],
      "text/plain": [
       "<IPython.core.display.HTML object>"
      ]
     },
     "metadata": {},
     "output_type": "display_data"
    }
   ],
   "source": [
    "import pixiedust\n",
    "from pyspark.sql.functions import col\n",
    "\n",
    "counts = df.groupBy('class').count().orderBy('count')\n",
    "display(counts)"
   ]
  },
  {
   "cell_type": "markdown",
   "metadata": {},
   "source": [
    "This looks nice, but it would be nice if we can aggregate further to obtain some quantitative metrics on the imbalance like, min, max, mean and standard deviation. If we divide max by min we get a measure called minmax ration which tells us something about the relationship between the smallest and largest class. Again, let’s first use SQL for those of you familiar with SQL. Don’t be scared, we’re used nested sub-selects, basically selecting from a result of a SQL query like it was a table. All within on SQL statement."
   ]
  },
  {
   "cell_type": "code",
   "execution_count": 8,
   "metadata": {},
   "outputs": [
    {
     "name": "stdout",
     "output_type": "stream",
     "text": [
      "+----+-----+------------------+------------------+-----------------+\n",
      "| min|  max|              mean|            stddev|      minmaxratio|\n",
      "+----+-----+------------------+------------------+-----------------+\n",
      "|6683|92254|31894.928571428572|21284.893716741157|13.80427951518779|\n",
      "+----+-----+------------------+------------------+-----------------+\n",
      "\n"
     ]
    }
   ],
   "source": [
    "spark.sql('''\n",
    "    select *, max/min as minmaxratio -- compute minmaxratio based on previously computed values\n",
    "    from (\n",
    "        select \n",
    "            min(ct) as min,       -- compute minimum value of all classes\n",
    "            max(ct) as max,       -- compute maximum value of all classes\n",
    "            mean(ct) as mean,     -- compute mean between all classes\n",
    "            stddev(ct) as stddev  -- compute standard deviation between all classes\n",
    "        from (\n",
    "            select count(*) as ct -- count the number of rows per class and rename it to ct\n",
    "            from df               -- access the temporary query table called df backed by DataFrame df\n",
    "            group by class        -- aggregate over class\n",
    "        )\n",
    "    )   \n",
    "''').show()"
   ]
  },
  {
   "cell_type": "markdown",
   "metadata": {},
   "source": [
    "The same query can be expressed using the DataFrame API. Again, don’t be scared. It’s just a sequential expression of transformation steps. You now an choose which syntax you like better."
   ]
  },
  {
   "cell_type": "code",
   "execution_count": 9,
   "metadata": {},
   "outputs": [
    {
     "name": "stdout",
     "output_type": "stream",
     "text": [
      "+----+-----+------------------+------------------+-----------------+\n",
      "| min|  max|              mean|            stddev|      minmaxratio|\n",
      "+----+-----+------------------+------------------+-----------------+\n",
      "|6683|92254|31894.928571428572|21284.893716741157|13.80427951518779|\n",
      "+----+-----+------------------+------------------+-----------------+\n",
      "\n"
     ]
    }
   ],
   "source": [
    "from pyspark.sql.functions import col, min, max, mean, stddev\n",
    "\n",
    "df \\\n",
    "    .groupBy('class') \\\n",
    "    .count() \\\n",
    "    .select([ \n",
    "        min(col(\"count\")).alias('min'), \n",
    "        max(col(\"count\")).alias('max'), \n",
    "        mean(col(\"count\")).alias('mean'), \n",
    "        stddev(col(\"count\")).alias('stddev') \n",
    "    ]) \\\n",
    "    .select([\n",
    "        col('*'),\n",
    "        (col(\"max\") / col(\"min\")).alias('minmaxratio')\n",
    "    ]) \\\n",
    "    .show()\n"
   ]
  },
  {
   "cell_type": "markdown",
   "metadata": {},
   "source": [
    "Now it’s time for you to work on the data set.  \n",
    "First, please create a table of all classes with the respective counts, but this time, please order the table by the count number, ascending."
   ]
  },
  {
   "cell_type": "code",
   "execution_count": 10,
   "metadata": {},
   "outputs": [],
   "source": [
    "### your code goes here\n",
    "from pyspark.sql.functions import *\n",
    "\n",
    "# my_table = df.groupBy('class') \\\n",
    "#     .count() \\\n",
    "#     .sort(asc(\"count\")) \\\n",
    "#     .select([ \n",
    "#         min(col(\"count\")).alias('min'), \n",
    "#         max(col(\"count\")).alias('max'), \n",
    "#         mean(col(\"count\")).alias('mean'), \n",
    "#         stddev(col(\"count\")).alias('stddev') \n",
    "#     ])\n",
    "\n",
    "my_table = df.groupBy('class') \\\n",
    "    .count() \\\n",
    "    .sort(asc(\"count\"))"
   ]
  },
  {
   "cell_type": "code",
   "execution_count": 11,
   "metadata": {},
   "outputs": [
    {
     "name": "stdout",
     "output_type": "stream",
     "text": [
      "+--------------+-----+\n",
      "|         class|count|\n",
      "+--------------+-----+\n",
      "|      Eat_soup| 6683|\n",
      "|   Liedown_bed|11446|\n",
      "| Use_telephone|15225|\n",
      "|Descend_stairs|15375|\n",
      "|     Comb_hair|23504|\n",
      "| Sitdown_chair|25036|\n",
      "| Standup_chair|25417|\n",
      "|   Brush_teeth|29829|\n",
      "|      Eat_meat|31236|\n",
      "|  Climb_stairs|40258|\n",
      "|    Pour_water|41673|\n",
      "|   Drink_glass|42792|\n",
      "|     Getup_bed|45801|\n",
      "|          Walk|92254|\n",
      "+--------------+-----+\n",
      "\n"
     ]
    }
   ],
   "source": [
    "my_table.show()"
   ]
  },
  {
   "cell_type": "markdown",
   "metadata": {},
   "source": [
    "Pixiedust is a very sophisticated library. It takes care of sorting as well. Please modify the bar chart so that it gets sorted by the number of elements per class, ascending.  \n",
    "Hint: It’s an option available in the UI once rendered using the display() function."
   ]
  },
  {
   "cell_type": "code",
   "execution_count": 12,
   "metadata": {
    "pixiedust": {
     "displayParams": {}
    }
   },
   "outputs": [],
   "source": [
    "### your code goes here\n",
    "# import pixiedust\n",
    "# from pyspark.sql.functions import col\n",
    "\n",
    "# counts = df.groupBy('class').count().orderBy('count')\n",
    "# display(count)\n",
    "\n",
    "# Already done above"
   ]
  },
  {
   "cell_type": "markdown",
   "metadata": {},
   "source": [
    "Imbalanced classes can cause pain in machine learning. Therefore let’s rebalance. In the flowing we limit the number of elements per class to the amount of the least represented class. This is called undersampling. Other ways of rebalancing can be found here:\n",
    "\n",
    "https://machinelearningmastery.com/tactics-to-combat-imbalanced-classes-in-your-machine-learning-dataset/"
   ]
  },
  {
   "cell_type": "code",
   "execution_count": 13,
   "metadata": {},
   "outputs": [],
   "source": [
    "from pyspark.sql.functions import min\n",
    "\n",
    "# create a lot of distinct classes from the dataset\n",
    "classes = [row[0] for row in df.select('class').distinct().collect()]\n",
    "\n",
    "# compute the number of elements of the smallest class in order to limit the number of samples per calss\n",
    "min = df.groupBy('class').count().select(min('count')).first()[0]\n",
    "\n",
    "# define the result dataframe variable\n",
    "df_balanced = None\n",
    "\n",
    "# iterate over distinct classes\n",
    "for cls in classes:\n",
    "    \n",
    "    # only select examples for the specific class within this iteration\n",
    "    # shuffle the order of the elements (by setting fraction to 1.0 sample works like shuffle)\n",
    "    # return only the first n samples\n",
    "    df_temp = df \\\n",
    "        .filter(\"class = '\"+cls+\"'\") \\\n",
    "        .sample(False, 1.0) \\\n",
    "        .limit(min)\n",
    "    \n",
    "    # on first iteration, assing df_temp to empty df_balanced\n",
    "    if df_balanced == None:    \n",
    "        df_balanced = df_temp\n",
    "    # afterwards, append vertically\n",
    "    else:\n",
    "        df_balanced=df_balanced.union(df_temp)"
   ]
  },
  {
   "cell_type": "markdown",
   "metadata": {},
   "source": [
    "Please verify, by using the code cell below, if df_balanced has the same number of elements per class. You should get 6683 elements per class."
   ]
  },
  {
   "cell_type": "code",
   "execution_count": 14,
   "metadata": {},
   "outputs": [
    {
     "name": "stdout",
     "output_type": "stream",
     "text": [
      "+--------------+-----+\n",
      "|         class|count|\n",
      "+--------------+-----+\n",
      "| Use_telephone| 6683|\n",
      "| Standup_chair| 6683|\n",
      "|      Eat_meat| 6683|\n",
      "|     Getup_bed| 6683|\n",
      "|   Drink_glass| 6683|\n",
      "|    Pour_water| 6683|\n",
      "|     Comb_hair| 6683|\n",
      "|          Walk| 6683|\n",
      "|  Climb_stairs| 6683|\n",
      "| Sitdown_chair| 6683|\n",
      "|   Liedown_bed| 6683|\n",
      "|Descend_stairs| 6683|\n",
      "|   Brush_teeth| 6683|\n",
      "|      Eat_soup| 6683|\n",
      "+--------------+-----+\n",
      "\n"
     ]
    }
   ],
   "source": [
    "df_balanced \\\n",
    "    .groupBy('class') \\\n",
    "    .count() \\\n",
    "    .show()"
   ]
  }
 ],
 "metadata": {
  "kernelspec": {
   "display_name": "Python 3",
   "language": "python",
   "name": "python3"
  },
  "language_info": {
   "codemirror_mode": {
    "name": "ipython",
    "version": 3
   },
   "file_extension": ".py",
   "mimetype": "text/x-python",
   "name": "python",
   "nbconvert_exporter": "python",
   "pygments_lexer": "ipython3",
   "version": "3.7.4"
  }
 },
 "nbformat": 4,
 "nbformat_minor": 1
}
