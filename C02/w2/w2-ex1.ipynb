{
 "cells": [
  {
   "cell_type": "markdown",
   "metadata": {
    "collapsed": true
   },
   "source": [
    "Welcome to exercise one of week two of “Apache Spark for Scalable Machine Learning on BigData”.  \n",
    "In this exercise you’ll read a DataFrame in order to perform a simple statistical analysis. Then you’ll rebalance the dataset. No worries, we’ll explain everything to you, let’s get started.\n",
    "\n",
    "Let’s create a data frame from a remote file by downloading it:\n",
    "\n",
    "\n"
   ]
  },
  {
   "cell_type": "code",
   "execution_count": 1,
   "metadata": {},
   "outputs": [
    {
     "name": "stdout",
     "output_type": "stream",
     "text": [
      "Waiting for a Spark session to start...\n",
      "Spark Initialization Done! ApplicationId = app-20200318210308-0000\n",
      "KERNEL_ID = 29269248-fc88-45b2-8d31-91a02ca6ce36\n",
      "--2020-03-18 21:03:11--  https://github.com/IBM/coursera/raw/master/hmp.parquet\n",
      "Resolving github.com (github.com)... 140.82.113.4\n",
      "Connecting to github.com (github.com)|140.82.113.4|:443... connected.\n",
      "HTTP request sent, awaiting response... 302 Found\n",
      "Location: https://raw.githubusercontent.com/IBM/coursera/master/hmp.parquet [following]\n",
      "--2020-03-18 21:03:16--  https://raw.githubusercontent.com/IBM/coursera/master/hmp.parquet\n",
      "Resolving raw.githubusercontent.com (raw.githubusercontent.com)... 151.101.108.133\n",
      "Connecting to raw.githubusercontent.com (raw.githubusercontent.com)|151.101.108.133|:443... connected.\n",
      "HTTP request sent, awaiting response... 200 OK\n",
      "Length: 932997 (911K) [application/octet-stream]\n",
      "Saving to: 'hmp.parquet'\n",
      "\n",
      "100%[======================================>] 932,997     --.-K/s   in 0.03s   \n",
      "\n",
      "2020-03-18 21:03:17 (26.6 MB/s) - 'hmp.parquet' saved [932997/932997]\n",
      "\n"
     ]
    }
   ],
   "source": [
    "# delete files from previous runs\n",
    "!rm -f hmp.parquet*\n",
    "\n",
    "# download the file containing the data in PARQUET format\n",
    "!wget https://github.com/IBM/coursera/raw/master/hmp.parquet\n"
   ]
  },
  {
   "cell_type": "code",
   "execution_count": 1,
   "metadata": {},
   "outputs": [
    {
     "name": "stdout",
     "output_type": "stream",
     "text": [
      "Waiting for a Spark session to start...\n",
      "Spark Initialization Done! ApplicationId = app-20200318213924-0001\n",
      "KERNEL_ID = 29269248-fc88-45b2-8d31-91a02ca6ce36\n"
     ]
    }
   ],
   "source": [
    "# create a dataframe out of it\n",
    "df = spark.read.parquet('hmp.parquet')\n",
    "\n",
    "# register a corresponding query table\n",
    "df.createOrReplaceTempView('df')"
   ]
  },
  {
   "cell_type": "markdown",
   "metadata": {},
   "source": [
    "Let’s have a look at the data set first. This dataset contains sensor recordings from different movement activities as we will see in the next week’s lectures. X, Y and Z contain accelerometer sensor values whereas the class field contains information about which movement has been recorded. The source field is optional and can be used for data lineage since it contains the file name of the original file where the particular row was imported from.\n",
    "\n",
    "More details on the data set can be found here:\n",
    "https://github.com/wchill/HMP_Dataset\n"
   ]
  },
  {
   "cell_type": "code",
   "execution_count": 2,
   "metadata": {},
   "outputs": [
    {
     "name": "stdout",
     "output_type": "stream",
     "text": [
      "+---+---+---+--------------------+-----------+\n",
      "|  x|  y|  z|              source|      class|\n",
      "+---+---+---+--------------------+-----------+\n",
      "| 22| 49| 35|Accelerometer-201...|Brush_teeth|\n",
      "| 22| 49| 35|Accelerometer-201...|Brush_teeth|\n",
      "| 22| 52| 35|Accelerometer-201...|Brush_teeth|\n",
      "| 22| 52| 35|Accelerometer-201...|Brush_teeth|\n",
      "| 21| 52| 34|Accelerometer-201...|Brush_teeth|\n",
      "| 22| 51| 34|Accelerometer-201...|Brush_teeth|\n",
      "| 20| 50| 35|Accelerometer-201...|Brush_teeth|\n",
      "| 22| 52| 34|Accelerometer-201...|Brush_teeth|\n",
      "| 22| 50| 34|Accelerometer-201...|Brush_teeth|\n",
      "| 22| 51| 35|Accelerometer-201...|Brush_teeth|\n",
      "| 21| 51| 33|Accelerometer-201...|Brush_teeth|\n",
      "| 20| 50| 34|Accelerometer-201...|Brush_teeth|\n",
      "| 21| 49| 33|Accelerometer-201...|Brush_teeth|\n",
      "| 21| 49| 33|Accelerometer-201...|Brush_teeth|\n",
      "| 20| 51| 35|Accelerometer-201...|Brush_teeth|\n",
      "| 18| 49| 34|Accelerometer-201...|Brush_teeth|\n",
      "| 19| 48| 34|Accelerometer-201...|Brush_teeth|\n",
      "| 16| 53| 34|Accelerometer-201...|Brush_teeth|\n",
      "| 18| 52| 35|Accelerometer-201...|Brush_teeth|\n",
      "| 18| 51| 32|Accelerometer-201...|Brush_teeth|\n",
      "+---+---+---+--------------------+-----------+\n",
      "only showing top 20 rows\n",
      "\n",
      "root\n",
      " |-- x: integer (nullable = true)\n",
      " |-- y: integer (nullable = true)\n",
      " |-- z: integer (nullable = true)\n",
      " |-- source: string (nullable = true)\n",
      " |-- class: string (nullable = true)\n",
      "\n"
     ]
    }
   ],
   "source": [
    "df.show()\n",
    "df.printSchema()"
   ]
  },
  {
   "cell_type": "markdown",
   "metadata": {},
   "source": [
    "This is a classical classification data set. One thing we always do during data analysis is checking if the classes are balanced. In other words, if there are more or less the same number of example in each class. Let’s find out by a simple aggregation using SQL."
   ]
  },
  {
   "cell_type": "code",
   "execution_count": 3,
   "metadata": {},
   "outputs": [
    {
     "name": "stdout",
     "output_type": "stream",
     "text": [
      "+--------------+--------+\n",
      "|         class|count(1)|\n",
      "+--------------+--------+\n",
      "| Use_telephone|   15225|\n",
      "| Standup_chair|   25417|\n",
      "|      Eat_meat|   31236|\n",
      "|     Getup_bed|   45801|\n",
      "|   Drink_glass|   42792|\n",
      "|    Pour_water|   41673|\n",
      "|     Comb_hair|   23504|\n",
      "|          Walk|   92254|\n",
      "|  Climb_stairs|   40258|\n",
      "| Sitdown_chair|   25036|\n",
      "|   Liedown_bed|   11446|\n",
      "|Descend_stairs|   15375|\n",
      "|   Brush_teeth|   29829|\n",
      "|      Eat_soup|    6683|\n",
      "+--------------+--------+\n",
      "\n"
     ]
    }
   ],
   "source": [
    "spark.sql('select class, count(*) from df group by class').show()"
   ]
  },
  {
   "cell_type": "markdown",
   "metadata": {},
   "source": [
    "As you can see there is quite an imbalance between classes. Before we dig into this, let’s re-write the same query using the DataFrame API – just in case you are not familiar with SQL. As we’ve learned before, it doesn’t matter if you express your queries with SQL or the DataFrame API – it all gets boiled down into the same execution plan optimized by Tungsten and accelerated by Catalyst. You can even mix and match SQL and DataFrame API code if you like.\n",
    "\n",
    "Again, more details on the API can be found here:\n",
    "https://spark.apache.org/docs/latest/api/python/pyspark.sql.html#pyspark.sql.DataFrame\n"
   ]
  },
  {
   "cell_type": "code",
   "execution_count": 4,
   "metadata": {},
   "outputs": [
    {
     "name": "stdout",
     "output_type": "stream",
     "text": [
      "+--------------+-----+\n",
      "|         class|count|\n",
      "+--------------+-----+\n",
      "| Use_telephone|15225|\n",
      "| Standup_chair|25417|\n",
      "|      Eat_meat|31236|\n",
      "|     Getup_bed|45801|\n",
      "|   Drink_glass|42792|\n",
      "|    Pour_water|41673|\n",
      "|     Comb_hair|23504|\n",
      "|          Walk|92254|\n",
      "|  Climb_stairs|40258|\n",
      "| Sitdown_chair|25036|\n",
      "|   Liedown_bed|11446|\n",
      "|Descend_stairs|15375|\n",
      "|   Brush_teeth|29829|\n",
      "|      Eat_soup| 6683|\n",
      "+--------------+-----+\n",
      "\n"
     ]
    }
   ],
   "source": [
    "df.groupBy('class').count().show()"
   ]
  },
  {
   "cell_type": "markdown",
   "metadata": {},
   "source": [
    "Let’s create a bar plot from this data. We’re using the pixidust library, which is Open Source, because of its simplicity. But any other library like matplotlib is fine as well. "
   ]
  },
  {
   "cell_type": "code",
   "execution_count": 4,
   "metadata": {
    "pixiedust": {
     "displayParams": {
      "handlerId": "barChart",
      "keyFields": "class",
      "legend": "true",
      "mpld3": "false",
      "orientation": "horizontal",
      "rendererId": "matplotlib",
      "sortby": "Values ASC",
      "valueFields": "count"
     }
    }
   },
   "outputs": [
    {
     "data": {
      "text/html": [
       "<style type=\"text/css\">.pd_warning{display:none;}</style><div class=\"pd_warning\"><em>Hey, there's something awesome here! To see it, open this notebook outside GitHub, in a viewer like Jupyter</em></div>\n",
       "        <div class=\"pd_save is-viewer-good\" style=\"padding-right:10px;text-align: center;line-height:initial !important;font-size: xx-large;font-weight: 500;color: coral;\">\n",
       "            \n",
       "        </div>\n",
       "    <div id=\"chartFiguref75e156a\" class=\"pd_save is-viewer-good\" style=\"overflow-x:auto\">\n",
       "            \n",
       "                    \n",
       "                            <center><img style=\"max-width:initial !important\" src=\"data:image/png;base64,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\" class=\"pd_save\"></center>\n",
       "                        \n",
       "                    \n",
       "                \n",
       "        </div>"
      ],
      "text/plain": [
       "<IPython.core.display.HTML object>"
      ]
     },
     "metadata": {},
     "output_type": "display_data"
    }
   ],
   "source": [
    "import pixiedust\n",
    "from pyspark.sql.functions import col\n",
    "\n",
    "counts = df.groupBy('class').count().orderBy('count')\n",
    "display(counts)"
   ]
  },
  {
   "cell_type": "markdown",
   "metadata": {},
   "source": [
    "This looks nice, but it would be nice if we can aggregate further to obtain some quantitative metrics on the imbalance like, min, max, mean and standard deviation. If we divide max by min we get a measure called minmax ration which tells us something about the relationship between the smallest and largest class. Again, let’s first use SQL for those of you familiar with SQL. Don’t be scared, we’re used nested sub-selects, basically selecting from a result of a SQL query like it was a table. All within on SQL statement."
   ]
  },
  {
   "cell_type": "code",
   "execution_count": 5,
   "metadata": {},
   "outputs": [
    {
     "name": "stdout",
     "output_type": "stream",
     "text": [
      "+----+-----+------------------+------------------+-----------------+\n",
      "| min|  max|              mean|            stddev|      minmaxratio|\n",
      "+----+-----+------------------+------------------+-----------------+\n",
      "|6683|92254|31894.928571428572|21284.893716741157|13.80427951518779|\n",
      "+----+-----+------------------+------------------+-----------------+\n",
      "\n"
     ]
    }
   ],
   "source": [
    "spark.sql('''\n",
    "    select *, max/min as minmaxratio -- compute minmaxratio based on previously computed values\n",
    "    from (\n",
    "        select \n",
    "            min(ct) as min,       -- compute minimum value of all classes\n",
    "            max(ct) as max,       -- compute maximum value of all classes\n",
    "            mean(ct) as mean,     -- compute mean between all classes\n",
    "            stddev(ct) as stddev  -- compute standard deviation between all classes\n",
    "        from (\n",
    "            select count(*) as ct -- count the number of rows per class and rename it to ct\n",
    "            from df               -- access the temporary query table called df backed by DataFrame df\n",
    "            group by class        -- aggregate over class\n",
    "        )\n",
    "    )   \n",
    "''').show()"
   ]
  },
  {
   "cell_type": "markdown",
   "metadata": {},
   "source": [
    "The same query can be expressed using the DataFrame API. Again, don’t be scared. It’s just a sequential expression of transformation steps. You now an choose which syntax you like better."
   ]
  },
  {
   "cell_type": "code",
   "execution_count": 6,
   "metadata": {},
   "outputs": [
    {
     "name": "stdout",
     "output_type": "stream",
     "text": [
      "+----+-----+------------------+------------------+-----------------+\n",
      "| min|  max|              mean|            stddev|      minmaxratio|\n",
      "+----+-----+------------------+------------------+-----------------+\n",
      "|6683|92254|31894.928571428572|21284.893716741157|13.80427951518779|\n",
      "+----+-----+------------------+------------------+-----------------+\n",
      "\n"
     ]
    }
   ],
   "source": [
    "from pyspark.sql.functions import col, min, max, mean, stddev\n",
    "\n",
    "df \\\n",
    "    .groupBy('class') \\\n",
    "    .count() \\\n",
    "    .select([ \n",
    "        min(col(\"count\")).alias('min'), \n",
    "        max(col(\"count\")).alias('max'), \n",
    "        mean(col(\"count\")).alias('mean'), \n",
    "        stddev(col(\"count\")).alias('stddev') \n",
    "    ]) \\\n",
    "    .select([\n",
    "        col('*'),\n",
    "        (col(\"max\") / col(\"min\")).alias('minmaxratio')\n",
    "    ]) \\\n",
    "    .show()\n"
   ]
  },
  {
   "cell_type": "markdown",
   "metadata": {},
   "source": [
    "Now it’s time for you to work on the data set.  \n",
    "First, please create a table of all classes with the respective counts, but this time, please order the table by the count number, ascending."
   ]
  },
  {
   "cell_type": "code",
   "execution_count": 9,
   "metadata": {},
   "outputs": [],
   "source": [
    "### your code goes here\n",
    "from pyspark.sql.functions import *\n",
    "\n",
    "# my_table = df.groupBy('class') \\\n",
    "#     .count() \\\n",
    "#     .sort(asc(\"count\")) \\\n",
    "#     .select([ \n",
    "#         min(col(\"count\")).alias('min'), \n",
    "#         max(col(\"count\")).alias('max'), \n",
    "#         mean(col(\"count\")).alias('mean'), \n",
    "#         stddev(col(\"count\")).alias('stddev') \n",
    "#     ])\n",
    "\n",
    "my_table = df.groupBy('class') \\\n",
    "    .count() \\\n",
    "    .sort(asc(\"count\"))"
   ]
  },
  {
   "cell_type": "code",
   "execution_count": 10,
   "metadata": {},
   "outputs": [
    {
     "name": "stdout",
     "output_type": "stream",
     "text": [
      "+--------------+-----+\n",
      "|         class|count|\n",
      "+--------------+-----+\n",
      "|      Eat_soup| 6683|\n",
      "|   Liedown_bed|11446|\n",
      "| Use_telephone|15225|\n",
      "|Descend_stairs|15375|\n",
      "|     Comb_hair|23504|\n",
      "| Sitdown_chair|25036|\n",
      "| Standup_chair|25417|\n",
      "|   Brush_teeth|29829|\n",
      "|      Eat_meat|31236|\n",
      "|  Climb_stairs|40258|\n",
      "|    Pour_water|41673|\n",
      "|   Drink_glass|42792|\n",
      "|     Getup_bed|45801|\n",
      "|          Walk|92254|\n",
      "+--------------+-----+\n",
      "\n"
     ]
    }
   ],
   "source": [
    "my_table.show()"
   ]
  },
  {
   "cell_type": "markdown",
   "metadata": {},
   "source": [
    "Pixiedust is a very sophisticated library. It takes care of sorting as well. Please modify the bar chart so that it gets sorted by the number of elements per class, ascending.  \n",
    "Hint: It’s an option available in the UI once rendered using the display() function."
   ]
  },
  {
   "cell_type": "code",
   "execution_count": 17,
   "metadata": {
    "pixiedust": {
     "displayParams": {}
    }
   },
   "outputs": [
    {
     "data": {
      "text/plain": [
       "<function pyspark.sql.functions._create_function.<locals>._>"
      ]
     },
     "metadata": {},
     "output_type": "display_data"
    }
   ],
   "source": [
    "### your code goes here\n",
    "# import pixiedust\n",
    "# from pyspark.sql.functions import col\n",
    "\n",
    "# counts = df.groupBy('class').count().orderBy('count')\n",
    "# display(count)\n",
    "\n",
    "# Already done above"
   ]
  },
  {
   "cell_type": "markdown",
   "metadata": {},
   "source": [
    "Imbalanced classes can cause pain in machine learning. Therefore let’s rebalance. In the flowing we limit the number of elements per class to the amount of the least represented class. This is called undersampling. Other ways of rebalancing can be found here:\n",
    "\n",
    "https://machinelearningmastery.com/tactics-to-combat-imbalanced-classes-in-your-machine-learning-dataset/"
   ]
  },
  {
   "cell_type": "code",
   "execution_count": 11,
   "metadata": {},
   "outputs": [],
   "source": [
    "from pyspark.sql.functions import min\n",
    "\n",
    "# create a lot of distinct classes from the dataset\n",
    "classes = [row[0] for row in df.select('class').distinct().collect()]\n",
    "\n",
    "# compute the number of elements of the smallest class in order to limit the number of samples per calss\n",
    "min = df.groupBy('class').count().select(min('count')).first()[0]\n",
    "\n",
    "# define the result dataframe variable\n",
    "df_balanced = None\n",
    "\n",
    "# iterate over distinct classes\n",
    "for cls in classes:\n",
    "    \n",
    "    # only select examples for the specific class within this iteration\n",
    "    # shuffle the order of the elements (by setting fraction to 1.0 sample works like shuffle)\n",
    "    # return only the first n samples\n",
    "    df_temp = df \\\n",
    "        .filter(\"class = '\"+cls+\"'\") \\\n",
    "        .sample(False, 1.0) \\\n",
    "        .limit(min)\n",
    "    \n",
    "    # on first iteration, assing df_temp to empty df_balanced\n",
    "    if df_balanced == None:    \n",
    "        df_balanced = df_temp\n",
    "    # afterwards, append vertically\n",
    "    else:\n",
    "        df_balanced=df_balanced.union(df_temp)"
   ]
  },
  {
   "cell_type": "markdown",
   "metadata": {},
   "source": [
    "Please verify, by using the code cell below, if df_balanced has the same number of elements per class. You should get 6683 elements per class."
   ]
  },
  {
   "cell_type": "code",
   "execution_count": 13,
   "metadata": {},
   "outputs": [
    {
     "name": "stdout",
     "output_type": "stream",
     "text": [
      "+--------------+-----+\n",
      "|         class|count|\n",
      "+--------------+-----+\n",
      "| Use_telephone| 6683|\n",
      "| Standup_chair| 6683|\n",
      "|      Eat_meat| 6683|\n",
      "|     Getup_bed| 6683|\n",
      "|   Drink_glass| 6683|\n",
      "|    Pour_water| 6683|\n",
      "|     Comb_hair| 6683|\n",
      "|          Walk| 6683|\n",
      "|  Climb_stairs| 6683|\n",
      "| Sitdown_chair| 6683|\n",
      "|   Liedown_bed| 6683|\n",
      "|Descend_stairs| 6683|\n",
      "|   Brush_teeth| 6683|\n",
      "|      Eat_soup| 6683|\n",
      "+--------------+-----+\n",
      "\n"
     ]
    }
   ],
   "source": [
    "df_balanced \\\n",
    "    .groupBy('class') \\\n",
    "    .count() \\\n",
    "    .show()"
   ]
  }
 ],
 "metadata": {
  "kernelspec": {
   "display_name": "Python 3",
   "language": "python",
   "name": "python3"
  },
  "language_info": {
   "codemirror_mode": {
    "name": "ipython",
    "version": 3
   },
   "file_extension": ".py",
   "mimetype": "text/x-python",
   "name": "python",
   "nbconvert_exporter": "python",
   "pygments_lexer": "ipython3",
   "version": "3.7.4"
  }
 },
 "nbformat": 4,
 "nbformat_minor": 1
}
